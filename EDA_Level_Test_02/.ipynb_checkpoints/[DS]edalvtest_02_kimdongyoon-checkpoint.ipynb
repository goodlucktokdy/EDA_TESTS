{
 "cells": [
  {
   "cell_type": "markdown",
   "metadata": {
    "id": "KXXC5Y_5cf75"
   },
   "source": [
    "<div align=\"center\">\n",
    "    <img src=\"images/zb-logo.png\" alt=\"제로베이스\" width=\"100%\">\n",
    "    <br>\n",
    "    <a href=\"https://zerobaseschool.notion.site/DS-EDA-Lv-Test-b7d5e895c7cd4dda813c8fe2f2c23f79\"><img src=\"images/openinnotion_logo.png\" alt=\"EDA Lv Test Doc\" width=\"12%\"></a>\n",
    "\n",
    "이 Jupyter Notebook 파일은 <a href=\"https://zero-base.co.kr/category_data_camp/school_DS\">제로베이스</a>에서 제공하는 **EDA Level Test** 문제입니다.<br>\n",
    "지금까지 공부하신 내용으로 데이터 분석에 대해 좀 더 연습할 수 있는 시간이 되셨으면 좋겠습니다.🙂<br>\n",
    "**EDA Level Test**에 대한 안내 사항은 상단 **Open in ZeroBase Notion** 로고를 클릭하여 확인해주세요!<br>\n",
    "반드시 시작 전에 내용을 숙지해주시기를 바랍니다!<br>\n",
    "</div>\n",
    "\n",
    "***"
   ]
  },
  {
   "cell_type": "markdown",
   "metadata": {
    "id": "8kneuvF4WE0Y"
   },
   "source": []
  },
  {
   "cell_type": "markdown",
   "metadata": {
    "id": "4nJcM1Zxcf78"
   },
   "source": [
    "<h1 style=\"background-color:#9F81F7;color:#D8D8D8;font-weight:bold;display:inline-block;padding: 5px\">EDA Level Test 02 ⭐️⭐️⭐️</h1>\n",
    "\n",
    "| Week | Data Analysis | Difficulty | This Notebook |\n",
    "|------|---------------|------------|-------|\n",
    "| 1    | 서울시 인구 데이터 | ⭐️ ||\n",
    "| 2    | 화장품 성분 데이터 | ⭐️⭐️⭐️ |👈|\n",
    "| 3    | 올림픽 데이터 | ⭐️⭐️ ||\n",
    "| 4    | 국가별 인터넷 사용률 데이터 |⭐️⭐️ ||\n",
    "| 5    | 전국 박물관/미술관 정보 표준 데이터 | ⭐️⭐️⭐️ ||\n",
    "| 6    | 서울시 흡연율 통계 데이터 | ⭐️⭐️ ||\n",
    "| 7    | 웹크롤링 | ⭐️ ||\n",
    "| 8    | 서울시 지하철 호선별 역별 유/무임 승하차 인원 정보 데이터 | ⭐️⭐️ ||\n",
    "| 9    | 서울시 교통사고 현황 (사고유형별) 통계 데이터 | ⭐️⭐️ ||\n",
    "| 10   | 서울시 교통사고 현황 (사고유형별) 통계 + 서울시 차량통행속도 (구별/월별) 통계 + 서울시 인구밀도 (구별) 통계 | ⭐️⭐️⭐️ ||"
   ]
  },
  {
   "cell_type": "markdown",
   "metadata": {
    "id": "b11X7J_kcf79"
   },
   "source": [
    "## 문제 소개 및 데이터 준비 단계\n",
    "- 해당 EDA Level TEST는 기업연계프로젝트 실무 사례 중 일부분입니다.\n",
    "- 따라서, 난이도가 조금 있을 수 있습니다.\n",
    "- 이점 참고하시어, 학습에 도움이 되셨으면 좋겠습니다 🙂\n",
    "\n",
    "<div style=\"border: 1px solid black; padding: 10px;\">\n",
    "\n",
    "- 총 3단계 데이터 분석 상황 제시\n",
    "    - 총점 100점\n",
    "<br></br>\n",
    "- 1단계 DataFrame 불러오기 & 기초 전처리\n",
    "- 2단계 전처리\n",
    "- 3단계 Mapping\n",
    "\n",
    "### 데이터 원본 출처\n",
    "\n",
    "#### Target Data(CSV): 화장품의 종류, 브랜드, 제품명, 성분명 등이 포함된 csv 파일\n",
    "- Source: [Kaggle](https://www.kaggle.com/datasets/kingabzpro/cosmetics-datasets)\n",
    "- DownLoad: [archive.zip](https://www.kaggle.com/datasets/kingabzpro/cosmetics-datasets/download)\n",
    "\n",
    "#### 성분 사전: 화장품 전성분의 한글명, 표준영문명, 구명칭, 구 영문명이 포함된 pdf 파일\n",
    "- Source: [대한 화장품협회](https://kcia.or.kr/cid/search/ingd_list.php?skind=ALL&sword=Lactobacillus%2FCornus+Officinalis+Fruit%2FAngelica+&sword2=)\n",
    "- DownLoad: [별첨1. 표준화명칭목록_220530.pdf](https://kcia.or.kr/cid/files/%ED%91%9C%EC%A4%80%ED%99%94%EB%AA%85%EC%B9%AD%EB%AA%A9%EB%A1%9D)\n",
    "\n",
    "### 참고사항\n",
    "- pdf를 Pandas DataFrame으로 변환하기 위해 Tabula 등의 Library를 사용할 수 있음.\n",
    "- 혹, 설치시 오류가 발생하거나 코드 실행에 어려움을 겪을 경우 해당 pdf를 읽어 만든 pickle 파일 제공(ingredients_list.pkl)\n",
    "- 해당 pickle파일은 List형태로 되어 있으며, List 내의 Elements는 각 페이지별 표가 dataframe 형태로 되어 있음\n",
    "    - ex: [df1, df2, df3, ...]\n",
    "\n",
    "</div>"
   ]
  },
  {
   "cell_type": "code",
   "execution_count": 1,
   "metadata": {
    "colab": {
     "base_uri": "https://localhost:8080/",
     "height": 401
    },
    "executionInfo": {
     "elapsed": 487,
     "status": "error",
     "timestamp": 1693484424797,
     "user": {
      "displayName": "홍이준",
      "userId": "06493270036541631767"
     },
     "user_tz": -540
    },
    "id": "c7DwTVvLcf79",
    "outputId": "0ee6618b-57a6-4010-898a-b12c2a3cf2cc"
   },
   "outputs": [
    {
     "data": {
      "text/html": [
       "<div>\n",
       "<style scoped>\n",
       "    .dataframe tbody tr th:only-of-type {\n",
       "        vertical-align: middle;\n",
       "    }\n",
       "\n",
       "    .dataframe tbody tr th {\n",
       "        vertical-align: top;\n",
       "    }\n",
       "\n",
       "    .dataframe thead th {\n",
       "        text-align: right;\n",
       "    }\n",
       "</style>\n",
       "<table border=\"1\" class=\"dataframe\">\n",
       "  <thead>\n",
       "    <tr style=\"text-align: right;\">\n",
       "      <th></th>\n",
       "      <th>Label</th>\n",
       "      <th>Brand</th>\n",
       "      <th>Name</th>\n",
       "      <th>Price</th>\n",
       "      <th>Rank</th>\n",
       "      <th>Ingredients</th>\n",
       "      <th>Combination</th>\n",
       "      <th>Dry</th>\n",
       "      <th>Normal</th>\n",
       "      <th>Oily</th>\n",
       "      <th>Sensitive</th>\n",
       "    </tr>\n",
       "  </thead>\n",
       "  <tbody>\n",
       "    <tr>\n",
       "      <th>0</th>\n",
       "      <td>Moisturizer</td>\n",
       "      <td>LA MER</td>\n",
       "      <td>Crème de la Mer</td>\n",
       "      <td>175</td>\n",
       "      <td>4.1</td>\n",
       "      <td>Algae (Seaweed) Extract, Mineral Oil, Petrolat...</td>\n",
       "      <td>1</td>\n",
       "      <td>1</td>\n",
       "      <td>1</td>\n",
       "      <td>1</td>\n",
       "      <td>1</td>\n",
       "    </tr>\n",
       "    <tr>\n",
       "      <th>1</th>\n",
       "      <td>Moisturizer</td>\n",
       "      <td>SK-II</td>\n",
       "      <td>Facial Treatment Essence</td>\n",
       "      <td>179</td>\n",
       "      <td>4.1</td>\n",
       "      <td>Galactomyces Ferment Filtrate (Pitera), Butyle...</td>\n",
       "      <td>1</td>\n",
       "      <td>1</td>\n",
       "      <td>1</td>\n",
       "      <td>1</td>\n",
       "      <td>1</td>\n",
       "    </tr>\n",
       "    <tr>\n",
       "      <th>2</th>\n",
       "      <td>Moisturizer</td>\n",
       "      <td>DRUNK ELEPHANT</td>\n",
       "      <td>Protini™ Polypeptide Cream</td>\n",
       "      <td>68</td>\n",
       "      <td>4.4</td>\n",
       "      <td>Water, Dicaprylyl Carbonate, Glycerin, Ceteary...</td>\n",
       "      <td>1</td>\n",
       "      <td>1</td>\n",
       "      <td>1</td>\n",
       "      <td>1</td>\n",
       "      <td>0</td>\n",
       "    </tr>\n",
       "    <tr>\n",
       "      <th>3</th>\n",
       "      <td>Moisturizer</td>\n",
       "      <td>LA MER</td>\n",
       "      <td>The Moisturizing Soft Cream</td>\n",
       "      <td>175</td>\n",
       "      <td>3.8</td>\n",
       "      <td>Algae (Seaweed) Extract, Cyclopentasiloxane, P...</td>\n",
       "      <td>1</td>\n",
       "      <td>1</td>\n",
       "      <td>1</td>\n",
       "      <td>1</td>\n",
       "      <td>1</td>\n",
       "    </tr>\n",
       "    <tr>\n",
       "      <th>4</th>\n",
       "      <td>Moisturizer</td>\n",
       "      <td>IT COSMETICS</td>\n",
       "      <td>Your Skin But Better™ CC+™ Cream with SPF 50+</td>\n",
       "      <td>38</td>\n",
       "      <td>4.1</td>\n",
       "      <td>Water, Snail Secretion Filtrate, Phenyl Trimet...</td>\n",
       "      <td>1</td>\n",
       "      <td>1</td>\n",
       "      <td>1</td>\n",
       "      <td>1</td>\n",
       "      <td>1</td>\n",
       "    </tr>\n",
       "  </tbody>\n",
       "</table>\n",
       "</div>"
      ],
      "text/plain": [
       "         Label           Brand                                           Name  \\\n",
       "0  Moisturizer          LA MER                                Crème de la Mer   \n",
       "1  Moisturizer           SK-II                       Facial Treatment Essence   \n",
       "2  Moisturizer  DRUNK ELEPHANT                     Protini™ Polypeptide Cream   \n",
       "3  Moisturizer          LA MER                    The Moisturizing Soft Cream   \n",
       "4  Moisturizer    IT COSMETICS  Your Skin But Better™ CC+™ Cream with SPF 50+   \n",
       "\n",
       "   Price  Rank                                        Ingredients  \\\n",
       "0    175   4.1  Algae (Seaweed) Extract, Mineral Oil, Petrolat...   \n",
       "1    179   4.1  Galactomyces Ferment Filtrate (Pitera), Butyle...   \n",
       "2     68   4.4  Water, Dicaprylyl Carbonate, Glycerin, Ceteary...   \n",
       "3    175   3.8  Algae (Seaweed) Extract, Cyclopentasiloxane, P...   \n",
       "4     38   4.1  Water, Snail Secretion Filtrate, Phenyl Trimet...   \n",
       "\n",
       "   Combination  Dry  Normal  Oily  Sensitive  \n",
       "0            1    1       1     1          1  \n",
       "1            1    1       1     1          1  \n",
       "2            1    1       1     1          0  \n",
       "3            1    1       1     1          1  \n",
       "4            1    1       1     1          1  "
      ]
     },
     "execution_count": 1,
     "metadata": {},
     "output_type": "execute_result"
    }
   ],
   "source": [
    "import pandas as pd\n",
    "# 채점을 위한 코드입니다. 반드시 실행해주세요.\n",
    "from grading import *\n",
    "\n",
    "df_target = pd.read_csv('./datas/cosmetics.csv')\n",
    "df_target = df_target.iloc[:5] # 5개의 row만 사용합니다\n",
    "df_target"
   ]
  },
  {
   "cell_type": "markdown",
   "metadata": {
    "id": "qVGB1nBEcf7-"
   },
   "source": [
    "### PDF 파일에 담긴 정보를, 파이썬으로 불러와서 작업하고 싶은 상황!\n",
    "- 화장품 성분 데이터 분석을 하고 싶은데..\n",
    "- 잘 정리된 파일을 찾았는데 그게 PDF파일인 경우!"
   ]
  },
  {
   "cell_type": "markdown",
   "metadata": {
    "id": "Sju5le0lcf7_"
   },
   "source": [
    "### PDF 파일 내용 확인\n",
    "- 직접 열어서 꼭 확인해보세요 ^^\n",
    "- 성분사전 표준화명칭목록 데이터\n",
    "    - 성분코드\n",
    "    - 표준 성분명\n",
    "    - 표준 영문명\n",
    "    - 구명칭\n",
    "    - 구영문명\n",
    "- 총 1460page, 23249만개 데이터\n",
    "<img src=\"./images/pdf_01.png\" style=\"margin:auto\" width=\"100%\">"
   ]
  },
  {
   "cell_type": "markdown",
   "metadata": {
    "id": "tdo0CqPncf7_"
   },
   "source": [
    "### 작업절차\n",
    "- 파이썬으로 PDF 파일을 읽은 후, pickle 이라는 포맷의 데이터로 저장합니다.\n",
    "    - 파이썬으로 PDF 파일을 읽기 위해 필요한 모듈\n",
    "        - `pip install tabula-py`\n",
    "    - pickle 파일이란?\n",
    "        - pickle은 파이썬에서 사용하는 딕셔너리, 리스트, 클래스 등의 자료형을 변환 없이 그대로 파일로 저장하고 이를 불러올 때 사용하는 모듈\n",
    "        - 설명출처: https://wikidocs.net/110788"
   ]
  },
  {
   "cell_type": "code",
   "execution_count": 2,
   "metadata": {
    "colab": {
     "base_uri": "https://localhost:8080/"
    },
    "executionInfo": {
     "elapsed": 5719,
     "status": "ok",
     "timestamp": 1693484456942,
     "user": {
      "displayName": "홍이준",
      "userId": "06493270036541631767"
     },
     "user_tz": -540
    },
    "id": "7XkndoZucf7_",
    "outputId": "021eceb3-b49a-4f77-ef36-52f3fb132041"
   },
   "outputs": [],
   "source": [
    "# !pip install tabula-py"
   ]
  },
  {
   "cell_type": "code",
   "execution_count": 2,
   "metadata": {
    "colab": {
     "base_uri": "https://localhost:8080/",
     "height": 418
    },
    "executionInfo": {
     "elapsed": 312,
     "status": "error",
     "timestamp": 1692593636654,
     "user": {
      "displayName": "오세라",
      "userId": "02371817530964963417"
     },
     "user_tz": -540
    },
    "id": "tkLo9qACcf8A",
    "outputId": "6ad5c417-9be3-4aa6-9c79-170ba670de5c"
   },
   "outputs": [],
   "source": [
    "import tabula\n",
    "import pickle\n",
    "# module 'tabula' has no attribute 'read_pdf' 에러 발생하면, 아래 코드 주석 해제 후 실행\n",
    "# from tabula.io import read_pdf\n",
    "\n",
    "\n",
    "# Tabula로 PDF 읽기 -> DataFrame List\n",
    "ingredients_list = tabula.read_pdf('./datas/별첨1. 표준화명칭목록_220530.pdf', pages='all', lattice=True)\n",
    "\n",
    "# DataFrame List를 Pickle로 저장\n",
    "with open('./datas/ingredients_list.pkl', 'wb') as f:\n",
    "    pickle.dump(ingredients_list, f)"
   ]
  },
  {
   "cell_type": "markdown",
   "metadata": {
    "id": "m2f_pi9ncf8A"
   },
   "source": [
    "#### tabula 실행이 안됩니다!!!\n",
    "<a href=\"https://zerobaseschool.notion.site/DS-EDA-Lv-Test-b7d5e895c7cd4dda813c8fe2f2c23f79\"><img src=\"images/openinnotion_logo.png\" alt=\"EDA Lv Test Doc\" width=\"12%\"></a> 에서 TroubleShooting ➡️ EDA Level Test 02 tabula module error 부분 확인\n",
    "\n",
    "- 위 문서 절차대로 진행해도 오류가 발생하시는 분들은, 지금 단계를 생략 해주세요\n",
    "- 아래 문제 시작 부분부터 진행하시면 됩니다!"
   ]
  },
  {
   "cell_type": "markdown",
   "metadata": {
    "id": "ffTYYfbFcf8A"
   },
   "source": [
    "## 문제 시작! 🏃🏻"
   ]
  },
  {
   "cell_type": "markdown",
   "metadata": {
    "id": "6LhhvGl9cf8A"
   },
   "source": [
    "## 1단계: 성분사전 불러오기 & DataFrame 합치기, 수정하기\n",
    "***\n",
    "\n",
    "##### Load Pickle File\n",
    "- Load: Pickle\n",
    "- List to DataFrame: Pandas"
   ]
  },
  {
   "cell_type": "markdown",
   "metadata": {
    "id": "pwHneMVrcf8A"
   },
   "source": [
    "### 위 데이터 준비 단계에서 에러가 발생하시는 분들은, 지금 단계부터 시작해주시면 됩니다!"
   ]
  },
  {
   "cell_type": "code",
   "execution_count": null,
   "metadata": {
    "id": "d_q546AUj-KW"
   },
   "outputs": [],
   "source": []
  },
  {
   "cell_type": "code",
   "execution_count": 3,
   "metadata": {
    "colab": {
     "base_uri": "https://localhost:8080/"
    },
    "executionInfo": {
     "elapsed": 18889,
     "status": "ok",
     "timestamp": 1693484861044,
     "user": {
      "displayName": "홍이준",
      "userId": "06493270036541631767"
     },
     "user_tz": -540
    },
    "id": "SpTo_2kqj-vq",
    "outputId": "80b94d24-b592-47e3-be28-32fcb9c4ca13"
   },
   "outputs": [],
   "source": [
    "# from google.colab import drive\n",
    "# drive.mount('/content/drive')"
   ]
  },
  {
   "cell_type": "code",
   "execution_count": 4,
   "metadata": {
    "executionInfo": {
     "elapsed": 1151,
     "status": "ok",
     "timestamp": 1693484977657,
     "user": {
      "displayName": "홍이준",
      "userId": "06493270036541631767"
     },
     "user_tz": -540
    },
    "id": "hn6ARRB6cf8A"
   },
   "outputs": [],
   "source": [
    "# # Pickle File 불러오기\n",
    "# import pickle\n",
    "\n",
    "# with open('/content/drive/MyDrive/제로베이스/EDA_Level_Test_02 (배포용)/datas/ingredients_list.pkl', 'rb') as f:\n",
    "#     ingredients_list_pkl = pickle.load(f)"
   ]
  },
  {
   "cell_type": "markdown",
   "metadata": {
    "id": "RqyztpgTcf8A"
   },
   "source": [
    "### **문제 1-1)** 성분사전 DataFrame 만들기(10점)\n",
    "- Pickle을 이용해 Load한 ingredients_list_pkl를 하나의 DataFrame으로 합치세요.\n",
    "<br></br>\n",
    "    - 조건1: 데이터는 index 기준으로 합치세요.\n",
    "<br></br>\n",
    "    - 조건2: join없이 단순히 합치세요.\n",
    "<br></br>\n",
    "<br></br>\n",
    "    - hint1: 20375개의 행이 만들어져야 합니다.\n",
    "<br></br>\n",
    "    - hint2: ingredients_list_pkl는 여러 DataFrame들이 Element로 들어있는 List입니다.\n",
    "<br></br>\n",
    "- 완료 후 결과 dataframe 변수를 check_01_01 함수에 입력하여 채점하세요."
   ]
  },
  {
   "cell_type": "code",
   "execution_count": 5,
   "metadata": {
    "colab": {
     "base_uri": "https://localhost:8080/"
    },
    "executionInfo": {
     "elapsed": 4172,
     "status": "ok",
     "timestamp": 1693485728613,
     "user": {
      "displayName": "홍이준",
      "userId": "06493270036541631767"
     },
     "user_tz": -540
    },
    "id": "rlclNWgonWpt",
    "outputId": "29c4d5a7-dccd-4a93-cf81-ab0b36068e32"
   },
   "outputs": [],
   "source": [
    "# ingredients_list_pkl"
   ]
  },
  {
   "cell_type": "code",
   "execution_count": 6,
   "metadata": {
    "colab": {
     "base_uri": "https://localhost:8080/",
     "height": 423
    },
    "executionInfo": {
     "elapsed": 6,
     "status": "ok",
     "timestamp": 1693485911552,
     "user": {
      "displayName": "홍이준",
      "userId": "06493270036541631767"
     },
     "user_tz": -540
    },
    "id": "-6cL-ed6cf8B",
    "outputId": "2dc51358-8923-4073-cb33-6a48d8e6a3ae"
   },
   "outputs": [
    {
     "name": "stdout",
     "output_type": "stream",
     "text": [
      "정답입니다! 10점 누적 되었습니다!\n",
      "현재 누적 점수: 10 / 100\n"
     ]
    }
   ],
   "source": [
    "# 1-1\n",
    "# pd. concat : 리스트에 있는 여러 DataFrame을 하나의 DataFrame으로 합침\n",
    "tmp = pd.read_pickle('./datas/ingredients_list.pkl')\n",
    "ingredients_df = pd.concat(tmp, ignore_index = True)\n",
    "\n",
    "\n",
    "#ignore_index=False: 이 옵션은 합치는 과정에서 원래의 index를 유지할 것인지를 결정합니다. False로 설정된 경우, 원래 DataFrame들의 index가 그대로 유지됩니다. 만약 True로 설정한다면, index는 리셋되어 0부터 다시 시작됩니다.\n",
    "ingredients_df\n",
    "\n",
    "check_01_01(ingredients_df)"
   ]
  },
  {
   "cell_type": "markdown",
   "metadata": {
    "id": "jGgmGVq7cf8B"
   },
   "source": [
    "### **문제 1-2)** 성분사전 DataFrame 내의 Data 수정하기 - 1(15점)\n",
    "- 이 성분 사전 DataFrame에는 원본에는 없는 '\\r' 이 아래와 같이 data 사이에 끼어 있습니다. 이 '\\r'을 삭제하세요\n",
    "<br></br>\n",
    "    <img src=\"images/02-1-2-001.png\" style=\"margin:auto\" width=700/>\n",
    "    <img src=\"images/02-1-2-002.png\" style=\"margin:auto\" width=1000/>\n",
    "<br></br>\n",
    "    - hint1: '\\r'를 대체 할 때 한글('표준 성분명', '구명칭')의 경우 띄어쓰기가 없고, 영어('표준 영문명', '구영문명)의 경우 띄어쓰기를 해야 합니다.\n",
    "<br></br>\n",
    "    - hint2: 모든 영문명의 경우 대문자로 시작합니다.\n",
    "<br></br>\n",
    "- 완료 후 결과 dataframe 변수를 check_01_02 함수에 입력하여 채점하세요."
   ]
  },
  {
   "cell_type": "code",
   "execution_count": 7,
   "metadata": {},
   "outputs": [
    {
     "data": {
      "text/plain": [
       "array([nan, 'Solanum Melongena (Eggplant) Fruit Extract',\n",
       "       'Agarum Cribrosum Extract', ..., 'Silica Caprylyl Silylate',\n",
       "       'Hippophae Rhamnoides Fruit Water',\n",
       "       'Saccharomyces/Hexapeptide-11 Ferment Filtrate Extract'],\n",
       "      dtype=object)"
      ]
     },
     "execution_count": 7,
     "metadata": {},
     "output_type": "execute_result"
    }
   ],
   "source": [
    "ingredients_df['표준 영문명'].unique()"
   ]
  },
  {
   "cell_type": "code",
   "execution_count": 8,
   "metadata": {
    "id": "lYA0WmP-cf8B",
    "outputId": "f134ef90-3c9d-4fa5-89d8-1ee3d165a927"
   },
   "outputs": [
    {
     "name": "stdout",
     "output_type": "stream",
     "text": [
      "정답입니다! 15점 누적 되었습니다!\n",
      "현재 누적 점수: 25 / 100\n"
     ]
    },
    {
     "data": {
      "text/html": [
       "<div>\n",
       "<style scoped>\n",
       "    .dataframe tbody tr th:only-of-type {\n",
       "        vertical-align: middle;\n",
       "    }\n",
       "\n",
       "    .dataframe tbody tr th {\n",
       "        vertical-align: top;\n",
       "    }\n",
       "\n",
       "    .dataframe thead th {\n",
       "        text-align: right;\n",
       "    }\n",
       "</style>\n",
       "<table border=\"1\" class=\"dataframe\">\n",
       "  <thead>\n",
       "    <tr style=\"text-align: right;\">\n",
       "      <th></th>\n",
       "      <th>성분코드</th>\n",
       "      <th>표준 성분명</th>\n",
       "      <th>표준 영문명</th>\n",
       "      <th>구명칭</th>\n",
       "      <th>구영문명</th>\n",
       "    </tr>\n",
       "  </thead>\n",
       "  <tbody>\n",
       "    <tr>\n",
       "      <th>0</th>\n",
       "      <td>1</td>\n",
       "      <td>가공소금</td>\n",
       "      <td>NaN</td>\n",
       "      <td>NaN</td>\n",
       "      <td>NaN</td>\n",
       "    </tr>\n",
       "    <tr>\n",
       "      <th>1</th>\n",
       "      <td>2</td>\n",
       "      <td>가지열매추출물</td>\n",
       "      <td>Solanum Melongena (Eggplant) Fruit Extract</td>\n",
       "      <td>가지추출물</td>\n",
       "      <td>Solanum Melongena (Eggplant) Fruit Extract</td>\n",
       "    </tr>\n",
       "    <tr>\n",
       "      <th>2</th>\n",
       "      <td>3</td>\n",
       "      <td>구멍쇠미역추출물</td>\n",
       "      <td>Agarum Cribrosum Extract</td>\n",
       "      <td>구멍쇠미역추출물</td>\n",
       "      <td>Agarum Cribosum Extract</td>\n",
       "    </tr>\n",
       "    <tr>\n",
       "      <th>3</th>\n",
       "      <td>4</td>\n",
       "      <td>루핀아미노산</td>\n",
       "      <td>Lupine Amino Acids</td>\n",
       "      <td>NaN</td>\n",
       "      <td>NaN</td>\n",
       "    </tr>\n",
       "    <tr>\n",
       "      <th>4</th>\n",
       "      <td>5</td>\n",
       "      <td>류신</td>\n",
       "      <td>Leucine</td>\n",
       "      <td>NaN</td>\n",
       "      <td>NaN</td>\n",
       "    </tr>\n",
       "    <tr>\n",
       "      <th>...</th>\n",
       "      <td>...</td>\n",
       "      <td>...</td>\n",
       "      <td>...</td>\n",
       "      <td>...</td>\n",
       "      <td>...</td>\n",
       "    </tr>\n",
       "    <tr>\n",
       "      <th>20370</th>\n",
       "      <td>23242</td>\n",
       "      <td>비타민나무열매수</td>\n",
       "      <td>Hippophae Rhamnoides Fruit Water</td>\n",
       "      <td>NaN</td>\n",
       "      <td>NaN</td>\n",
       "    </tr>\n",
       "    <tr>\n",
       "      <th>20371</th>\n",
       "      <td>23243</td>\n",
       "      <td>효모/헥사펩타이드-11발효여과추출물</td>\n",
       "      <td>Saccharomyces/Hexapeptide-11 Ferment Filtrate ...</td>\n",
       "      <td>NaN</td>\n",
       "      <td>NaN</td>\n",
       "    </tr>\n",
       "    <tr>\n",
       "      <th>20372</th>\n",
       "      <td>23247</td>\n",
       "      <td>약모밀잎소포</td>\n",
       "      <td>NaN</td>\n",
       "      <td>NaN</td>\n",
       "      <td>NaN</td>\n",
       "    </tr>\n",
       "    <tr>\n",
       "      <th>20373</th>\n",
       "      <td>23248</td>\n",
       "      <td>삼뿌리수</td>\n",
       "      <td>NaN</td>\n",
       "      <td>NaN</td>\n",
       "      <td>NaN</td>\n",
       "    </tr>\n",
       "    <tr>\n",
       "      <th>20374</th>\n",
       "      <td>23249</td>\n",
       "      <td>흑효모/매스틱검추출물발효여과물</td>\n",
       "      <td>NaN</td>\n",
       "      <td>NaN</td>\n",
       "      <td>NaN</td>\n",
       "    </tr>\n",
       "  </tbody>\n",
       "</table>\n",
       "<p>20375 rows × 5 columns</p>\n",
       "</div>"
      ],
      "text/plain": [
       "        성분코드               표준 성분명  \\\n",
       "0          1                 가공소금   \n",
       "1          2              가지열매추출물   \n",
       "2          3             구멍쇠미역추출물   \n",
       "3          4               루핀아미노산   \n",
       "4          5                   류신   \n",
       "...      ...                  ...   \n",
       "20370  23242             비타민나무열매수   \n",
       "20371  23243  효모/헥사펩타이드-11발효여과추출물   \n",
       "20372  23247               약모밀잎소포   \n",
       "20373  23248                 삼뿌리수   \n",
       "20374  23249     흑효모/매스틱검추출물발효여과물   \n",
       "\n",
       "                                                  표준 영문명       구명칭  \\\n",
       "0                                                    NaN       NaN   \n",
       "1             Solanum Melongena (Eggplant) Fruit Extract     가지추출물   \n",
       "2                               Agarum Cribrosum Extract  구멍쇠미역추출물   \n",
       "3                                     Lupine Amino Acids       NaN   \n",
       "4                                                Leucine       NaN   \n",
       "...                                                  ...       ...   \n",
       "20370                   Hippophae Rhamnoides Fruit Water       NaN   \n",
       "20371  Saccharomyces/Hexapeptide-11 Ferment Filtrate ...       NaN   \n",
       "20372                                                NaN       NaN   \n",
       "20373                                                NaN       NaN   \n",
       "20374                                                NaN       NaN   \n",
       "\n",
       "                                             구영문명  \n",
       "0                                             NaN  \n",
       "1      Solanum Melongena (Eggplant) Fruit Extract  \n",
       "2                         Agarum Cribosum Extract  \n",
       "3                                             NaN  \n",
       "4                                             NaN  \n",
       "...                                           ...  \n",
       "20370                                         NaN  \n",
       "20371                                         NaN  \n",
       "20372                                         NaN  \n",
       "20373                                         NaN  \n",
       "20374                                         NaN  \n",
       "\n",
       "[20375 rows x 5 columns]"
      ]
     },
     "execution_count": 8,
     "metadata": {},
     "output_type": "execute_result"
    }
   ],
   "source": [
    "# 1-2\n",
    "ingredients_df[['표준 성분명','구명칭']] = ingredients_df[['표준 성분명','구명칭']].apply(lambda x: x.str.replace('\\r',''))\n",
    "ingredients_df[['표준 영문명','구영문명']] = ingredients_df[['표준 영문명','구영문명']].apply(lambda x: x.str.replace('\\r',' '))\n",
    "check_01_02(ingredients_df)\n",
    "ingredients_df"
   ]
  },
  {
   "cell_type": "markdown",
   "metadata": {
    "id": "-EVdk-Uncf8B"
   },
   "source": [
    "### **문제 1-3)** 성분사전 DataFrame 내의 Data 수정하기 - 2(15점)\n",
    "- pdf를 dataframe으로 전환하면서 일부 누락된 데이터가 있습니다. 아래 cell의 replace_dict는 현재값(key):변경할값(value)의 쌍으로 이루어져 있습니다. 이 replace_dict를 이용하여 성분사전 dataframe '표준 영문명' column의 값을 변경하세요.\n",
    "<br></br>\n",
    "    - 참고: replace_dict의 내용만 변경하면 됩니다. 다른 누락사항을 확인하여 변경할 필요는 없습니다.\n",
    "<br></br>\n",
    "- 완료 후 결과 dataframe 변수를 check_01_03 함수에 입력하여 채점하세요."
   ]
  },
  {
   "cell_type": "code",
   "execution_count": 9,
   "metadata": {
    "executionInfo": {
     "elapsed": 507,
     "status": "ok",
     "timestamp": 1693486242298,
     "user": {
      "displayName": "홍이준",
      "userId": "06493270036541631767"
     },
     "user_tz": -540
    },
    "id": "Eo507qcFcf8B"
   },
   "outputs": [],
   "source": [
    "replace_dict = {\n",
    "    'Acetobacter/Lycium Chinense Fruit/Rehmannia Glutinosa Root/Cuscuta Chinensis Fruit/Cistanche Deserticola/Zanthoxylum Piperitumit/Chrysanthemum Morifolium Fruit/Poria Cocos/ Cinnamomum Cassia': 'Acetobacter/Lycium Chinense Fruit/Rehmannia Glutinosa Root/Cuscuta Chinensis Fruit/Cistanche Deserticola/Zanthoxylum Piperitumit/Chrysanthemum Morifolium Fruit/Poria Cocos/ Cinnamomum Cassia Ferment',\n",
    "    'Saccharomyces/Licorice Root/Rehmannia Glutinosa Root/Angelica Gigas Root/Ophiopogon Japonicus Root/Atractylodes Macrocephala Root/Paeonia Lactiflora Root/Anemarrhena Asphodeloides Root/Fraxinus Excelsior Bark/Asparagus Cochinchinensis/Phellodendron Amurense': 'Saccharomyces/Licorice Root/Rehmannia Glutinosa Root/Angelica Gigas Root/Ophiopogon Japonicus Root/Atractylodes Macrocephala Root/Paeonia Lactiflora Root/Anemarrhena Asphodeloides Root/Fraxinus Excelsior Bark/Asparagus Cochinchinensis/Phellodendron Amurense Bark Ferment Extract',\n",
    "    'Bacillus/Lycium Chinense Fruit/Rehmannia Glutinosa Root/Cuscuta Chinensis Fruit/Cistanche Deserticola/Zanthoxylum Piperitum Fruit/Chrysanthemum Morifolium Fruit/Poria Cocos/ Cinnamomum Cassia': 'Bacillus/Lycium Chinense Fruit/Rehmannia Glutinosa Root/Cuscuta Chinensis Fruit/Cistanche Deserticola/Zanthoxylum Piperitum Fruit/Chrysanthemum Morifolium Fruit/Poria Cocos/ Cinnamomum Cassia Ferment',\n",
    "    'Bifida/Angelica Gigas/Angelica Tenuissima Root/Antler Velvet/Rehmannia Glutinosa Root/Atractylodes Japonica Rhizome/Cnidium Officinale Root/Cordyceps Sinensis/Ledebouriella Seseloides Root/Licorice Root/Paeonia Lactiflora Root/Panax Ginseng': 'Bifida/Angelica Gigas/Angelica Tenuissima Root/Antler Velvet/Rehmannia Glutinosa Root/Atractylodes Japonica Rhizome/Cnidium Officinale Root/Cordyceps Sinensis/Ledebouriella Seseloides Root/Licorice Root/Paeonia Lactiflora Root/Panax Ginseng Root/Phellinus Linteus/Scutellaria Baicalensis Root Ferment',\n",
    "    'Leuconostoc/Lycium Chinense Fruit/Rehmannia Glutinosa Root/Cuscuta Chinensis Fruit/Cistanche Deserticola/Zanthoxylum Piperitum Fruit/Chrysanthemum Morifolium Fruit/Poria Cocos/ Cinnamomum Cassia': 'Leuconostoc/Lycium Chinense Fruit/Rehmannia Glutinosa Root/Cuscuta Chinensis Fruit/Cistanche Deserticola/Zanthoxylum Piperitum Fruit/Chrysanthemum Morifolium Fruit/Poria Cocos/ Cinnamomum Cassia Ferment',\n",
    "    'Saccharomyces/Anemarrhena Asphodeloides Root/Angelica Gigas Root/Asparagus Cochinchinensis/Atractylodes Macrocephala Root/Fraxinus Excelsior Bark/Licorice Root/Ophiopogon Japonicus Root/Paeonia Lactiflora Root/Phellodendron Amurense': 'Saccharomyces/Anemarrhena Asphodeloides Root/Angelica Gigas Root/Asparagus Cochinchinensis/Atractylodes Macrocephala Root/Fraxinus Excelsior Bark/Licorice Root/Ophiopogon Japonicus Root/Paeonia Lactiflora Root/Phellodendron Amurense Bark Ferment Extract',\n",
    "    'Saccharomyces/Camellia Japonica Flower/Castanea Crenata Shell/Diospyros Kaki Leaf/Paeonia Suffruticosa Root/Rhus Javanica/Sanguisorba Officinalis Root Extract': 'Saccharomyces/Camellia Japonica Flower/Castanea Crenata Shell/Diospyros Kaki Leaf/Paeonia Suffruticosa Root/Rhus Javanica/Sanguisorba Officinalis Root Extract Ferment Filtrate',\n",
    "    'Lactobacillus/Honeysuckle Flower/Licorice Root/Morus Alba Root/Pueraria Lobata Root/Schisandra Chinensis Fruit/Scutellaria Baicalensis Root/Sophora Japonica Flower': 'Lactobacillus/Honeysuckle Flower/Licorice Root/Morus Alba Root/Pueraria Lobata Root/Schizandra Chinensis Fruit/Scutellaria Baicalensis Root/Sophora Japonica Flower Extract Ferment Filtrate',\n",
    "    'Lactobacillus/Lycium Chinense Fruit/Rehmannia Glutinosa Root/Cuscuta Chinensis Fruit/Cistanche Deserticola/Zanthoxylum Piperitum Fruit/Chrysanthemum Morifolium Fruit/Poria Cocos/Cinnamomum Cassia': 'Lactobacillus/Lycium Chinense Fruit/Rehmannia Glutinosa Root/Cuscuta Chinensis Fruit/Cistanche Deserticola/Zanthoxylum Piperitum Fruit/Chrysanthemum Morifolium Fruit/Poria Cocos/Cinnamomum Cassia Ramulus Bark Ferment Filtrate',\n",
    "    'Saccharomyces/Lycium Chinense Fruit/Rehmannia Glutinosa Root/Cuscuta Chinensis Fruit/Cistanche Deserticola/Zanthoxylum Piperitum Fruit/Chrysanthemum Morifolium Fruit/Poria Cocos/ Cinnamomum Cassia': 'Saccharomyces/Lycium Chinense Fruit/Rehmannia Glutinosa Root/Cuscuta Chinensis Fruit/Cistanche Deserticola/Zanthoxylum Piperitum Fruit/Chrysanthemum Morifolium Fruit/Poria Cocos/ Cinnamomum Cassia Ferment',\n",
    "}"
   ]
  },
  {
   "cell_type": "code",
   "execution_count": 10,
   "metadata": {
    "colab": {
     "base_uri": "https://localhost:8080/",
     "height": 423
    },
    "executionInfo": {
     "elapsed": 5,
     "status": "ok",
     "timestamp": 1693486250051,
     "user": {
      "displayName": "홍이준",
      "userId": "06493270036541631767"
     },
     "user_tz": -540
    },
    "id": "FC9DUbEpcf8B",
    "outputId": "718b079c-f9a1-4213-f495-333e17377bcd"
   },
   "outputs": [
    {
     "name": "stdout",
     "output_type": "stream",
     "text": [
      "정답입니다! 15점 누적 되었습니다!\n",
      "현재 누적 점수: 40 / 100\n"
     ]
    },
    {
     "data": {
      "text/html": [
       "<div>\n",
       "<style scoped>\n",
       "    .dataframe tbody tr th:only-of-type {\n",
       "        vertical-align: middle;\n",
       "    }\n",
       "\n",
       "    .dataframe tbody tr th {\n",
       "        vertical-align: top;\n",
       "    }\n",
       "\n",
       "    .dataframe thead th {\n",
       "        text-align: right;\n",
       "    }\n",
       "</style>\n",
       "<table border=\"1\" class=\"dataframe\">\n",
       "  <thead>\n",
       "    <tr style=\"text-align: right;\">\n",
       "      <th></th>\n",
       "      <th>성분코드</th>\n",
       "      <th>표준 성분명</th>\n",
       "      <th>표준 영문명</th>\n",
       "      <th>구명칭</th>\n",
       "      <th>구영문명</th>\n",
       "    </tr>\n",
       "  </thead>\n",
       "  <tbody>\n",
       "    <tr>\n",
       "      <th>0</th>\n",
       "      <td>1</td>\n",
       "      <td>가공소금</td>\n",
       "      <td>NaN</td>\n",
       "      <td>NaN</td>\n",
       "      <td>NaN</td>\n",
       "    </tr>\n",
       "    <tr>\n",
       "      <th>1</th>\n",
       "      <td>2</td>\n",
       "      <td>가지열매추출물</td>\n",
       "      <td>Solanum Melongena (Eggplant) Fruit Extract</td>\n",
       "      <td>가지추출물</td>\n",
       "      <td>Solanum Melongena (Eggplant) Fruit Extract</td>\n",
       "    </tr>\n",
       "    <tr>\n",
       "      <th>2</th>\n",
       "      <td>3</td>\n",
       "      <td>구멍쇠미역추출물</td>\n",
       "      <td>Agarum Cribrosum Extract</td>\n",
       "      <td>구멍쇠미역추출물</td>\n",
       "      <td>Agarum Cribosum Extract</td>\n",
       "    </tr>\n",
       "    <tr>\n",
       "      <th>3</th>\n",
       "      <td>4</td>\n",
       "      <td>루핀아미노산</td>\n",
       "      <td>Lupine Amino Acids</td>\n",
       "      <td>NaN</td>\n",
       "      <td>NaN</td>\n",
       "    </tr>\n",
       "    <tr>\n",
       "      <th>4</th>\n",
       "      <td>5</td>\n",
       "      <td>류신</td>\n",
       "      <td>Leucine</td>\n",
       "      <td>NaN</td>\n",
       "      <td>NaN</td>\n",
       "    </tr>\n",
       "    <tr>\n",
       "      <th>...</th>\n",
       "      <td>...</td>\n",
       "      <td>...</td>\n",
       "      <td>...</td>\n",
       "      <td>...</td>\n",
       "      <td>...</td>\n",
       "    </tr>\n",
       "    <tr>\n",
       "      <th>20370</th>\n",
       "      <td>23242</td>\n",
       "      <td>비타민나무열매수</td>\n",
       "      <td>Hippophae Rhamnoides Fruit Water</td>\n",
       "      <td>NaN</td>\n",
       "      <td>NaN</td>\n",
       "    </tr>\n",
       "    <tr>\n",
       "      <th>20371</th>\n",
       "      <td>23243</td>\n",
       "      <td>효모/헥사펩타이드-11발효여과추출물</td>\n",
       "      <td>Saccharomyces/Hexapeptide-11 Ferment Filtrate ...</td>\n",
       "      <td>NaN</td>\n",
       "      <td>NaN</td>\n",
       "    </tr>\n",
       "    <tr>\n",
       "      <th>20372</th>\n",
       "      <td>23247</td>\n",
       "      <td>약모밀잎소포</td>\n",
       "      <td>NaN</td>\n",
       "      <td>NaN</td>\n",
       "      <td>NaN</td>\n",
       "    </tr>\n",
       "    <tr>\n",
       "      <th>20373</th>\n",
       "      <td>23248</td>\n",
       "      <td>삼뿌리수</td>\n",
       "      <td>NaN</td>\n",
       "      <td>NaN</td>\n",
       "      <td>NaN</td>\n",
       "    </tr>\n",
       "    <tr>\n",
       "      <th>20374</th>\n",
       "      <td>23249</td>\n",
       "      <td>흑효모/매스틱검추출물발효여과물</td>\n",
       "      <td>NaN</td>\n",
       "      <td>NaN</td>\n",
       "      <td>NaN</td>\n",
       "    </tr>\n",
       "  </tbody>\n",
       "</table>\n",
       "<p>20375 rows × 5 columns</p>\n",
       "</div>"
      ],
      "text/plain": [
       "        성분코드               표준 성분명  \\\n",
       "0          1                 가공소금   \n",
       "1          2              가지열매추출물   \n",
       "2          3             구멍쇠미역추출물   \n",
       "3          4               루핀아미노산   \n",
       "4          5                   류신   \n",
       "...      ...                  ...   \n",
       "20370  23242             비타민나무열매수   \n",
       "20371  23243  효모/헥사펩타이드-11발효여과추출물   \n",
       "20372  23247               약모밀잎소포   \n",
       "20373  23248                 삼뿌리수   \n",
       "20374  23249     흑효모/매스틱검추출물발효여과물   \n",
       "\n",
       "                                                  표준 영문명       구명칭  \\\n",
       "0                                                    NaN       NaN   \n",
       "1             Solanum Melongena (Eggplant) Fruit Extract     가지추출물   \n",
       "2                               Agarum Cribrosum Extract  구멍쇠미역추출물   \n",
       "3                                     Lupine Amino Acids       NaN   \n",
       "4                                                Leucine       NaN   \n",
       "...                                                  ...       ...   \n",
       "20370                   Hippophae Rhamnoides Fruit Water       NaN   \n",
       "20371  Saccharomyces/Hexapeptide-11 Ferment Filtrate ...       NaN   \n",
       "20372                                                NaN       NaN   \n",
       "20373                                                NaN       NaN   \n",
       "20374                                                NaN       NaN   \n",
       "\n",
       "                                             구영문명  \n",
       "0                                             NaN  \n",
       "1      Solanum Melongena (Eggplant) Fruit Extract  \n",
       "2                         Agarum Cribosum Extract  \n",
       "3                                             NaN  \n",
       "4                                             NaN  \n",
       "...                                           ...  \n",
       "20370                                         NaN  \n",
       "20371                                         NaN  \n",
       "20372                                         NaN  \n",
       "20373                                         NaN  \n",
       "20374                                         NaN  \n",
       "\n",
       "[20375 rows x 5 columns]"
      ]
     },
     "execution_count": 10,
     "metadata": {},
     "output_type": "execute_result"
    }
   ],
   "source": [
    "# 1-3\n",
    "ingredients_df['표준 영문명'] = ingredients_df['표준 영문명'].replace(replace_dict)\n",
    "check_01_03(ingredients_df)\n",
    "ingredients_df"
   ]
  },
  {
   "cell_type": "markdown",
   "metadata": {
    "id": "ml3fCxkBcf8B"
   },
   "source": [
    "## 2단계: Target Data 수정하기\n",
    "***"
   ]
  },
  {
   "cell_type": "markdown",
   "metadata": {
    "id": "IswsEgUxcf8B"
   },
   "source": [
    "### **문제 2-1)** Target DataFrame 중 Ingredients Column 내의 Data 수정하기(20점)\n",
    "- Kaggle에서 가져오는 데이터는 수정을 필요로 하는 경우가 있습니다. 제시된 Target DataFrame 또한 성분사전과 다른 표현을 쓰는 경우가 있어 해당 내용에 대해 수정을 하고자 합니다. 다음 조건에 맞게 Ingredients Column의 데이터를 수정하세요.\n",
    "<br></br>\n",
    "    - 조건1: 맨 끝에 마침표('.')가 있다면 마지막 마침표만 제거하세요\n",
    "        - ex) 'Algae (Seaweed) Extract. Sea Salt.' -> 'Algae (Seaweed) Extract. Sea Salt'\n",
    "<br></br>\n",
    "    - 조건2: '. May Contain'를 포함하고 있다면, '. May Contain' 이후의 데이터를 제거하세요\n",
    "        - ex) 'Algae (Seaweed) Extract. May Contain: Sea Salt, Fragrance' -> 'Algae (Seaweed) Extract'\n",
    "<br></br>\n",
    "    - 조건3: 아래의 replace_str_dict는 현재값(key):변경할값(value)의 쌍으로 이루어져 있습니다. 이 replace_str_dict를 이용하여 데이터를 변경하세요\n",
    "        - 참고: replace_str_dict의 내용만 변경하면 됩니다. 다른 누락사항을 확인하여 변경할 필요는 없습니다.\n",
    "<br></br>\n",
    "- 완료 후 결과 dataframe 변수를 check_02_01 함수에 입력하여 채점하세요."
   ]
  },
  {
   "cell_type": "code",
   "execution_count": 11,
   "metadata": {
    "executionInfo": {
     "elapsed": 323,
     "status": "ok",
     "timestamp": 1693486337030,
     "user": {
      "displayName": "홍이준",
      "userId": "06493270036541631767"
     },
     "user_tz": -540
    },
    "id": "WbiG9D7Bcf8C"
   },
   "outputs": [],
   "source": [
    "replace_str_dict = {\n",
    "    'Algae (Seaweed) Extract': 'Algae Extract',\n",
    "    'Citrus Aurantifolia (Lime) Extract': 'Citrus Aurantifolia (Lime) Fruit Extract',\n",
    "    'Eucalyptus Globulus (Eucalyptus) Leaf Oil': 'Eucalyptus Globulus Leaf Oil',\n",
    "    'Galactomyces Ferment Filtrate (Pitera)': 'Galactomyces Ferment Filtrate',\n",
    "    'Bacillus/Soybean/ Folic Acid Ferment Extract': 'Bacillus/Folic Acid/Soybean Ferment Extract',\n",
    "    'Butyrospermum Parkii (Shea Butter)': 'Butyrospermum Parkii (Shea) Butter',\n",
    "    'Sea Salt/Maris Sal/Sel Marin': 'Sea Salt',\n",
    "    'Parfum/Fragrance': 'Fragrance|Perfume|Parfum',\n",
    "    ', Fragrance': ', Fragrance|Perfume|Parfum',\n",
    "    }\n"
   ]
  },
  {
   "cell_type": "code",
   "execution_count": 12,
   "metadata": {
    "scrolled": true
   },
   "outputs": [
    {
     "data": {
      "text/plain": [
       "array(['Algae (Seaweed) Extract, Mineral Oil, Petrolatum, Glycerin, Isohexadecane, Microcrystalline Wax, Lanolin Alcohol, Citrus Aurantifolia (Lime) Extract, Sesamum Indicum (Sesame) Seed Oil, Eucalyptus Globulus (Eucalyptus) Leaf Oil, Sesamum Indicum (Sesame) Seed Powder, Medicago Sativa (Alfalfa) Seed Powder, Helianthus Annuus (Sunflower) Seedcake, Prunus Amygdalus Dulcis (Sweet Almond) Seed Meal, Sodium Gluconate, Copper Gluconate, Calcium Gluconate, Magnesium Gluconate, Zinc Gluconate, Magnesium Sulfate, Paraffin, Tocopheryl Succinate, Niacin, Water, Beta-Carotene, Decyl Oleate, Aluminum Distearate, Octyldodecanol, Citric Acid, Cyanocobalamin, Magnesium Stearate, Panthenol, Limonene, Geraniol, Linalool, Hydroxycitronellal, Citronellol, Benzyl Salicylate, Citral, Sodium Benzoate, Alcohol Denat., Fragrance.',\n",
       "       'Galactomyces Ferment Filtrate (Pitera), Butylene Glycol, Pentylene Glycol, Water, Sodium Benzoate, Methylparaben, Sorbic Acid.',\n",
       "       'Water, Dicaprylyl Carbonate, Glycerin, Cetearyl Alcohol, Cetearyl Olivate, Sorbitan Olivate, Sclerocarya Birrea Seed Oil, Bacillus/Soybean/ Folic Acid Ferment Extract, Nymphaea Alba Root Extract, sh-Oligopeptide-1, sh-Oligopeptide-2, sh-Polypeptide-1, sh-Polypeptide-9, sh-Polypeptide-11, Copper Palmitoyl Heptapeptide-14, Heptapeptide-15 Palmitate, Palmitoyl Tetrapeptide-7, Palmitoyl Tripeptide-1, Alanine, Arginine, Glycine, Histidine, Isoleucine, Phenylalanine, Proline, Serine, Threonine, Valine, Acetyl Glutamine, Coconut Alkanes , Coco-Caprylate/Caprate, Sodium Hyaluronate, Aspartic Acid, Linoleic Acid, Linolenic Acid, Lecithin, Butylene Glycol, Polyvinyl Alcohol, Sodium Lactate, Sodium PCA, PCA, Sorbitan Isostearate, Carbomer, Polysorbate 20, Polysorbate 60, Lactic Acid/Glycolic Acid Copolymer, Hydroxyethyl Acrylate/Sodium Acryloyldimethyl Taurate Copolymer, Xanthan Gum, Isomalt, 1,2-Hexanediol, Caprylyl Glycol, Chlorphenesin, Phenoxyethanol, Tocopherol, Sodium Benzoate, Phenylpropanol, Glyceryl Caprylate, Symphytum Officinale Callus Culture Extract.',\n",
       "       'Algae (Seaweed) Extract, Cyclopentasiloxane, Petrolatum, Glyceryl Distearate, Phenyl Trimethicone, Butylene Glycol, Hydrogenated Vegetable Oil, Cholesterol, Butyrospermum Parkii (Shea Butter), Steareth-10, Dimethicone, Glyceryl Stearate Se, Polysilicone-11, Sesamum Indicum (Sesame) Seed Oil, Medicago Sativa (Alfalfa) Seed Powder, Helianthus Annuus (Sunflower) Seedcake, Prunus Amygdalus Dulcis (Sweet Almond) Seed Meal, Eucalyptus Globulus (Eucalyptus) Leaf Oil, Sodium Gluconate, Copper Gluconate, Calcium Gluconate, Magnesium Gluconate, Zinc Gluconate, Tocopheryl Succinate, Niacin, Sesamum Indicum (Sesame) Seed Powder, Water, Citrus Aurantifolia (Lime) Peel Extract, Laminaria Digitata Extract, Crithmum Maritimum Extract, Salicornia Herbacea Extract, Plankton Extract, Chlorella Vulgaris Extract, Glycine Soja (Soybean) Seed Extract, Glycerin, Caffeine, Sea Salt/Maris Sal/Sel Marin, Micrococcus Lysate, Diethylhexyl Succinate, Adenosine Phosphate, Creatine, Hydrolyzed Algin, Isocetyl Stearoyl Stearate, Cetyl Alcohol, Sucrose, Acetyl Hexapeptide-8, Glucose Oxidase, Polyacrylamide, Acetyl Carnitine Hcl, Glucose, Caprylic/Capric Triglyceride, C13-14 Isoparaffin, Tocopheryl Acetate, Tetrahexyldecyl Ascorbate, Sodium Pca, Glycosaminoglycans, Urea, Distearyldimonium Chloride, Dipalmitoyl Hydroxyproline, Sodium Hyaluronate, Laureth-7, Lecithin, Trehalose, Polyquaternium-51, Lactoperoxidase, Hydroxypropyl Cyclodextrin, Cyanocobalamin, Pentylene Glycol, Fragrance, Disodium Edta, Bht, Citronellol, Hydroxycitronellal, Geraniol, Linalool, Limonene, Potassium Sorbate, Phenoxyethanol',\n",
       "       'Water, Snail Secretion Filtrate, Phenyl Trimethicone, Dimethicone, Butylene Glycol, Butylene Glycol Dicaprylate/Dicaprate, Orbignya Oleifera Seed Oil, Butyloctyl Salicylate, Cetyl Peg/Ppg-10/1 Dimethicone, Cyclopentasiloxane, Cyclohexasiloxane, Magnesium Sulfate, Polyglyceryl-4 Isostearate, Dimethicone/Vinyl Dimethicone Crosspolymer, Aluminum Hydroxide, Hexyl Laurate, Stearic Acid, Calcium Stearate, Caprylyl Glycol, Triethoxycaprylylsilane, Ethylhexylglycerin, Citrus Medica Limonum (Lemon) Peel Oil, Tocopheryl Acetate, Sorbitan Isostearate, Phenoxyethanol, Citrus Aurantium Bergamia (Bergamot) Fruit Oil, 1,2-Hexanediol, Disodium Edta, Citrus Aurantium Dulcis (Orange) Peel Oil, Citrus Aurantifolia (Lime) Oil, Vitis Vinifera (Grape) Seed Oil, Punica Granatum Seed Oil, Pinus Sylvestris Leaf Oil, Persea Gratissima (Avocado) Oil, Niacinamide, Citrus Grandis (Grapefruit) Peel Oil, Cholesterol, Anthemis Nobilis Flower Water, Lactobacillus/Honeysuckle Flower/Licorice Root/Morus Alba Root/Pueraria Lobata Root/Schizandra Chinensis Fruit/Scutellaria Baicalensis Root/Sophora Japonica Flower Extract Ferment Filtrate, Perfluorohexane, Olea Europaea (Olive) Leaf Extract, Glycerin, Eucalyptus Globulus Leaf Oil, Camellia Sinensis Leaf Extract, Chrysanthemum Indicum Flower Extract, Pueraria Lobata Root Extract, Perfluorodecalin, Morus Alba Fruit Extract, Magnolia Kobus Bark Extract, Glycine Soja (Soybean) Sprout Extract, Diospyros Kaki Leaf Extract, Cinnamomum Cassia Bark Extract, Artemisia Princeps Leaf Extract, Pentafluoropropane, Curcuma Longa (Turmeric) Root Extract, Steareth-20, Hydrolyzed Hyaluronic Acid, Colloidal Oatmeal, Hydrolyzed Silk, Citric Acid, Sodium Benzoate, Potassium Sorbate, Aloe Barbadensis Leaf Extract, N-Hydroxysuccinimide, Hydrolyzed Collagen, Caprylhydroxamic Acid, Tocopherol, Thiamine Hcl, Riboflavin, Retinyl Palmitate, Pantothenic Acid, Palmitoyl Oligopeptide, Niacin, Folic Acid, Chrysin, Carnitine Hcl, Biotin, Ascorbic Acid, Palmitoyl Tetrapeptide-7, Chlorhexidine Digluconate. May Contain: Iron Oxides (Ci 77492, Ci 77491, Ci 77499).'],\n",
       "      dtype=object)"
      ]
     },
     "execution_count": 12,
     "metadata": {},
     "output_type": "execute_result"
    }
   ],
   "source": [
    "df_target['Ingredients'].unique()"
   ]
  },
  {
   "cell_type": "code",
   "execution_count": 13,
   "metadata": {
    "scrolled": true
   },
   "outputs": [
    {
     "data": {
      "text/plain": [
       "array(['Algae (Seaweed) Extract, Mineral Oil, Petrolatum, Glycerin, Isohexadecane, Microcrystalline Wax, Lanolin Alcohol, Citrus Aurantifolia (Lime) Extract, Sesamum Indicum (Sesame) Seed Oil, Eucalyptus Globulus (Eucalyptus) Leaf Oil, Sesamum Indicum (Sesame) Seed Powder, Medicago Sativa (Alfalfa) Seed Powder, Helianthus Annuus (Sunflower) Seedcake, Prunus Amygdalus Dulcis (Sweet Almond) Seed Meal, Sodium Gluconate, Copper Gluconate, Calcium Gluconate, Magnesium Gluconate, Zinc Gluconate, Magnesium Sulfate, Paraffin, Tocopheryl Succinate, Niacin, Water, Beta-Carotene, Decyl Oleate, Aluminum Distearate, Octyldodecanol, Citric Acid, Cyanocobalamin, Magnesium Stearate, Panthenol, Limonene, Geraniol, Linalool, Hydroxycitronellal, Citronellol, Benzyl Salicylate, Citral, Sodium Benzoate, Alcohol Denat., Fragrance',\n",
       "       'Galactomyces Ferment Filtrate (Pitera), Butylene Glycol, Pentylene Glycol, Water, Sodium Benzoate, Methylparaben, Sorbic Acid',\n",
       "       'Water, Dicaprylyl Carbonate, Glycerin, Cetearyl Alcohol, Cetearyl Olivate, Sorbitan Olivate, Sclerocarya Birrea Seed Oil, Bacillus/Soybean/ Folic Acid Ferment Extract, Nymphaea Alba Root Extract, sh-Oligopeptide-1, sh-Oligopeptide-2, sh-Polypeptide-1, sh-Polypeptide-9, sh-Polypeptide-11, Copper Palmitoyl Heptapeptide-14, Heptapeptide-15 Palmitate, Palmitoyl Tetrapeptide-7, Palmitoyl Tripeptide-1, Alanine, Arginine, Glycine, Histidine, Isoleucine, Phenylalanine, Proline, Serine, Threonine, Valine, Acetyl Glutamine, Coconut Alkanes , Coco-Caprylate/Caprate, Sodium Hyaluronate, Aspartic Acid, Linoleic Acid, Linolenic Acid, Lecithin, Butylene Glycol, Polyvinyl Alcohol, Sodium Lactate, Sodium PCA, PCA, Sorbitan Isostearate, Carbomer, Polysorbate 20, Polysorbate 60, Lactic Acid/Glycolic Acid Copolymer, Hydroxyethyl Acrylate/Sodium Acryloyldimethyl Taurate Copolymer, Xanthan Gum, Isomalt, 1,2-Hexanediol, Caprylyl Glycol, Chlorphenesin, Phenoxyethanol, Tocopherol, Sodium Benzoate, Phenylpropanol, Glyceryl Caprylate, Symphytum Officinale Callus Culture Extract',\n",
       "       'Algae (Seaweed) Extract, Cyclopentasiloxane, Petrolatum, Glyceryl Distearate, Phenyl Trimethicone, Butylene Glycol, Hydrogenated Vegetable Oil, Cholesterol, Butyrospermum Parkii (Shea Butter), Steareth-10, Dimethicone, Glyceryl Stearate Se, Polysilicone-11, Sesamum Indicum (Sesame) Seed Oil, Medicago Sativa (Alfalfa) Seed Powder, Helianthus Annuus (Sunflower) Seedcake, Prunus Amygdalus Dulcis (Sweet Almond) Seed Meal, Eucalyptus Globulus (Eucalyptus) Leaf Oil, Sodium Gluconate, Copper Gluconate, Calcium Gluconate, Magnesium Gluconate, Zinc Gluconate, Tocopheryl Succinate, Niacin, Sesamum Indicum (Sesame) Seed Powder, Water, Citrus Aurantifolia (Lime) Peel Extract, Laminaria Digitata Extract, Crithmum Maritimum Extract, Salicornia Herbacea Extract, Plankton Extract, Chlorella Vulgaris Extract, Glycine Soja (Soybean) Seed Extract, Glycerin, Caffeine, Sea Salt/Maris Sal/Sel Marin, Micrococcus Lysate, Diethylhexyl Succinate, Adenosine Phosphate, Creatine, Hydrolyzed Algin, Isocetyl Stearoyl Stearate, Cetyl Alcohol, Sucrose, Acetyl Hexapeptide-8, Glucose Oxidase, Polyacrylamide, Acetyl Carnitine Hcl, Glucose, Caprylic/Capric Triglyceride, C13-14 Isoparaffin, Tocopheryl Acetate, Tetrahexyldecyl Ascorbate, Sodium Pca, Glycosaminoglycans, Urea, Distearyldimonium Chloride, Dipalmitoyl Hydroxyproline, Sodium Hyaluronate, Laureth-7, Lecithin, Trehalose, Polyquaternium-51, Lactoperoxidase, Hydroxypropyl Cyclodextrin, Cyanocobalamin, Pentylene Glycol, Fragrance, Disodium Edta, Bht, Citronellol, Hydroxycitronellal, Geraniol, Linalool, Limonene, Potassium Sorbate, Phenoxyethanol',\n",
       "       'Water, Snail Secretion Filtrate, Phenyl Trimethicone, Dimethicone, Butylene Glycol, Butylene Glycol Dicaprylate/Dicaprate, Orbignya Oleifera Seed Oil, Butyloctyl Salicylate, Cetyl Peg/Ppg-10/1 Dimethicone, Cyclopentasiloxane, Cyclohexasiloxane, Magnesium Sulfate, Polyglyceryl-4 Isostearate, Dimethicone/Vinyl Dimethicone Crosspolymer, Aluminum Hydroxide, Hexyl Laurate, Stearic Acid, Calcium Stearate, Caprylyl Glycol, Triethoxycaprylylsilane, Ethylhexylglycerin, Citrus Medica Limonum (Lemon) Peel Oil, Tocopheryl Acetate, Sorbitan Isostearate, Phenoxyethanol, Citrus Aurantium Bergamia (Bergamot) Fruit Oil, 1,2-Hexanediol, Disodium Edta, Citrus Aurantium Dulcis (Orange) Peel Oil, Citrus Aurantifolia (Lime) Oil, Vitis Vinifera (Grape) Seed Oil, Punica Granatum Seed Oil, Pinus Sylvestris Leaf Oil, Persea Gratissima (Avocado) Oil, Niacinamide, Citrus Grandis (Grapefruit) Peel Oil, Cholesterol, Anthemis Nobilis Flower Water, Lactobacillus/Honeysuckle Flower/Licorice Root/Morus Alba Root/Pueraria Lobata Root/Schizandra Chinensis Fruit/Scutellaria Baicalensis Root/Sophora Japonica Flower Extract Ferment Filtrate, Perfluorohexane, Olea Europaea (Olive) Leaf Extract, Glycerin, Eucalyptus Globulus Leaf Oil, Camellia Sinensis Leaf Extract, Chrysanthemum Indicum Flower Extract, Pueraria Lobata Root Extract, Perfluorodecalin, Morus Alba Fruit Extract, Magnolia Kobus Bark Extract, Glycine Soja (Soybean) Sprout Extract, Diospyros Kaki Leaf Extract, Cinnamomum Cassia Bark Extract, Artemisia Princeps Leaf Extract, Pentafluoropropane, Curcuma Longa (Turmeric) Root Extract, Steareth-20, Hydrolyzed Hyaluronic Acid, Colloidal Oatmeal, Hydrolyzed Silk, Citric Acid, Sodium Benzoate, Potassium Sorbate, Aloe Barbadensis Leaf Extract, N-Hydroxysuccinimide, Hydrolyzed Collagen, Caprylhydroxamic Acid, Tocopherol, Thiamine Hcl, Riboflavin, Retinyl Palmitate, Pantothenic Acid, Palmitoyl Oligopeptide, Niacin, Folic Acid, Chrysin, Carnitine Hcl, Biotin, Ascorbic Acid, Palmitoyl Tetrapeptide-7, Chlorhexidine Digluconate. May Contain: Iron Oxides (Ci 77492, Ci 77491, Ci 77499)'],\n",
       "      dtype=object)"
      ]
     },
     "execution_count": 13,
     "metadata": {},
     "output_type": "execute_result"
    }
   ],
   "source": [
    "df_target['Ingredients'] = df_target['Ingredients'].str.strip('.')\n",
    "df_target['Ingredients'].unique()"
   ]
  },
  {
   "cell_type": "code",
   "execution_count": 14,
   "metadata": {},
   "outputs": [],
   "source": [
    "cond = df_target['Ingredients'].str.contains('. May Contain')\n",
    "df_target.loc[cond,'Ingredients'] = df_target.loc[cond,'Ingredients'].apply(lambda x: str(x).split('. May Contain')[:-1][0])"
   ]
  },
  {
   "cell_type": "code",
   "execution_count": 15,
   "metadata": {
    "scrolled": true
   },
   "outputs": [
    {
     "data": {
      "text/plain": [
       "array(['Algae (Seaweed) Extract, Mineral Oil, Petrolatum, Glycerin, Isohexadecane, Microcrystalline Wax, Lanolin Alcohol, Citrus Aurantifolia (Lime) Extract, Sesamum Indicum (Sesame) Seed Oil, Eucalyptus Globulus (Eucalyptus) Leaf Oil, Sesamum Indicum (Sesame) Seed Powder, Medicago Sativa (Alfalfa) Seed Powder, Helianthus Annuus (Sunflower) Seedcake, Prunus Amygdalus Dulcis (Sweet Almond) Seed Meal, Sodium Gluconate, Copper Gluconate, Calcium Gluconate, Magnesium Gluconate, Zinc Gluconate, Magnesium Sulfate, Paraffin, Tocopheryl Succinate, Niacin, Water, Beta-Carotene, Decyl Oleate, Aluminum Distearate, Octyldodecanol, Citric Acid, Cyanocobalamin, Magnesium Stearate, Panthenol, Limonene, Geraniol, Linalool, Hydroxycitronellal, Citronellol, Benzyl Salicylate, Citral, Sodium Benzoate, Alcohol Denat., Fragrance',\n",
       "       'Galactomyces Ferment Filtrate (Pitera), Butylene Glycol, Pentylene Glycol, Water, Sodium Benzoate, Methylparaben, Sorbic Acid',\n",
       "       'Water, Dicaprylyl Carbonate, Glycerin, Cetearyl Alcohol, Cetearyl Olivate, Sorbitan Olivate, Sclerocarya Birrea Seed Oil, Bacillus/Soybean/ Folic Acid Ferment Extract, Nymphaea Alba Root Extract, sh-Oligopeptide-1, sh-Oligopeptide-2, sh-Polypeptide-1, sh-Polypeptide-9, sh-Polypeptide-11, Copper Palmitoyl Heptapeptide-14, Heptapeptide-15 Palmitate, Palmitoyl Tetrapeptide-7, Palmitoyl Tripeptide-1, Alanine, Arginine, Glycine, Histidine, Isoleucine, Phenylalanine, Proline, Serine, Threonine, Valine, Acetyl Glutamine, Coconut Alkanes , Coco-Caprylate/Caprate, Sodium Hyaluronate, Aspartic Acid, Linoleic Acid, Linolenic Acid, Lecithin, Butylene Glycol, Polyvinyl Alcohol, Sodium Lactate, Sodium PCA, PCA, Sorbitan Isostearate, Carbomer, Polysorbate 20, Polysorbate 60, Lactic Acid/Glycolic Acid Copolymer, Hydroxyethyl Acrylate/Sodium Acryloyldimethyl Taurate Copolymer, Xanthan Gum, Isomalt, 1,2-Hexanediol, Caprylyl Glycol, Chlorphenesin, Phenoxyethanol, Tocopherol, Sodium Benzoate, Phenylpropanol, Glyceryl Caprylate, Symphytum Officinale Callus Culture Extract',\n",
       "       'Algae (Seaweed) Extract, Cyclopentasiloxane, Petrolatum, Glyceryl Distearate, Phenyl Trimethicone, Butylene Glycol, Hydrogenated Vegetable Oil, Cholesterol, Butyrospermum Parkii (Shea Butter), Steareth-10, Dimethicone, Glyceryl Stearate Se, Polysilicone-11, Sesamum Indicum (Sesame) Seed Oil, Medicago Sativa (Alfalfa) Seed Powder, Helianthus Annuus (Sunflower) Seedcake, Prunus Amygdalus Dulcis (Sweet Almond) Seed Meal, Eucalyptus Globulus (Eucalyptus) Leaf Oil, Sodium Gluconate, Copper Gluconate, Calcium Gluconate, Magnesium Gluconate, Zinc Gluconate, Tocopheryl Succinate, Niacin, Sesamum Indicum (Sesame) Seed Powder, Water, Citrus Aurantifolia (Lime) Peel Extract, Laminaria Digitata Extract, Crithmum Maritimum Extract, Salicornia Herbacea Extract, Plankton Extract, Chlorella Vulgaris Extract, Glycine Soja (Soybean) Seed Extract, Glycerin, Caffeine, Sea Salt/Maris Sal/Sel Marin, Micrococcus Lysate, Diethylhexyl Succinate, Adenosine Phosphate, Creatine, Hydrolyzed Algin, Isocetyl Stearoyl Stearate, Cetyl Alcohol, Sucrose, Acetyl Hexapeptide-8, Glucose Oxidase, Polyacrylamide, Acetyl Carnitine Hcl, Glucose, Caprylic/Capric Triglyceride, C13-14 Isoparaffin, Tocopheryl Acetate, Tetrahexyldecyl Ascorbate, Sodium Pca, Glycosaminoglycans, Urea, Distearyldimonium Chloride, Dipalmitoyl Hydroxyproline, Sodium Hyaluronate, Laureth-7, Lecithin, Trehalose, Polyquaternium-51, Lactoperoxidase, Hydroxypropyl Cyclodextrin, Cyanocobalamin, Pentylene Glycol, Fragrance, Disodium Edta, Bht, Citronellol, Hydroxycitronellal, Geraniol, Linalool, Limonene, Potassium Sorbate, Phenoxyethanol',\n",
       "       'Water, Snail Secretion Filtrate, Phenyl Trimethicone, Dimethicone, Butylene Glycol, Butylene Glycol Dicaprylate/Dicaprate, Orbignya Oleifera Seed Oil, Butyloctyl Salicylate, Cetyl Peg/Ppg-10/1 Dimethicone, Cyclopentasiloxane, Cyclohexasiloxane, Magnesium Sulfate, Polyglyceryl-4 Isostearate, Dimethicone/Vinyl Dimethicone Crosspolymer, Aluminum Hydroxide, Hexyl Laurate, Stearic Acid, Calcium Stearate, Caprylyl Glycol, Triethoxycaprylylsilane, Ethylhexylglycerin, Citrus Medica Limonum (Lemon) Peel Oil, Tocopheryl Acetate, Sorbitan Isostearate, Phenoxyethanol, Citrus Aurantium Bergamia (Bergamot) Fruit Oil, 1,2-Hexanediol, Disodium Edta, Citrus Aurantium Dulcis (Orange) Peel Oil, Citrus Aurantifolia (Lime) Oil, Vitis Vinifera (Grape) Seed Oil, Punica Granatum Seed Oil, Pinus Sylvestris Leaf Oil, Persea Gratissima (Avocado) Oil, Niacinamide, Citrus Grandis (Grapefruit) Peel Oil, Cholesterol, Anthemis Nobilis Flower Water, Lactobacillus/Honeysuckle Flower/Licorice Root/Morus Alba Root/Pueraria Lobata Root/Schizandra Chinensis Fruit/Scutellaria Baicalensis Root/Sophora Japonica Flower Extract Ferment Filtrate, Perfluorohexane, Olea Europaea (Olive) Leaf Extract, Glycerin, Eucalyptus Globulus Leaf Oil, Camellia Sinensis Leaf Extract, Chrysanthemum Indicum Flower Extract, Pueraria Lobata Root Extract, Perfluorodecalin, Morus Alba Fruit Extract, Magnolia Kobus Bark Extract, Glycine Soja (Soybean) Sprout Extract, Diospyros Kaki Leaf Extract, Cinnamomum Cassia Bark Extract, Artemisia Princeps Leaf Extract, Pentafluoropropane, Curcuma Longa (Turmeric) Root Extract, Steareth-20, Hydrolyzed Hyaluronic Acid, Colloidal Oatmeal, Hydrolyzed Silk, Citric Acid, Sodium Benzoate, Potassium Sorbate, Aloe Barbadensis Leaf Extract, N-Hydroxysuccinimide, Hydrolyzed Collagen, Caprylhydroxamic Acid, Tocopherol, Thiamine Hcl, Riboflavin, Retinyl Palmitate, Pantothenic Acid, Palmitoyl Oligopeptide, Niacin, Folic Acid, Chrysin, Carnitine Hcl, Biotin, Ascorbic Acid, Palmitoyl Tetrapeptide-7, Chlorhexidine Digluconate'],\n",
       "      dtype=object)"
      ]
     },
     "execution_count": 15,
     "metadata": {},
     "output_type": "execute_result"
    }
   ],
   "source": [
    "df_target['Ingredients'].unique()"
   ]
  },
  {
   "cell_type": "code",
   "execution_count": 16,
   "metadata": {
    "scrolled": true
   },
   "outputs": [
    {
     "data": {
      "text/plain": [
       "array(['Algae Extract, Mineral Oil, Petrolatum, Glycerin, Isohexadecane, Microcrystalline Wax, Lanolin Alcohol, Citrus Aurantifolia (Lime) Fruit Extract, Sesamum Indicum (Sesame) Seed Oil, Eucalyptus Globulus Leaf Oil, Sesamum Indicum (Sesame) Seed Powder, Medicago Sativa (Alfalfa) Seed Powder, Helianthus Annuus (Sunflower) Seedcake, Prunus Amygdalus Dulcis (Sweet Almond) Seed Meal, Sodium Gluconate, Copper Gluconate, Calcium Gluconate, Magnesium Gluconate, Zinc Gluconate, Magnesium Sulfate, Paraffin, Tocopheryl Succinate, Niacin, Water, Beta-Carotene, Decyl Oleate, Aluminum Distearate, Octyldodecanol, Citric Acid, Cyanocobalamin, Magnesium Stearate, Panthenol, Limonene, Geraniol, Linalool, Hydroxycitronellal, Citronellol, Benzyl Salicylate, Citral, Sodium Benzoate, Alcohol Denat., Fragrance|Perfume|Parfum',\n",
       "       'Galactomyces Ferment Filtrate, Butylene Glycol, Pentylene Glycol, Water, Sodium Benzoate, Methylparaben, Sorbic Acid',\n",
       "       'Water, Dicaprylyl Carbonate, Glycerin, Cetearyl Alcohol, Cetearyl Olivate, Sorbitan Olivate, Sclerocarya Birrea Seed Oil, Bacillus/Folic Acid/Soybean Ferment Extract, Nymphaea Alba Root Extract, sh-Oligopeptide-1, sh-Oligopeptide-2, sh-Polypeptide-1, sh-Polypeptide-9, sh-Polypeptide-11, Copper Palmitoyl Heptapeptide-14, Heptapeptide-15 Palmitate, Palmitoyl Tetrapeptide-7, Palmitoyl Tripeptide-1, Alanine, Arginine, Glycine, Histidine, Isoleucine, Phenylalanine, Proline, Serine, Threonine, Valine, Acetyl Glutamine, Coconut Alkanes , Coco-Caprylate/Caprate, Sodium Hyaluronate, Aspartic Acid, Linoleic Acid, Linolenic Acid, Lecithin, Butylene Glycol, Polyvinyl Alcohol, Sodium Lactate, Sodium PCA, PCA, Sorbitan Isostearate, Carbomer, Polysorbate 20, Polysorbate 60, Lactic Acid/Glycolic Acid Copolymer, Hydroxyethyl Acrylate/Sodium Acryloyldimethyl Taurate Copolymer, Xanthan Gum, Isomalt, 1,2-Hexanediol, Caprylyl Glycol, Chlorphenesin, Phenoxyethanol, Tocopherol, Sodium Benzoate, Phenylpropanol, Glyceryl Caprylate, Symphytum Officinale Callus Culture Extract',\n",
       "       'Algae Extract, Cyclopentasiloxane, Petrolatum, Glyceryl Distearate, Phenyl Trimethicone, Butylene Glycol, Hydrogenated Vegetable Oil, Cholesterol, Butyrospermum Parkii (Shea) Butter, Steareth-10, Dimethicone, Glyceryl Stearate Se, Polysilicone-11, Sesamum Indicum (Sesame) Seed Oil, Medicago Sativa (Alfalfa) Seed Powder, Helianthus Annuus (Sunflower) Seedcake, Prunus Amygdalus Dulcis (Sweet Almond) Seed Meal, Eucalyptus Globulus Leaf Oil, Sodium Gluconate, Copper Gluconate, Calcium Gluconate, Magnesium Gluconate, Zinc Gluconate, Tocopheryl Succinate, Niacin, Sesamum Indicum (Sesame) Seed Powder, Water, Citrus Aurantifolia (Lime) Peel Extract, Laminaria Digitata Extract, Crithmum Maritimum Extract, Salicornia Herbacea Extract, Plankton Extract, Chlorella Vulgaris Extract, Glycine Soja (Soybean) Seed Extract, Glycerin, Caffeine, Sea Salt, Micrococcus Lysate, Diethylhexyl Succinate, Adenosine Phosphate, Creatine, Hydrolyzed Algin, Isocetyl Stearoyl Stearate, Cetyl Alcohol, Sucrose, Acetyl Hexapeptide-8, Glucose Oxidase, Polyacrylamide, Acetyl Carnitine Hcl, Glucose, Caprylic/Capric Triglyceride, C13-14 Isoparaffin, Tocopheryl Acetate, Tetrahexyldecyl Ascorbate, Sodium Pca, Glycosaminoglycans, Urea, Distearyldimonium Chloride, Dipalmitoyl Hydroxyproline, Sodium Hyaluronate, Laureth-7, Lecithin, Trehalose, Polyquaternium-51, Lactoperoxidase, Hydroxypropyl Cyclodextrin, Cyanocobalamin, Pentylene Glycol, Fragrance|Perfume|Parfum, Disodium Edta, Bht, Citronellol, Hydroxycitronellal, Geraniol, Linalool, Limonene, Potassium Sorbate, Phenoxyethanol',\n",
       "       'Water, Snail Secretion Filtrate, Phenyl Trimethicone, Dimethicone, Butylene Glycol, Butylene Glycol Dicaprylate/Dicaprate, Orbignya Oleifera Seed Oil, Butyloctyl Salicylate, Cetyl Peg/Ppg-10/1 Dimethicone, Cyclopentasiloxane, Cyclohexasiloxane, Magnesium Sulfate, Polyglyceryl-4 Isostearate, Dimethicone/Vinyl Dimethicone Crosspolymer, Aluminum Hydroxide, Hexyl Laurate, Stearic Acid, Calcium Stearate, Caprylyl Glycol, Triethoxycaprylylsilane, Ethylhexylglycerin, Citrus Medica Limonum (Lemon) Peel Oil, Tocopheryl Acetate, Sorbitan Isostearate, Phenoxyethanol, Citrus Aurantium Bergamia (Bergamot) Fruit Oil, 1,2-Hexanediol, Disodium Edta, Citrus Aurantium Dulcis (Orange) Peel Oil, Citrus Aurantifolia (Lime) Oil, Vitis Vinifera (Grape) Seed Oil, Punica Granatum Seed Oil, Pinus Sylvestris Leaf Oil, Persea Gratissima (Avocado) Oil, Niacinamide, Citrus Grandis (Grapefruit) Peel Oil, Cholesterol, Anthemis Nobilis Flower Water, Lactobacillus/Honeysuckle Flower/Licorice Root/Morus Alba Root/Pueraria Lobata Root/Schizandra Chinensis Fruit/Scutellaria Baicalensis Root/Sophora Japonica Flower Extract Ferment Filtrate, Perfluorohexane, Olea Europaea (Olive) Leaf Extract, Glycerin, Eucalyptus Globulus Leaf Oil, Camellia Sinensis Leaf Extract, Chrysanthemum Indicum Flower Extract, Pueraria Lobata Root Extract, Perfluorodecalin, Morus Alba Fruit Extract, Magnolia Kobus Bark Extract, Glycine Soja (Soybean) Sprout Extract, Diospyros Kaki Leaf Extract, Cinnamomum Cassia Bark Extract, Artemisia Princeps Leaf Extract, Pentafluoropropane, Curcuma Longa (Turmeric) Root Extract, Steareth-20, Hydrolyzed Hyaluronic Acid, Colloidal Oatmeal, Hydrolyzed Silk, Citric Acid, Sodium Benzoate, Potassium Sorbate, Aloe Barbadensis Leaf Extract, N-Hydroxysuccinimide, Hydrolyzed Collagen, Caprylhydroxamic Acid, Tocopherol, Thiamine Hcl, Riboflavin, Retinyl Palmitate, Pantothenic Acid, Palmitoyl Oligopeptide, Niacin, Folic Acid, Chrysin, Carnitine Hcl, Biotin, Ascorbic Acid, Palmitoyl Tetrapeptide-7, Chlorhexidine Digluconate'],\n",
       "      dtype=object)"
      ]
     },
     "execution_count": 16,
     "metadata": {},
     "output_type": "execute_result"
    }
   ],
   "source": [
    "for key, val in replace_str_dict.items():\n",
    "    df_target.loc[:,'Ingredients'] = df_target.loc[:,'Ingredients'].str.replace(key, val)\n",
    "df_target['Ingredients'].unique()"
   ]
  },
  {
   "cell_type": "code",
   "execution_count": 17,
   "metadata": {
    "id": "mph3qo8Ccf8C",
    "outputId": "21250d98-7da0-412a-f516-2e8c838a167a"
   },
   "outputs": [
    {
     "name": "stdout",
     "output_type": "stream",
     "text": [
      "정답입니다! 20점 누적 되었습니다!\n",
      "현재 누적 점수: 60 / 100\n"
     ]
    },
    {
     "data": {
      "text/html": [
       "<div>\n",
       "<style scoped>\n",
       "    .dataframe tbody tr th:only-of-type {\n",
       "        vertical-align: middle;\n",
       "    }\n",
       "\n",
       "    .dataframe tbody tr th {\n",
       "        vertical-align: top;\n",
       "    }\n",
       "\n",
       "    .dataframe thead th {\n",
       "        text-align: right;\n",
       "    }\n",
       "</style>\n",
       "<table border=\"1\" class=\"dataframe\">\n",
       "  <thead>\n",
       "    <tr style=\"text-align: right;\">\n",
       "      <th></th>\n",
       "      <th>Label</th>\n",
       "      <th>Brand</th>\n",
       "      <th>Name</th>\n",
       "      <th>Price</th>\n",
       "      <th>Rank</th>\n",
       "      <th>Ingredients</th>\n",
       "      <th>Combination</th>\n",
       "      <th>Dry</th>\n",
       "      <th>Normal</th>\n",
       "      <th>Oily</th>\n",
       "      <th>Sensitive</th>\n",
       "    </tr>\n",
       "  </thead>\n",
       "  <tbody>\n",
       "    <tr>\n",
       "      <th>0</th>\n",
       "      <td>Moisturizer</td>\n",
       "      <td>LA MER</td>\n",
       "      <td>Crème de la Mer</td>\n",
       "      <td>175</td>\n",
       "      <td>4.1</td>\n",
       "      <td>Algae Extract, Mineral Oil, Petrolatum, Glycer...</td>\n",
       "      <td>1</td>\n",
       "      <td>1</td>\n",
       "      <td>1</td>\n",
       "      <td>1</td>\n",
       "      <td>1</td>\n",
       "    </tr>\n",
       "    <tr>\n",
       "      <th>1</th>\n",
       "      <td>Moisturizer</td>\n",
       "      <td>SK-II</td>\n",
       "      <td>Facial Treatment Essence</td>\n",
       "      <td>179</td>\n",
       "      <td>4.1</td>\n",
       "      <td>Galactomyces Ferment Filtrate, Butylene Glycol...</td>\n",
       "      <td>1</td>\n",
       "      <td>1</td>\n",
       "      <td>1</td>\n",
       "      <td>1</td>\n",
       "      <td>1</td>\n",
       "    </tr>\n",
       "    <tr>\n",
       "      <th>2</th>\n",
       "      <td>Moisturizer</td>\n",
       "      <td>DRUNK ELEPHANT</td>\n",
       "      <td>Protini™ Polypeptide Cream</td>\n",
       "      <td>68</td>\n",
       "      <td>4.4</td>\n",
       "      <td>Water, Dicaprylyl Carbonate, Glycerin, Ceteary...</td>\n",
       "      <td>1</td>\n",
       "      <td>1</td>\n",
       "      <td>1</td>\n",
       "      <td>1</td>\n",
       "      <td>0</td>\n",
       "    </tr>\n",
       "    <tr>\n",
       "      <th>3</th>\n",
       "      <td>Moisturizer</td>\n",
       "      <td>LA MER</td>\n",
       "      <td>The Moisturizing Soft Cream</td>\n",
       "      <td>175</td>\n",
       "      <td>3.8</td>\n",
       "      <td>Algae Extract, Cyclopentasiloxane, Petrolatum,...</td>\n",
       "      <td>1</td>\n",
       "      <td>1</td>\n",
       "      <td>1</td>\n",
       "      <td>1</td>\n",
       "      <td>1</td>\n",
       "    </tr>\n",
       "    <tr>\n",
       "      <th>4</th>\n",
       "      <td>Moisturizer</td>\n",
       "      <td>IT COSMETICS</td>\n",
       "      <td>Your Skin But Better™ CC+™ Cream with SPF 50+</td>\n",
       "      <td>38</td>\n",
       "      <td>4.1</td>\n",
       "      <td>Water, Snail Secretion Filtrate, Phenyl Trimet...</td>\n",
       "      <td>1</td>\n",
       "      <td>1</td>\n",
       "      <td>1</td>\n",
       "      <td>1</td>\n",
       "      <td>1</td>\n",
       "    </tr>\n",
       "  </tbody>\n",
       "</table>\n",
       "</div>"
      ],
      "text/plain": [
       "         Label           Brand                                           Name  \\\n",
       "0  Moisturizer          LA MER                                Crème de la Mer   \n",
       "1  Moisturizer           SK-II                       Facial Treatment Essence   \n",
       "2  Moisturizer  DRUNK ELEPHANT                     Protini™ Polypeptide Cream   \n",
       "3  Moisturizer          LA MER                    The Moisturizing Soft Cream   \n",
       "4  Moisturizer    IT COSMETICS  Your Skin But Better™ CC+™ Cream with SPF 50+   \n",
       "\n",
       "   Price  Rank                                        Ingredients  \\\n",
       "0    175   4.1  Algae Extract, Mineral Oil, Petrolatum, Glycer...   \n",
       "1    179   4.1  Galactomyces Ferment Filtrate, Butylene Glycol...   \n",
       "2     68   4.4  Water, Dicaprylyl Carbonate, Glycerin, Ceteary...   \n",
       "3    175   3.8  Algae Extract, Cyclopentasiloxane, Petrolatum,...   \n",
       "4     38   4.1  Water, Snail Secretion Filtrate, Phenyl Trimet...   \n",
       "\n",
       "   Combination  Dry  Normal  Oily  Sensitive  \n",
       "0            1    1       1     1          1  \n",
       "1            1    1       1     1          1  \n",
       "2            1    1       1     1          0  \n",
       "3            1    1       1     1          1  \n",
       "4            1    1       1     1          1  "
      ]
     },
     "execution_count": 17,
     "metadata": {},
     "output_type": "execute_result"
    }
   ],
   "source": [
    "# 2-1\n",
    "check_02_01(df_target)\n",
    "df_target"
   ]
  },
  {
   "cell_type": "markdown",
   "metadata": {
    "id": "XiDM3EdDcf8C"
   },
   "source": [
    "### **문제 2-2)** Target DataFrame 중 'Ingredients' Column Data 변환하기(10점)\n",
    "- 다음 조건에 맞게 앞서 수정한 'Ingredients' Column의 데이터를 변환하여 'Ingredients List' Column에 입력하세요.\n",
    "<br></br>\n",
    "    - 조건1: 'Ingredients' Column의 각 데이터를 ', '(쉼표+띄어쓰기)로 분리하여 List로 변환하세요\n",
    "        - ex) '  Algae (Seaweed) Extract,  Sea Salt  ' -> ['  Algae (Seaweed) Extract', ' Sea Salt  ']\n",
    "<br></br>\n",
    "    - 조건2: 조건1에서 변경한 list의 각 Element 앞뒤의 공백이 있다면 공백을 삭제하세요\n",
    "        - ex) ['  Algae (Seaweed) Extract', ' Sea Salt  '] -> ['Algae (Seaweed) Extract', 'Sea Salt']\n",
    "<br></br>\n",
    "    - 조건3: 'Ingredients List' Column을 새로 생성하여 조건1과 조건2에서 만든 list를 각 행에 맞게 입력하세요\n",
    "<br></br>\n",
    "- 완료 후 결과 dataframe 변수를 check_02_02 함수에 입력하여 채점하세요."
   ]
  },
  {
   "cell_type": "code",
   "execution_count": 18,
   "metadata": {},
   "outputs": [],
   "source": [
    "df_target['Ingredients List'] = df_target['Ingredients'].apply(lambda x: x.split(', '))\n"
   ]
  },
  {
   "cell_type": "code",
   "execution_count": 19,
   "metadata": {},
   "outputs": [
    {
     "data": {
      "text/plain": [
       "0    [Algae Extract, Mineral Oil, Petrolatum, Glyce...\n",
       "1    [Galactomyces Ferment Filtrate, Butylene Glyco...\n",
       "2    [Water, Dicaprylyl Carbonate, Glycerin, Cetear...\n",
       "3    [Algae Extract, Cyclopentasiloxane, Petrolatum...\n",
       "4    [Water, Snail Secretion Filtrate, Phenyl Trime...\n",
       "Name: Ingredients List, dtype: object"
      ]
     },
     "execution_count": 19,
     "metadata": {},
     "output_type": "execute_result"
    }
   ],
   "source": [
    "df_target['Ingredients List']"
   ]
  },
  {
   "cell_type": "code",
   "execution_count": 20,
   "metadata": {},
   "outputs": [
    {
     "data": {
      "text/plain": [
       "0    [Algae Extract, Mineral Oil, Petrolatum, Glyce...\n",
       "1    [Galactomyces Ferment Filtrate, Butylene Glyco...\n",
       "2    [Water, Dicaprylyl Carbonate, Glycerin, Cetear...\n",
       "3    [Algae Extract, Cyclopentasiloxane, Petrolatum...\n",
       "4    [Water, Snail Secretion Filtrate, Phenyl Trime...\n",
       "Name: Ingredients List, dtype: object"
      ]
     },
     "execution_count": 20,
     "metadata": {},
     "output_type": "execute_result"
    }
   ],
   "source": [
    "df_target['Ingredients List'] = df_target['Ingredients List'].apply(lambda x: [i.strip(' ') for i in x])\n",
    "df_target['Ingredients List']"
   ]
  },
  {
   "cell_type": "code",
   "execution_count": 21,
   "metadata": {
    "id": "xjTTPMvAcf8C",
    "outputId": "91c28c59-4bdf-4e74-c95c-8fab8067d0dc"
   },
   "outputs": [
    {
     "name": "stdout",
     "output_type": "stream",
     "text": [
      "정답입니다! 10점 누적 되었습니다!\n",
      "현재 누적 점수: 70 / 100\n"
     ]
    },
    {
     "data": {
      "text/html": [
       "<div>\n",
       "<style scoped>\n",
       "    .dataframe tbody tr th:only-of-type {\n",
       "        vertical-align: middle;\n",
       "    }\n",
       "\n",
       "    .dataframe tbody tr th {\n",
       "        vertical-align: top;\n",
       "    }\n",
       "\n",
       "    .dataframe thead th {\n",
       "        text-align: right;\n",
       "    }\n",
       "</style>\n",
       "<table border=\"1\" class=\"dataframe\">\n",
       "  <thead>\n",
       "    <tr style=\"text-align: right;\">\n",
       "      <th></th>\n",
       "      <th>Label</th>\n",
       "      <th>Brand</th>\n",
       "      <th>Name</th>\n",
       "      <th>Price</th>\n",
       "      <th>Rank</th>\n",
       "      <th>Ingredients</th>\n",
       "      <th>Combination</th>\n",
       "      <th>Dry</th>\n",
       "      <th>Normal</th>\n",
       "      <th>Oily</th>\n",
       "      <th>Sensitive</th>\n",
       "      <th>Ingredients List</th>\n",
       "    </tr>\n",
       "  </thead>\n",
       "  <tbody>\n",
       "    <tr>\n",
       "      <th>0</th>\n",
       "      <td>Moisturizer</td>\n",
       "      <td>LA MER</td>\n",
       "      <td>Crème de la Mer</td>\n",
       "      <td>175</td>\n",
       "      <td>4.1</td>\n",
       "      <td>Algae Extract, Mineral Oil, Petrolatum, Glycer...</td>\n",
       "      <td>1</td>\n",
       "      <td>1</td>\n",
       "      <td>1</td>\n",
       "      <td>1</td>\n",
       "      <td>1</td>\n",
       "      <td>[Algae Extract, Mineral Oil, Petrolatum, Glyce...</td>\n",
       "    </tr>\n",
       "    <tr>\n",
       "      <th>1</th>\n",
       "      <td>Moisturizer</td>\n",
       "      <td>SK-II</td>\n",
       "      <td>Facial Treatment Essence</td>\n",
       "      <td>179</td>\n",
       "      <td>4.1</td>\n",
       "      <td>Galactomyces Ferment Filtrate, Butylene Glycol...</td>\n",
       "      <td>1</td>\n",
       "      <td>1</td>\n",
       "      <td>1</td>\n",
       "      <td>1</td>\n",
       "      <td>1</td>\n",
       "      <td>[Galactomyces Ferment Filtrate, Butylene Glyco...</td>\n",
       "    </tr>\n",
       "    <tr>\n",
       "      <th>2</th>\n",
       "      <td>Moisturizer</td>\n",
       "      <td>DRUNK ELEPHANT</td>\n",
       "      <td>Protini™ Polypeptide Cream</td>\n",
       "      <td>68</td>\n",
       "      <td>4.4</td>\n",
       "      <td>Water, Dicaprylyl Carbonate, Glycerin, Ceteary...</td>\n",
       "      <td>1</td>\n",
       "      <td>1</td>\n",
       "      <td>1</td>\n",
       "      <td>1</td>\n",
       "      <td>0</td>\n",
       "      <td>[Water, Dicaprylyl Carbonate, Glycerin, Cetear...</td>\n",
       "    </tr>\n",
       "    <tr>\n",
       "      <th>3</th>\n",
       "      <td>Moisturizer</td>\n",
       "      <td>LA MER</td>\n",
       "      <td>The Moisturizing Soft Cream</td>\n",
       "      <td>175</td>\n",
       "      <td>3.8</td>\n",
       "      <td>Algae Extract, Cyclopentasiloxane, Petrolatum,...</td>\n",
       "      <td>1</td>\n",
       "      <td>1</td>\n",
       "      <td>1</td>\n",
       "      <td>1</td>\n",
       "      <td>1</td>\n",
       "      <td>[Algae Extract, Cyclopentasiloxane, Petrolatum...</td>\n",
       "    </tr>\n",
       "    <tr>\n",
       "      <th>4</th>\n",
       "      <td>Moisturizer</td>\n",
       "      <td>IT COSMETICS</td>\n",
       "      <td>Your Skin But Better™ CC+™ Cream with SPF 50+</td>\n",
       "      <td>38</td>\n",
       "      <td>4.1</td>\n",
       "      <td>Water, Snail Secretion Filtrate, Phenyl Trimet...</td>\n",
       "      <td>1</td>\n",
       "      <td>1</td>\n",
       "      <td>1</td>\n",
       "      <td>1</td>\n",
       "      <td>1</td>\n",
       "      <td>[Water, Snail Secretion Filtrate, Phenyl Trime...</td>\n",
       "    </tr>\n",
       "  </tbody>\n",
       "</table>\n",
       "</div>"
      ],
      "text/plain": [
       "         Label           Brand                                           Name  \\\n",
       "0  Moisturizer          LA MER                                Crème de la Mer   \n",
       "1  Moisturizer           SK-II                       Facial Treatment Essence   \n",
       "2  Moisturizer  DRUNK ELEPHANT                     Protini™ Polypeptide Cream   \n",
       "3  Moisturizer          LA MER                    The Moisturizing Soft Cream   \n",
       "4  Moisturizer    IT COSMETICS  Your Skin But Better™ CC+™ Cream with SPF 50+   \n",
       "\n",
       "   Price  Rank                                        Ingredients  \\\n",
       "0    175   4.1  Algae Extract, Mineral Oil, Petrolatum, Glycer...   \n",
       "1    179   4.1  Galactomyces Ferment Filtrate, Butylene Glycol...   \n",
       "2     68   4.4  Water, Dicaprylyl Carbonate, Glycerin, Ceteary...   \n",
       "3    175   3.8  Algae Extract, Cyclopentasiloxane, Petrolatum,...   \n",
       "4     38   4.1  Water, Snail Secretion Filtrate, Phenyl Trimet...   \n",
       "\n",
       "   Combination  Dry  Normal  Oily  Sensitive  \\\n",
       "0            1    1       1     1          1   \n",
       "1            1    1       1     1          1   \n",
       "2            1    1       1     1          0   \n",
       "3            1    1       1     1          1   \n",
       "4            1    1       1     1          1   \n",
       "\n",
       "                                    Ingredients List  \n",
       "0  [Algae Extract, Mineral Oil, Petrolatum, Glyce...  \n",
       "1  [Galactomyces Ferment Filtrate, Butylene Glyco...  \n",
       "2  [Water, Dicaprylyl Carbonate, Glycerin, Cetear...  \n",
       "3  [Algae Extract, Cyclopentasiloxane, Petrolatum...  \n",
       "4  [Water, Snail Secretion Filtrate, Phenyl Trime...  "
      ]
     },
     "execution_count": 21,
     "metadata": {},
     "output_type": "execute_result"
    }
   ],
   "source": [
    "# 2-2\n",
    "\n",
    "check_02_02(df_target)\n",
    "df_target"
   ]
  },
  {
   "cell_type": "markdown",
   "metadata": {
    "id": "Mz6rAmipcf8C"
   },
   "source": [
    "## 3단계: 성분사전(Ingredients Dictionary)을 이용하여 Mapping하기\n",
    "***"
   ]
  },
  {
   "cell_type": "markdown",
   "metadata": {
    "id": "-mUoVafncf8C"
   },
   "source": [
    "### **문제 3-1)** Target DataFrame 의 'Ingredients List' Column를 Mapping하여 'Code List' Column 만들기(15점)\n",
    "- (아래 예시를 참고)성분사전(Ingredients Dictionary)를 이용하여 Target DataFrame의 'Ingredients List'를 각 성분에 Mapping되는 'Code List'로 만들고, 'Code List' Column을 만들어 Code List를 각 행에 맞게 입력하세요.\n",
    "<br></br>\n",
    "    <img src=\"images/02-3-1-001.png\" style=\"margin:auto\" width=300/>\n",
    "    <img src=\"images/02-3-1-002.png\" style=\"margin:auto\" width=450/>\n",
    "<br></br>\n",
    "    - 조건1: Ingredients List에 대응하는 Code List의 순서는 같아야 합니다.\n",
    "<br></br>\n",
    "<br></br>\n",
    "    - hint1: '표준 영문명'에서 찾지 못한다면 '구영문명'으로도 찾아보세요\n",
    "<br></br>\n",
    "    - hint2: 대문자-소문자 차이가 있을 수 있습니다.\n",
    "<br></br>\n",
    "    - 참고: 'Code'는 성분사전(Ingredients Dictionary)의 '성분코드'를 의미합니다.(Index가 아닙니다)\n",
    "<br></br>\n",
    "- 완료 후 결과 dataframe 변수를 check_03_01 함수에 입력하여 채점하세요."
   ]
  },
  {
   "cell_type": "code",
   "execution_count": 22,
   "metadata": {},
   "outputs": [
    {
     "data": {
      "text/plain": [
       "array([nan, 'Solanum Melongena (Eggplant) Fruit Extract',\n",
       "       'Agarum Cribosum Extract', ...,\n",
       "       'Bacilus/Prunus Ydoensis Leaf Extract Ferment Filtrate',\n",
       "       '(Morus Alba Fruit/Sucrose Ferment Filtrate/Polygonum Multiflorum Root Extract) Ferment Filtrate',\n",
       "       'Caffeoyl Hexapeptide-82'], dtype=object)"
      ]
     },
     "execution_count": 22,
     "metadata": {},
     "output_type": "execute_result"
    }
   ],
   "source": [
    "ingredients_df['구영문명'].unique()"
   ]
  },
  {
   "cell_type": "code",
   "execution_count": 23,
   "metadata": {},
   "outputs": [
    {
     "name": "stdout",
     "output_type": "stream",
     "text": [
      "<class 'pandas.core.frame.DataFrame'>\n",
      "RangeIndex: 20375 entries, 0 to 20374\n",
      "Data columns (total 5 columns):\n",
      " #   Column  Non-Null Count  Dtype \n",
      "---  ------  --------------  ----- \n",
      " 0   성분코드    20375 non-null  int64 \n",
      " 1   표준 성분명  20375 non-null  object\n",
      " 2   표준 영문명  20375 non-null  object\n",
      " 3   구명칭     20375 non-null  object\n",
      " 4   구영문명    20375 non-null  object\n",
      "dtypes: int64(1), object(4)\n",
      "memory usage: 796.0+ KB\n"
     ]
    }
   ],
   "source": [
    "tmp_ing_df = ingredients_df.fillna('A')\n",
    "tmp_ing_df.info()"
   ]
  },
  {
   "cell_type": "code",
   "execution_count": 24,
   "metadata": {},
   "outputs": [
    {
     "data": {
      "text/html": [
       "<div>\n",
       "<style scoped>\n",
       "    .dataframe tbody tr th:only-of-type {\n",
       "        vertical-align: middle;\n",
       "    }\n",
       "\n",
       "    .dataframe tbody tr th {\n",
       "        vertical-align: top;\n",
       "    }\n",
       "\n",
       "    .dataframe thead th {\n",
       "        text-align: right;\n",
       "    }\n",
       "</style>\n",
       "<table border=\"1\" class=\"dataframe\">\n",
       "  <thead>\n",
       "    <tr style=\"text-align: right;\">\n",
       "      <th></th>\n",
       "      <th>성분코드</th>\n",
       "      <th>표준 성분명</th>\n",
       "      <th>표준 영문명</th>\n",
       "      <th>구명칭</th>\n",
       "      <th>구영문명</th>\n",
       "    </tr>\n",
       "  </thead>\n",
       "  <tbody>\n",
       "    <tr>\n",
       "      <th>977</th>\n",
       "      <td>979</td>\n",
       "      <td>조류추출물</td>\n",
       "      <td>Algae Extract</td>\n",
       "      <td>A</td>\n",
       "      <td>A</td>\n",
       "    </tr>\n",
       "  </tbody>\n",
       "</table>\n",
       "</div>"
      ],
      "text/plain": [
       "     성분코드 표준 성분명         표준 영문명 구명칭 구영문명\n",
       "977   979  조류추출물  Algae Extract   A    A"
      ]
     },
     "execution_count": 24,
     "metadata": {},
     "output_type": "execute_result"
    }
   ],
   "source": [
    "tmp_ing_df.loc[tmp_ing_df['표준 영문명'].str.lower()=='algae extract',:]"
   ]
  },
  {
   "cell_type": "code",
   "execution_count": 25,
   "metadata": {
    "scrolled": true
   },
   "outputs": [
    {
     "data": {
      "text/plain": [
       "['Algae Extract',\n",
       " 'Mineral Oil',\n",
       " 'Petrolatum',\n",
       " 'Glycerin',\n",
       " 'Isohexadecane',\n",
       " 'Microcrystalline Wax',\n",
       " 'Lanolin Alcohol',\n",
       " 'Citrus Aurantifolia (Lime) Fruit Extract',\n",
       " 'Sesamum Indicum (Sesame) Seed Oil',\n",
       " 'Eucalyptus Globulus Leaf Oil',\n",
       " 'Sesamum Indicum (Sesame) Seed Powder',\n",
       " 'Medicago Sativa (Alfalfa) Seed Powder',\n",
       " 'Helianthus Annuus (Sunflower) Seedcake',\n",
       " 'Prunus Amygdalus Dulcis (Sweet Almond) Seed Meal',\n",
       " 'Sodium Gluconate',\n",
       " 'Copper Gluconate',\n",
       " 'Calcium Gluconate',\n",
       " 'Magnesium Gluconate',\n",
       " 'Zinc Gluconate',\n",
       " 'Magnesium Sulfate',\n",
       " 'Paraffin',\n",
       " 'Tocopheryl Succinate',\n",
       " 'Niacin',\n",
       " 'Water',\n",
       " 'Beta-Carotene',\n",
       " 'Decyl Oleate',\n",
       " 'Aluminum Distearate',\n",
       " 'Octyldodecanol',\n",
       " 'Citric Acid',\n",
       " 'Cyanocobalamin',\n",
       " 'Magnesium Stearate',\n",
       " 'Panthenol',\n",
       " 'Limonene',\n",
       " 'Geraniol',\n",
       " 'Linalool',\n",
       " 'Hydroxycitronellal',\n",
       " 'Citronellol',\n",
       " 'Benzyl Salicylate',\n",
       " 'Citral',\n",
       " 'Sodium Benzoate',\n",
       " 'Alcohol Denat.',\n",
       " 'Fragrance|Perfume|Parfum']"
      ]
     },
     "execution_count": 25,
     "metadata": {},
     "output_type": "execute_result"
    }
   ],
   "source": [
    "df_target['Ingredients List'][0]"
   ]
  },
  {
   "cell_type": "code",
   "execution_count": 26,
   "metadata": {},
   "outputs": [],
   "source": [
    "def code_map(ingredient, df):\n",
    "    ingredient_lower = ingredient.lower()\n",
    "    cond1 = tmp_ing_df['표준 영문명'].str.lower() == ingredient_lower\n",
    "    cond2 = tmp_ing_df['구영문명'].str.lower() == ingredient_lower\n",
    "    \n",
    "    if cond1.any():\n",
    "        res = tmp_ing_df.loc[cond1, '성분코드'].values[0]\n",
    "\n",
    "    elif cond2.any():\n",
    "        res = tmp_ing_df.loc[cond2, '성분코드'].values[0]\n",
    "\n",
    "    else:\n",
    "        res = np.nan\n",
    "\n",
    "    return res    "
   ]
  },
  {
   "cell_type": "code",
   "execution_count": 27,
   "metadata": {},
   "outputs": [],
   "source": [
    "df_target['Code List'] = df_target['Ingredients List'].apply(lambda x: [code_map(i, tmp_ing_df) for i in x])"
   ]
  },
  {
   "cell_type": "code",
   "execution_count": 29,
   "metadata": {
    "id": "ycN8l6cTcf8C",
    "outputId": "d968cb3a-5905-46d3-9b4b-db4619a662e0"
   },
   "outputs": [
    {
     "name": "stdout",
     "output_type": "stream",
     "text": [
      "정답입니다! 15점 누적 되었습니다!\n",
      "현재 누적 점수: 85 / 100\n"
     ]
    },
    {
     "data": {
      "text/html": [
       "<div>\n",
       "<style scoped>\n",
       "    .dataframe tbody tr th:only-of-type {\n",
       "        vertical-align: middle;\n",
       "    }\n",
       "\n",
       "    .dataframe tbody tr th {\n",
       "        vertical-align: top;\n",
       "    }\n",
       "\n",
       "    .dataframe thead th {\n",
       "        text-align: right;\n",
       "    }\n",
       "</style>\n",
       "<table border=\"1\" class=\"dataframe\">\n",
       "  <thead>\n",
       "    <tr style=\"text-align: right;\">\n",
       "      <th></th>\n",
       "      <th>Label</th>\n",
       "      <th>Brand</th>\n",
       "      <th>Name</th>\n",
       "      <th>Price</th>\n",
       "      <th>Rank</th>\n",
       "      <th>Ingredients</th>\n",
       "      <th>Combination</th>\n",
       "      <th>Dry</th>\n",
       "      <th>Normal</th>\n",
       "      <th>Oily</th>\n",
       "      <th>Sensitive</th>\n",
       "      <th>Ingredients List</th>\n",
       "      <th>Code List</th>\n",
       "    </tr>\n",
       "  </thead>\n",
       "  <tbody>\n",
       "    <tr>\n",
       "      <th>0</th>\n",
       "      <td>Moisturizer</td>\n",
       "      <td>LA MER</td>\n",
       "      <td>Crème de la Mer</td>\n",
       "      <td>175</td>\n",
       "      <td>4.1</td>\n",
       "      <td>Algae Extract, Mineral Oil, Petrolatum, Glycer...</td>\n",
       "      <td>1</td>\n",
       "      <td>1</td>\n",
       "      <td>1</td>\n",
       "      <td>1</td>\n",
       "      <td>1</td>\n",
       "      <td>[Algae Extract, Mineral Oil, Petrolatum, Glyce...</td>\n",
       "      <td>[979, 317, 3602, 1013, 2547, 86, 5299, 5416, 2...</td>\n",
       "    </tr>\n",
       "    <tr>\n",
       "      <th>1</th>\n",
       "      <td>Moisturizer</td>\n",
       "      <td>SK-II</td>\n",
       "      <td>Facial Treatment Essence</td>\n",
       "      <td>179</td>\n",
       "      <td>4.1</td>\n",
       "      <td>Galactomyces Ferment Filtrate, Butylene Glycol...</td>\n",
       "      <td>1</td>\n",
       "      <td>1</td>\n",
       "      <td>1</td>\n",
       "      <td>1</td>\n",
       "      <td>1</td>\n",
       "      <td>[Galactomyces Ferment Filtrate, Butylene Glyco...</td>\n",
       "      <td>[6377, 586, 3635, 2700, 1116, 213, 1299]</td>\n",
       "    </tr>\n",
       "    <tr>\n",
       "      <th>2</th>\n",
       "      <td>Moisturizer</td>\n",
       "      <td>DRUNK ELEPHANT</td>\n",
       "      <td>Protini™ Polypeptide Cream</td>\n",
       "      <td>68</td>\n",
       "      <td>4.4</td>\n",
       "      <td>Water, Dicaprylyl Carbonate, Glycerin, Ceteary...</td>\n",
       "      <td>1</td>\n",
       "      <td>1</td>\n",
       "      <td>1</td>\n",
       "      <td>1</td>\n",
       "      <td>0</td>\n",
       "      <td>[Water, Dicaprylyl Carbonate, Glycerin, Cetear...</td>\n",
       "      <td>[2700, 5218, 1013, 974, 976, 1290, 677, 7177, ...</td>\n",
       "    </tr>\n",
       "    <tr>\n",
       "      <th>3</th>\n",
       "      <td>Moisturizer</td>\n",
       "      <td>LA MER</td>\n",
       "      <td>The Moisturizing Soft Cream</td>\n",
       "      <td>175</td>\n",
       "      <td>3.8</td>\n",
       "      <td>Algae Extract, Cyclopentasiloxane, Petrolatum,...</td>\n",
       "      <td>1</td>\n",
       "      <td>1</td>\n",
       "      <td>1</td>\n",
       "      <td>1</td>\n",
       "      <td>1</td>\n",
       "      <td>[Algae Extract, Cyclopentasiloxane, Petrolatum...</td>\n",
       "      <td>[979, 769, 3602, 1057, 3586, 586, 4566, 3087, ...</td>\n",
       "    </tr>\n",
       "    <tr>\n",
       "      <th>4</th>\n",
       "      <td>Moisturizer</td>\n",
       "      <td>IT COSMETICS</td>\n",
       "      <td>Your Skin But Better™ CC+™ Cream with SPF 50+</td>\n",
       "      <td>38</td>\n",
       "      <td>4.1</td>\n",
       "      <td>Water, Snail Secretion Filtrate, Phenyl Trimet...</td>\n",
       "      <td>1</td>\n",
       "      <td>1</td>\n",
       "      <td>1</td>\n",
       "      <td>1</td>\n",
       "      <td>1</td>\n",
       "      <td>[Water, Snail Secretion Filtrate, Phenyl Trime...</td>\n",
       "      <td>[2700, 6319, 3586, 4512, 586, 587, 387, 606, 1...</td>\n",
       "    </tr>\n",
       "  </tbody>\n",
       "</table>\n",
       "</div>"
      ],
      "text/plain": [
       "         Label           Brand                                           Name  \\\n",
       "0  Moisturizer          LA MER                                Crème de la Mer   \n",
       "1  Moisturizer           SK-II                       Facial Treatment Essence   \n",
       "2  Moisturizer  DRUNK ELEPHANT                     Protini™ Polypeptide Cream   \n",
       "3  Moisturizer          LA MER                    The Moisturizing Soft Cream   \n",
       "4  Moisturizer    IT COSMETICS  Your Skin But Better™ CC+™ Cream with SPF 50+   \n",
       "\n",
       "   Price  Rank                                        Ingredients  \\\n",
       "0    175   4.1  Algae Extract, Mineral Oil, Petrolatum, Glycer...   \n",
       "1    179   4.1  Galactomyces Ferment Filtrate, Butylene Glycol...   \n",
       "2     68   4.4  Water, Dicaprylyl Carbonate, Glycerin, Ceteary...   \n",
       "3    175   3.8  Algae Extract, Cyclopentasiloxane, Petrolatum,...   \n",
       "4     38   4.1  Water, Snail Secretion Filtrate, Phenyl Trimet...   \n",
       "\n",
       "   Combination  Dry  Normal  Oily  Sensitive  \\\n",
       "0            1    1       1     1          1   \n",
       "1            1    1       1     1          1   \n",
       "2            1    1       1     1          0   \n",
       "3            1    1       1     1          1   \n",
       "4            1    1       1     1          1   \n",
       "\n",
       "                                    Ingredients List  \\\n",
       "0  [Algae Extract, Mineral Oil, Petrolatum, Glyce...   \n",
       "1  [Galactomyces Ferment Filtrate, Butylene Glyco...   \n",
       "2  [Water, Dicaprylyl Carbonate, Glycerin, Cetear...   \n",
       "3  [Algae Extract, Cyclopentasiloxane, Petrolatum...   \n",
       "4  [Water, Snail Secretion Filtrate, Phenyl Trime...   \n",
       "\n",
       "                                           Code List  \n",
       "0  [979, 317, 3602, 1013, 2547, 86, 5299, 5416, 2...  \n",
       "1           [6377, 586, 3635, 2700, 1116, 213, 1299]  \n",
       "2  [2700, 5218, 1013, 974, 976, 1290, 677, 7177, ...  \n",
       "3  [979, 769, 3602, 1057, 3586, 586, 4566, 3087, ...  \n",
       "4  [2700, 6319, 3586, 4512, 586, 587, 387, 606, 1...  "
      ]
     },
     "execution_count": 29,
     "metadata": {},
     "output_type": "execute_result"
    }
   ],
   "source": [
    "# 3-1\n",
    "\n",
    "check_03_01(df_target)\n",
    "df_target"
   ]
  },
  {
   "cell_type": "markdown",
   "metadata": {
    "id": "281ez64Kcf8C"
   },
   "source": [
    "### **문제 3-2)** 다음 조건을 만족하는 code들을 찾아 그 code들에 해당하는 DataFrame을 구하세요(15점)\n",
    "- (아래 예시를 참고) Target DataFrame의 Code List를 **각 행 내에서 중복 없이** 모두 합쳐 두 번 나온 수를 오름차순으로 정렬하고, 첫번째부터 다섯번째까지의 수들을 찾아 성분사전(Ingredients Dictionary)를 이용하여 해당 Code들의 DataFrame을 구하세요.\n",
    "<br></br>\n",
    "    - 예시 DataFrame\n",
    "<br></br>\n",
    "    <img src=\"images/02-3-2-001.png\" style=\"margin:auto\" width=300/>\n",
    "<br></br>\n",
    "    - 이 DataFrame에서 나타난 Code 중 **각 행 내에서 중복 없이** 두 번 나온 Code는 [3, 9, 23, 34, 57, 234] 이고, 이 중 오름차순으로 첫번째부터 다섯번째까지의 수는 [3, 9, 23, 34, 57] 입니다.\n",
    "        - 참고\n",
    "            - '3'의 경우 2번 행과 3번 행에서 나왔습니다.\n",
    "            - 0번 행의 '12'의 경우 중복하여 나왔으므로, 한 번 나온 것으로 count 합니다.\n",
    "<br></br>\n",
    "    - 성분사전(Ingredients Dictionary)에서 해당 code들의 DataFrame은 아래와 같습니다.\n",
    "<br></br>\n",
    "    <img src=\"images/02-3-2-002.png\" style=\"margin:auto\" width=600/>\n",
    "<br></br>\n",
    "    - 조건1: 중복 code는 없어야 합니다.\n",
    "<br></br>\n",
    "    - 조건2: '두' 번 나온 수, 오름차순, 첫번째부터 다섯번째까지 다시 한번 확인하세요.\n",
    "<br></br>\n",
    "<br></br>\n",
    "    - hint1: sorted(list, key=lambda x: func(x))\n",
    "<br></br>\n",
    "    - hint2: set()\n",
    "<br></br>\n",
    "    - hint3: list.count()\n",
    "<br></br>\n",
    "<br></br>\n",
    "    - 참고: 'Code'는 성분사전(Ingredients Dictionary)의 '성분코드'를 의미합니다.(Index가 아닙니다)\n",
    "<br></br>\n",
    "- 완료 후 결과 dataframe 변수를 check_03_02 함수에 입력하여 채점하세요."
   ]
  },
  {
   "cell_type": "code",
   "execution_count": 30,
   "metadata": {},
   "outputs": [],
   "source": [
    "def tmp_function(data):\n",
    "    tmp = []\n",
    "    res = []\n",
    "    for idx, row in data.iterrows():\n",
    "        tmp_set = set(row['Code List'])\n",
    "        tmp.extend(tmp_set)\n",
    "    for code in tmp:\n",
    "        if tmp.count(code) == 2:\n",
    "            res.append(code)\n",
    "    return res"
   ]
  },
  {
   "cell_type": "code",
   "execution_count": 32,
   "metadata": {
    "scrolled": true
   },
   "outputs": [
    {
     "data": {
      "text/plain": [
       "[9,\n",
       " 20,\n",
       " 37,\n",
       " 46,\n",
       " 761,\n",
       " 769,\n",
       " 979,\n",
       " 1036,\n",
       " 1258,\n",
       " 1265,\n",
       " 1292,\n",
       " 1395,\n",
       " 1530,\n",
       " 1532,\n",
       " 2627,\n",
       " 2704,\n",
       " 2766,\n",
       " 2793,\n",
       " 2904,\n",
       " 2924,\n",
       " 2945,\n",
       " 3087,\n",
       " 3288,\n",
       " 3293,\n",
       " 3548,\n",
       " 3586,\n",
       " 3602,\n",
       " 3635,\n",
       " 3679,\n",
       " 4512,\n",
       " 4639,\n",
       " 4839,\n",
       " 4852,\n",
       " 4877,\n",
       " 5120,\n",
       " 5485,\n",
       " 5759,\n",
       " 5806]"
      ]
     },
     "execution_count": 32,
     "metadata": {},
     "output_type": "execute_result"
    }
   ],
   "source": [
    "result = sorted(set(tmp_function(df_target)))\n",
    "result"
   ]
  },
  {
   "cell_type": "code",
   "execution_count": 34,
   "metadata": {},
   "outputs": [
    {
     "data": {
      "text/html": [
       "<div>\n",
       "<style scoped>\n",
       "    .dataframe tbody tr th:only-of-type {\n",
       "        vertical-align: middle;\n",
       "    }\n",
       "\n",
       "    .dataframe tbody tr th {\n",
       "        vertical-align: top;\n",
       "    }\n",
       "\n",
       "    .dataframe thead th {\n",
       "        text-align: right;\n",
       "    }\n",
       "</style>\n",
       "<table border=\"1\" class=\"dataframe\">\n",
       "  <thead>\n",
       "    <tr style=\"text-align: right;\">\n",
       "      <th></th>\n",
       "      <th>성분코드</th>\n",
       "      <th>표준 성분명</th>\n",
       "      <th>표준 영문명</th>\n",
       "      <th>구명칭</th>\n",
       "      <th>구영문명</th>\n",
       "    </tr>\n",
       "  </thead>\n",
       "  <tbody>\n",
       "    <tr>\n",
       "      <th>8</th>\n",
       "      <td>9</td>\n",
       "      <td>리날룰</td>\n",
       "      <td>Linalool</td>\n",
       "      <td>NaN</td>\n",
       "      <td>NaN</td>\n",
       "    </tr>\n",
       "    <tr>\n",
       "      <th>19</th>\n",
       "      <td>20</td>\n",
       "      <td>리모넨</td>\n",
       "      <td>Limonene</td>\n",
       "      <td>NaN</td>\n",
       "      <td>NaN</td>\n",
       "    </tr>\n",
       "    <tr>\n",
       "      <th>36</th>\n",
       "      <td>37</td>\n",
       "      <td>마그네슘글루코네이트</td>\n",
       "      <td>Magnesium Gluconate</td>\n",
       "      <td>NaN</td>\n",
       "      <td>NaN</td>\n",
       "    </tr>\n",
       "    <tr>\n",
       "      <th>45</th>\n",
       "      <td>46</td>\n",
       "      <td>마그네슘설페이트</td>\n",
       "      <td>Magnesium Sulfate</td>\n",
       "      <td>NaN</td>\n",
       "      <td>NaN</td>\n",
       "    </tr>\n",
       "    <tr>\n",
       "      <th>760</th>\n",
       "      <td>761</td>\n",
       "      <td>사이아노코발아민</td>\n",
       "      <td>Cyanocobalamin</td>\n",
       "      <td>사이아노코발라민</td>\n",
       "      <td>Cyanocobalamin</td>\n",
       "    </tr>\n",
       "  </tbody>\n",
       "</table>\n",
       "</div>"
      ],
      "text/plain": [
       "     성분코드      표준 성분명               표준 영문명       구명칭            구영문명\n",
       "8       9         리날룰             Linalool       NaN             NaN\n",
       "19     20         리모넨             Limonene       NaN             NaN\n",
       "36     37  마그네슘글루코네이트  Magnesium Gluconate       NaN             NaN\n",
       "45     46    마그네슘설페이트    Magnesium Sulfate       NaN             NaN\n",
       "760   761    사이아노코발아민       Cyanocobalamin  사이아노코발라민  Cyanocobalamin"
      ]
     },
     "execution_count": 34,
     "metadata": {},
     "output_type": "execute_result"
    }
   ],
   "source": [
    "result_df = ingredients_df.loc[ingredients_df['성분코드'].isin(result),:][:5]\n",
    "result_df"
   ]
  },
  {
   "cell_type": "code",
   "execution_count": 35,
   "metadata": {
    "id": "3Rm8-Cdccf8C",
    "outputId": "3dc6cc7a-8ecb-44e6-f67d-6a65be404988"
   },
   "outputs": [
    {
     "name": "stdout",
     "output_type": "stream",
     "text": [
      "정답입니다! 15점 누적 되었습니다!\n",
      "현재 누적 점수: 100 / 100\n"
     ]
    },
    {
     "data": {
      "text/html": [
       "<div>\n",
       "<style scoped>\n",
       "    .dataframe tbody tr th:only-of-type {\n",
       "        vertical-align: middle;\n",
       "    }\n",
       "\n",
       "    .dataframe tbody tr th {\n",
       "        vertical-align: top;\n",
       "    }\n",
       "\n",
       "    .dataframe thead th {\n",
       "        text-align: right;\n",
       "    }\n",
       "</style>\n",
       "<table border=\"1\" class=\"dataframe\">\n",
       "  <thead>\n",
       "    <tr style=\"text-align: right;\">\n",
       "      <th></th>\n",
       "      <th>성분코드</th>\n",
       "      <th>표준 성분명</th>\n",
       "      <th>표준 영문명</th>\n",
       "      <th>구명칭</th>\n",
       "      <th>구영문명</th>\n",
       "    </tr>\n",
       "  </thead>\n",
       "  <tbody>\n",
       "    <tr>\n",
       "      <th>8</th>\n",
       "      <td>9</td>\n",
       "      <td>리날룰</td>\n",
       "      <td>Linalool</td>\n",
       "      <td>NaN</td>\n",
       "      <td>NaN</td>\n",
       "    </tr>\n",
       "    <tr>\n",
       "      <th>19</th>\n",
       "      <td>20</td>\n",
       "      <td>리모넨</td>\n",
       "      <td>Limonene</td>\n",
       "      <td>NaN</td>\n",
       "      <td>NaN</td>\n",
       "    </tr>\n",
       "    <tr>\n",
       "      <th>36</th>\n",
       "      <td>37</td>\n",
       "      <td>마그네슘글루코네이트</td>\n",
       "      <td>Magnesium Gluconate</td>\n",
       "      <td>NaN</td>\n",
       "      <td>NaN</td>\n",
       "    </tr>\n",
       "    <tr>\n",
       "      <th>45</th>\n",
       "      <td>46</td>\n",
       "      <td>마그네슘설페이트</td>\n",
       "      <td>Magnesium Sulfate</td>\n",
       "      <td>NaN</td>\n",
       "      <td>NaN</td>\n",
       "    </tr>\n",
       "    <tr>\n",
       "      <th>760</th>\n",
       "      <td>761</td>\n",
       "      <td>사이아노코발아민</td>\n",
       "      <td>Cyanocobalamin</td>\n",
       "      <td>사이아노코발라민</td>\n",
       "      <td>Cyanocobalamin</td>\n",
       "    </tr>\n",
       "  </tbody>\n",
       "</table>\n",
       "</div>"
      ],
      "text/plain": [
       "     성분코드      표준 성분명               표준 영문명       구명칭            구영문명\n",
       "8       9         리날룰             Linalool       NaN             NaN\n",
       "19     20         리모넨             Limonene       NaN             NaN\n",
       "36     37  마그네슘글루코네이트  Magnesium Gluconate       NaN             NaN\n",
       "45     46    마그네슘설페이트    Magnesium Sulfate       NaN             NaN\n",
       "760   761    사이아노코발아민       Cyanocobalamin  사이아노코발라민  Cyanocobalamin"
      ]
     },
     "execution_count": 35,
     "metadata": {},
     "output_type": "execute_result"
    }
   ],
   "source": [
    "# 3-2\n",
    "\n",
    "\n",
    "check_03_02(result_df)\n",
    "result_df"
   ]
  },
  {
   "cell_type": "markdown",
   "metadata": {
    "id": "RIZQwOv_cf8D"
   },
   "source": [
    "***\n",
    "\n",
    "### 🎊 문제가 끝났습니다. 제출양식과 일정에 맞춰 제출해주시기를 바랍니다!\n",
    "\n",
    "### 제출양식\n",
    "- 이 파일은 EDA TEST 2회차 노트북입니다. 따라서 제출시 파일명은 아래와 같습니다.\n",
    "- [DS]edalvtest_02_yourname.ipynb\n",
    "\n",
    "***"
   ]
  },
  {
   "cell_type": "markdown",
   "metadata": {
    "id": "qALp8c8Ccf8D"
   },
   "source": [
    "# 문의사항 및 의견이 있는 경우 작성해주세요."
   ]
  },
  {
   "cell_type": "code",
   "execution_count": null,
   "metadata": {},
   "outputs": [],
   "source": []
  }
 ],
 "metadata": {
  "colab": {
   "provenance": []
  },
  "interpreter": {
   "hash": "46e27ede752268be201d36b7fbc2802b29a11b0bb095abacecc6c0428b93624a"
  },
  "kernelspec": {
   "display_name": "Python 3 (ipykernel)",
   "language": "python",
   "name": "python3"
  },
  "language_info": {
   "codemirror_mode": {
    "name": "ipython",
    "version": 3
   },
   "file_extension": ".py",
   "mimetype": "text/x-python",
   "name": "python",
   "nbconvert_exporter": "python",
   "pygments_lexer": "ipython3",
   "version": "3.8.18"
  }
 },
 "nbformat": 4,
 "nbformat_minor": 4
}
