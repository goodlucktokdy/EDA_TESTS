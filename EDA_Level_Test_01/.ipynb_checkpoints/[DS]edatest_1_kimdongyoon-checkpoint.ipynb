{
 "cells": [
  {
   "cell_type": "markdown",
   "metadata": {
    "id": "6eBAxG3dh9Xf"
   },
   "source": [
    "<div align=\"center\">\n",
    "    <img src=\"images/zb-logo.png\" alt=\"제로베이스\" width=\"100%\">\n",
    "    <br>\n",
    "    <a href=\"https://zerobaseschool.notion.site/DS-EDA-Lv-Test-b7d5e895c7cd4dda813c8fe2f2c23f79\"><img src=\"images/openinnotion_logo.png\" alt=\"EDA Lv Test Doc\" width=\"12%\"></a>\n",
    "\n",
    "이 Jupyter Notebook 파일은 <a href=\"https://zero-base.co.kr/category_data_camp/school_DS\">제로베이스</a>에서 제공하는 **EDA Level Test** 문제입니다.<br>\n",
    "지금까지 공부하신 내용으로 데이터 분석에 대해 좀 더 연습할 수 있는 시간이 되셨으면 좋겠습니다.🙂<br>\n",
    "**EDA Level Test**에 대한 안내 사항은 상단 **Open in ZeroBase Notion** 로고를 클릭하여 확인해주세요!<br>\n",
    "반드시 시작 전에 내용을 숙지해주시기를 바랍니다!<br>\n",
    "</div>\n",
    "\n",
    "***"
   ]
  },
  {
   "cell_type": "markdown",
   "metadata": {
    "id": "xE5djMtfh9Xi"
   },
   "source": [
    "<h1 style=\"background-color:#9F81F7;color:#D8D8D8;font-weight:bold;display:inline-block;padding: 5px\">EDA Level Test 01 ⭐️</h1>\n",
    "\n",
    "| Week | Data Analysis | Difficulty | This Notebook |\n",
    "|------|---------------|------------|-------|\n",
    "| 1    | 서울시 인구 데이터 | ⭐️ |👈|\n",
    "| 2    | 화장품 성분 데이터 | ⭐️⭐️⭐️ ||\n",
    "| 3    | 올림픽 데이터 | ⭐️⭐️ ||\n",
    "| 4    | 국가별 인터넷 사용률 데이터 |⭐️⭐️ ||\n",
    "| 5    | 전국 박물관/미술관 정보 표준 데이터 | ⭐️⭐️⭐️ ||\n",
    "| 6    | 서울시 흡연율 통계 데이터 | ⭐️⭐️ ||\n",
    "| 7    | 웹크롤링 | ⭐️ ||\n",
    "| 8    | 서울시 지하철 호선별 역별 유/무임 승하차 인원 정보 데이터 | ⭐️⭐️ ||\n",
    "| 9    | 서울시 교통사고 현황 (사고유형별) 통계 데이터 | ⭐️⭐️ ||\n",
    "| 10   | 서울시 교통사고 현황 (사고유형별) 통계 + 서울시 차량통행속도 (구별/월별) 통계 + 서울시 인구밀도 (구별) 통계 | ⭐️⭐️⭐️ ||"
   ]
  },
  {
   "cell_type": "markdown",
   "metadata": {
    "id": "D8iZopZUh9Xi"
   },
   "source": [
    "## 문제 소개 및 데이터 준비 단계\n",
    "\n",
    "<div style=\"border: 1px solid black; padding: 10px;\">\n",
    "\n",
    "### 문제 소개\n",
    "- 총 3단계 데이터 분석 상황 제시 (총 100점)\n",
    "    - 1단계 DataFrame 불러오기 & 전처리 (30점)\n",
    "    - 2단계 원하는 정보 얻기 (30점)\n",
    "    - 3단계 시각화 (40점)\n",
    "    - 시각화 단계는 채점 코드가 없습니다. 요구 조건에 맞는 그래프를 작성해주신 후 제출해주세요!\n",
    "\n",
    "### Data 원본 출처\n",
    "- Source: [서울시 열린데이터](https://data.seoul.go.kr/dataList/419/S/2/datasetView.do)\n",
    "- Data Download: [PinkWink Blog](https://pinkwink.kr/attachment/cfile1.uf@99740C3A5ECB0EA52889B3.txt)\n",
    "\n",
    "### 참고사항\n",
    "* 데이터는 탭으로 구분하여 TXT 파일 형식으로 제공\n",
    "* 외국인 세대수 제외\n",
    "* 65세이상 고령자 수: 외국인 포함\n",
    "\n",
    "</div>"
   ]
  },
  {
   "cell_type": "code",
   "execution_count": 1,
   "metadata": {
    "id": "WKvRUN9kh9Xj"
   },
   "outputs": [],
   "source": [
    "import pandas as pd\n",
    "import numpy as np\n",
    "import matplotlib.pyplot as plt\n",
    "import seaborn as sns\n",
    "import koreanize_matplotlib"
   ]
  },
  {
   "cell_type": "markdown",
   "metadata": {
    "id": "uW4Y-yxmh9Xk"
   },
   "source": [
    "## 문제 시작! 🏃🏻"
   ]
  },
  {
   "cell_type": "markdown",
   "metadata": {
    "id": "Hyh5Grc_h9Xk"
   },
   "source": [
    "### 1단계: DataFrame 불러오기 & 전처리\n",
    "***"
   ]
  },
  {
   "cell_type": "markdown",
   "metadata": {
    "id": "KoY6y4ssh9Xk"
   },
   "source": [
    "### **문제 1-1)** 0, 1, 2번 index의 row를 제거하고 index를 초기화 하세요(기존 index는 삭제(drop)하세요).    (10점)\n",
    "\n",
    "- 예시: 0,1,2번 index 제거\n",
    "<br></br>\n",
    "    <img src=\"images/01-1-1-001.png\" style=\"margin:auto\" width=130/>\n",
    "    <img src=\"images/01-1-1-002.png\" style=\"margin:auto\" width=180 height=180/>\n",
    "\n",
    "- 예시: index 초기화\n",
    "<br></br>\n",
    "    <img src=\"images/01-1-1-002.png\" style=\"margin:auto\" width=150/>\n",
    "    <img src=\"images/01-1-1-003.png\" style=\"margin:auto\" width=150/>\n",
    "<br></br>\n",
    "- 완료 후 결과 dataframe 변수를 check_01_01 함수에 입력하여 채점하세요."
   ]
  },
  {
   "cell_type": "code",
   "execution_count": 2,
   "metadata": {},
   "outputs": [],
   "source": [
    "df = pd.read_csv('datas/report.txt', sep='\\t')"
   ]
  },
  {
   "cell_type": "code",
   "execution_count": 3,
   "metadata": {},
   "outputs": [
    {
     "name": "stdout",
     "output_type": "stream",
     "text": [
      "<class 'pandas.core.frame.DataFrame'>\n",
      "RangeIndex: 28 entries, 0 to 27\n",
      "Data columns (total 14 columns):\n",
      " #   Column    Non-Null Count  Dtype \n",
      "---  ------    --------------  ----- \n",
      " 0   기간        28 non-null     object\n",
      " 1   자치구       28 non-null     object\n",
      " 2   세대        28 non-null     object\n",
      " 3   인구        28 non-null     object\n",
      " 4   인구.1      28 non-null     object\n",
      " 5   인구.2      28 non-null     object\n",
      " 6   인구.3      28 non-null     object\n",
      " 7   인구.4      28 non-null     object\n",
      " 8   인구.5      28 non-null     object\n",
      " 9   인구.6      28 non-null     object\n",
      " 10  인구.7      28 non-null     object\n",
      " 11  인구.8      28 non-null     object\n",
      " 12  세대당인구     28 non-null     object\n",
      " 13  65세이상고령자  28 non-null     object\n",
      "dtypes: object(14)\n",
      "memory usage: 3.2+ KB\n"
     ]
    }
   ],
   "source": [
    "df.info()"
   ]
  },
  {
   "cell_type": "code",
   "execution_count": 4,
   "metadata": {},
   "outputs": [],
   "source": [
    "df = df.drop(index = [0, 1, 2], axis = 0).reset_index(drop = True)"
   ]
  },
  {
   "cell_type": "code",
   "execution_count": 5,
   "metadata": {},
   "outputs": [
    {
     "data": {
      "text/html": [
       "<div>\n",
       "<style scoped>\n",
       "    .dataframe tbody tr th:only-of-type {\n",
       "        vertical-align: middle;\n",
       "    }\n",
       "\n",
       "    .dataframe tbody tr th {\n",
       "        vertical-align: top;\n",
       "    }\n",
       "\n",
       "    .dataframe thead th {\n",
       "        text-align: right;\n",
       "    }\n",
       "</style>\n",
       "<table border=\"1\" class=\"dataframe\">\n",
       "  <thead>\n",
       "    <tr style=\"text-align: right;\">\n",
       "      <th></th>\n",
       "      <th>기간</th>\n",
       "      <th>자치구</th>\n",
       "      <th>세대</th>\n",
       "      <th>인구</th>\n",
       "      <th>인구.1</th>\n",
       "      <th>인구.2</th>\n",
       "      <th>인구.3</th>\n",
       "      <th>인구.4</th>\n",
       "      <th>인구.5</th>\n",
       "      <th>인구.6</th>\n",
       "      <th>인구.7</th>\n",
       "      <th>인구.8</th>\n",
       "      <th>세대당인구</th>\n",
       "      <th>65세이상고령자</th>\n",
       "    </tr>\n",
       "  </thead>\n",
       "  <tbody>\n",
       "    <tr>\n",
       "      <th>20</th>\n",
       "      <td>2020.1/4</td>\n",
       "      <td>관악구</td>\n",
       "      <td>270,760</td>\n",
       "      <td>516,662</td>\n",
       "      <td>258,982</td>\n",
       "      <td>257,680</td>\n",
       "      <td>499,374</td>\n",
       "      <td>250,743</td>\n",
       "      <td>248,631</td>\n",
       "      <td>17,288</td>\n",
       "      <td>8,239</td>\n",
       "      <td>9,049</td>\n",
       "      <td>1.84</td>\n",
       "      <td>76,664</td>\n",
       "    </tr>\n",
       "    <tr>\n",
       "      <th>21</th>\n",
       "      <td>2020.1/4</td>\n",
       "      <td>서초구</td>\n",
       "      <td>173,580</td>\n",
       "      <td>434,801</td>\n",
       "      <td>207,877</td>\n",
       "      <td>226,924</td>\n",
       "      <td>430,568</td>\n",
       "      <td>205,787</td>\n",
       "      <td>224,781</td>\n",
       "      <td>4,233</td>\n",
       "      <td>2,090</td>\n",
       "      <td>2,143</td>\n",
       "      <td>2.48</td>\n",
       "      <td>58,332</td>\n",
       "    </tr>\n",
       "    <tr>\n",
       "      <th>22</th>\n",
       "      <td>2020.1/4</td>\n",
       "      <td>강남구</td>\n",
       "      <td>233,624</td>\n",
       "      <td>549,898</td>\n",
       "      <td>263,163</td>\n",
       "      <td>286,735</td>\n",
       "      <td>544,804</td>\n",
       "      <td>260,654</td>\n",
       "      <td>284,150</td>\n",
       "      <td>5,094</td>\n",
       "      <td>2,509</td>\n",
       "      <td>2,585</td>\n",
       "      <td>2.33</td>\n",
       "      <td>72,602</td>\n",
       "    </tr>\n",
       "    <tr>\n",
       "      <th>23</th>\n",
       "      <td>2020.1/4</td>\n",
       "      <td>송파구</td>\n",
       "      <td>279,301</td>\n",
       "      <td>680,883</td>\n",
       "      <td>329,058</td>\n",
       "      <td>351,825</td>\n",
       "      <td>674,095</td>\n",
       "      <td>325,859</td>\n",
       "      <td>348,236</td>\n",
       "      <td>6,788</td>\n",
       "      <td>3,199</td>\n",
       "      <td>3,589</td>\n",
       "      <td>2.41</td>\n",
       "      <td>89,539</td>\n",
       "    </tr>\n",
       "    <tr>\n",
       "      <th>24</th>\n",
       "      <td>2020.1/4</td>\n",
       "      <td>강동구</td>\n",
       "      <td>190,019</td>\n",
       "      <td>457,042</td>\n",
       "      <td>225,226</td>\n",
       "      <td>231,816</td>\n",
       "      <td>452,646</td>\n",
       "      <td>223,189</td>\n",
       "      <td>229,457</td>\n",
       "      <td>4,396</td>\n",
       "      <td>2,037</td>\n",
       "      <td>2,359</td>\n",
       "      <td>2.38</td>\n",
       "      <td>66,401</td>\n",
       "    </tr>\n",
       "  </tbody>\n",
       "</table>\n",
       "</div>"
      ],
      "text/plain": [
       "          기간  자치구       세대       인구     인구.1     인구.2     인구.3     인구.4  \\\n",
       "20  2020.1/4  관악구  270,760  516,662  258,982  257,680  499,374  250,743   \n",
       "21  2020.1/4  서초구  173,580  434,801  207,877  226,924  430,568  205,787   \n",
       "22  2020.1/4  강남구  233,624  549,898  263,163  286,735  544,804  260,654   \n",
       "23  2020.1/4  송파구  279,301  680,883  329,058  351,825  674,095  325,859   \n",
       "24  2020.1/4  강동구  190,019  457,042  225,226  231,816  452,646  223,189   \n",
       "\n",
       "       인구.5    인구.6   인구.7   인구.8 세대당인구 65세이상고령자  \n",
       "20  248,631  17,288  8,239  9,049  1.84   76,664  \n",
       "21  224,781   4,233  2,090  2,143  2.48   58,332  \n",
       "22  284,150   5,094  2,509  2,585  2.33   72,602  \n",
       "23  348,236   6,788  3,199  3,589  2.41   89,539  \n",
       "24  229,457   4,396  2,037  2,359  2.38   66,401  "
      ]
     },
     "execution_count": 5,
     "metadata": {},
     "output_type": "execute_result"
    }
   ],
   "source": [
    "df.tail()"
   ]
  },
  {
   "cell_type": "markdown",
   "metadata": {
    "id": "DUekKqkUh9Xl"
   },
   "source": [
    "<h4 style=\"background-color:#9F81F7;color:#FBEFF2;font-weight:bold;display:inline-block;padding: 5px\">채점 방법</h4>\n",
    "\n",
    "<div style=\"border: 1px solid black; padding: 10px;\">\n",
    "\n",
    "1. grading 모듈 불러오기\n",
    "```python\n",
    "    from grading import *\n",
    "```\n",
    "2. 채점 코드 통과\n",
    "- 각 문제마다 번호에 맞는 채점 코드를 통과시켜주세요\n",
    "    - check_01_01(df), check_01_02(df) ...\n",
    "3. 채점 코드까지 통과시킨 후, 제출!\n",
    "\n",
    "사용 예시\n",
    "```python\n",
    "check_01_01(df)\n",
    "정답입니다! 10점 누적 되었습니다!\n",
    "현재 누적 점수: 10 / 100\n",
    "```\n",
    "</div>"
   ]
  },
  {
   "cell_type": "code",
   "execution_count": 6,
   "metadata": {
    "id": "iHZYrJgah9Xl"
   },
   "outputs": [],
   "source": [
    "from grading import *"
   ]
  },
  {
   "cell_type": "code",
   "execution_count": 7,
   "metadata": {},
   "outputs": [
    {
     "name": "stdout",
     "output_type": "stream",
     "text": [
      "정답입니다! 10점 누적 되었습니다!\n",
      "현재 누적 점수: 10 / 60\n"
     ]
    }
   ],
   "source": [
    "check_01_01(df)"
   ]
  },
  {
   "cell_type": "markdown",
   "metadata": {
    "id": "WaeK_hY8h9Xl"
   },
   "source": [
    "### **문제 1-2)** 현재의 컬럼명(current_columns)을 아래 new_columns와 같이 변경하세요.      (10점)\n",
    "\n",
    "- current_columns = ['기간', '자치구', '세대', '인구', '인구.1', '인구.2', '인구.3', '인구.4', '인구.5', '인구.6', '인구.7', '인구.8', '세대당인구', '65세이상고령자']\n",
    "<br></br>\n",
    "- new_columns = ['기간', '자치구', '세대', '합계', '남자', '여자', '한국인 계', '한국인 남자', '한국인 여자', '등록외국인 계', '등록외국인 남자', '등록외국인 여자', '세대당인구', '65세이상고령자']\n",
    "<br></br>\n",
    "- 예시\n",
    "<br></br>\n",
    "    <img src=\"./images/01-1-2-001.png\" style=\"margin:auto\" width=150/>\n",
    "    <img src=\"./images/01-1-2-002.png\" style=\"margin:auto\" width=150/>\n",
    "<br></br>\n",
    "- 완료 후 결과 dataframe 변수를 check_01_02 함수에 입력하여 채점하세요."
   ]
  },
  {
   "cell_type": "code",
   "execution_count": 8,
   "metadata": {},
   "outputs": [],
   "source": [
    "new_columns = ['기간', '자치구', '세대', '합계', \n",
    "               '남자', '여자', '한국인 계', '한국인 남자', '한국인 여자', \n",
    "               '등록외국인 계', '등록외국인 남자', '등록외국인 여자', '세대당인구', '65세이상고령자']"
   ]
  },
  {
   "cell_type": "code",
   "execution_count": 9,
   "metadata": {},
   "outputs": [],
   "source": [
    "df.columns = new_columns"
   ]
  },
  {
   "cell_type": "code",
   "execution_count": 10,
   "metadata": {},
   "outputs": [
    {
     "data": {
      "text/html": [
       "<div>\n",
       "<style scoped>\n",
       "    .dataframe tbody tr th:only-of-type {\n",
       "        vertical-align: middle;\n",
       "    }\n",
       "\n",
       "    .dataframe tbody tr th {\n",
       "        vertical-align: top;\n",
       "    }\n",
       "\n",
       "    .dataframe thead th {\n",
       "        text-align: right;\n",
       "    }\n",
       "</style>\n",
       "<table border=\"1\" class=\"dataframe\">\n",
       "  <thead>\n",
       "    <tr style=\"text-align: right;\">\n",
       "      <th></th>\n",
       "      <th>기간</th>\n",
       "      <th>자치구</th>\n",
       "      <th>세대</th>\n",
       "      <th>합계</th>\n",
       "      <th>남자</th>\n",
       "      <th>여자</th>\n",
       "      <th>한국인 계</th>\n",
       "      <th>한국인 남자</th>\n",
       "      <th>한국인 여자</th>\n",
       "      <th>등록외국인 계</th>\n",
       "      <th>등록외국인 남자</th>\n",
       "      <th>등록외국인 여자</th>\n",
       "      <th>세대당인구</th>\n",
       "      <th>65세이상고령자</th>\n",
       "    </tr>\n",
       "  </thead>\n",
       "  <tbody>\n",
       "    <tr>\n",
       "      <th>20</th>\n",
       "      <td>2020.1/4</td>\n",
       "      <td>관악구</td>\n",
       "      <td>270,760</td>\n",
       "      <td>516,662</td>\n",
       "      <td>258,982</td>\n",
       "      <td>257,680</td>\n",
       "      <td>499,374</td>\n",
       "      <td>250,743</td>\n",
       "      <td>248,631</td>\n",
       "      <td>17,288</td>\n",
       "      <td>8,239</td>\n",
       "      <td>9,049</td>\n",
       "      <td>1.84</td>\n",
       "      <td>76,664</td>\n",
       "    </tr>\n",
       "    <tr>\n",
       "      <th>21</th>\n",
       "      <td>2020.1/4</td>\n",
       "      <td>서초구</td>\n",
       "      <td>173,580</td>\n",
       "      <td>434,801</td>\n",
       "      <td>207,877</td>\n",
       "      <td>226,924</td>\n",
       "      <td>430,568</td>\n",
       "      <td>205,787</td>\n",
       "      <td>224,781</td>\n",
       "      <td>4,233</td>\n",
       "      <td>2,090</td>\n",
       "      <td>2,143</td>\n",
       "      <td>2.48</td>\n",
       "      <td>58,332</td>\n",
       "    </tr>\n",
       "    <tr>\n",
       "      <th>22</th>\n",
       "      <td>2020.1/4</td>\n",
       "      <td>강남구</td>\n",
       "      <td>233,624</td>\n",
       "      <td>549,898</td>\n",
       "      <td>263,163</td>\n",
       "      <td>286,735</td>\n",
       "      <td>544,804</td>\n",
       "      <td>260,654</td>\n",
       "      <td>284,150</td>\n",
       "      <td>5,094</td>\n",
       "      <td>2,509</td>\n",
       "      <td>2,585</td>\n",
       "      <td>2.33</td>\n",
       "      <td>72,602</td>\n",
       "    </tr>\n",
       "    <tr>\n",
       "      <th>23</th>\n",
       "      <td>2020.1/4</td>\n",
       "      <td>송파구</td>\n",
       "      <td>279,301</td>\n",
       "      <td>680,883</td>\n",
       "      <td>329,058</td>\n",
       "      <td>351,825</td>\n",
       "      <td>674,095</td>\n",
       "      <td>325,859</td>\n",
       "      <td>348,236</td>\n",
       "      <td>6,788</td>\n",
       "      <td>3,199</td>\n",
       "      <td>3,589</td>\n",
       "      <td>2.41</td>\n",
       "      <td>89,539</td>\n",
       "    </tr>\n",
       "    <tr>\n",
       "      <th>24</th>\n",
       "      <td>2020.1/4</td>\n",
       "      <td>강동구</td>\n",
       "      <td>190,019</td>\n",
       "      <td>457,042</td>\n",
       "      <td>225,226</td>\n",
       "      <td>231,816</td>\n",
       "      <td>452,646</td>\n",
       "      <td>223,189</td>\n",
       "      <td>229,457</td>\n",
       "      <td>4,396</td>\n",
       "      <td>2,037</td>\n",
       "      <td>2,359</td>\n",
       "      <td>2.38</td>\n",
       "      <td>66,401</td>\n",
       "    </tr>\n",
       "  </tbody>\n",
       "</table>\n",
       "</div>"
      ],
      "text/plain": [
       "          기간  자치구       세대       합계       남자       여자    한국인 계   한국인 남자  \\\n",
       "20  2020.1/4  관악구  270,760  516,662  258,982  257,680  499,374  250,743   \n",
       "21  2020.1/4  서초구  173,580  434,801  207,877  226,924  430,568  205,787   \n",
       "22  2020.1/4  강남구  233,624  549,898  263,163  286,735  544,804  260,654   \n",
       "23  2020.1/4  송파구  279,301  680,883  329,058  351,825  674,095  325,859   \n",
       "24  2020.1/4  강동구  190,019  457,042  225,226  231,816  452,646  223,189   \n",
       "\n",
       "     한국인 여자 등록외국인 계 등록외국인 남자 등록외국인 여자 세대당인구 65세이상고령자  \n",
       "20  248,631  17,288    8,239    9,049  1.84   76,664  \n",
       "21  224,781   4,233    2,090    2,143  2.48   58,332  \n",
       "22  284,150   5,094    2,509    2,585  2.33   72,602  \n",
       "23  348,236   6,788    3,199    3,589  2.41   89,539  \n",
       "24  229,457   4,396    2,037    2,359  2.38   66,401  "
      ]
     },
     "execution_count": 10,
     "metadata": {},
     "output_type": "execute_result"
    }
   ],
   "source": [
    "df.tail()"
   ]
  },
  {
   "cell_type": "code",
   "execution_count": 11,
   "metadata": {
    "id": "wUQIkaK0h9Xl"
   },
   "outputs": [
    {
     "name": "stdout",
     "output_type": "stream",
     "text": [
      "정답입니다! 10점 누적 되었습니다!\n",
      "현재 누적 점수: 20 / 60\n"
     ]
    }
   ],
   "source": [
    "# 1-2\n",
    "check_01_02(df)"
   ]
  },
  {
   "cell_type": "markdown",
   "metadata": {
    "id": "fjkcVr3xh9Xm"
   },
   "source": [
    "### **문제 1-3)** 천단위 구분자 \" , \"를 제거하고, data의 type을 int 또는 float으로 변경하세요.   (10점)\n",
    "- 기간, 자치구: 변경 없음\n",
    "<br></br>\n",
    "- '세대', '합계', '남자', '여자', '한국인 계', '한국인 남자', '한국인 여자', '등록외국인 계', '등록외국인 남자', '등록외국인 여자', '65세이상고령자': 천단위 구분자 \",\" 제거 및 int로 타입 변경\n",
    "<br></br>\n",
    "    - 예시\n",
    "<br></br>\n",
    "    <img src=\"./images/01-1-3-001.png\" style=\"margin:auto\" width=150/>\n",
    "    <img src=\"./images/01-1-3-002.png\" style=\"margin:auto\" width=150/>\n",
    "<br></br>\n",
    "- '세대당인구': float으로 타입 변경\n",
    "<br></br>\n",
    "    - 예시\n",
    "<br></br>\n",
    "    <img src=\"./images/01-1-3-003.png\" style=\"margin:auto\" width=150/>\n",
    "    <img src=\"./images/01-1-3-004.png\" style=\"margin:auto\" width=150/>\n",
    "<br></br>\n",
    "- 완료 후 결과 dataframe 변수를 check_01_03 함수에 입력하여 채점하세요."
   ]
  },
  {
   "cell_type": "code",
   "execution_count": 12,
   "metadata": {},
   "outputs": [],
   "source": [
    "tmp = ['세대', '합계', '남자', '여자', '한국인 계', '한국인 남자', '한국인 여자', \n",
    "       '등록외국인 계', '등록외국인 남자', '등록외국인 여자', '65세이상고령자']"
   ]
  },
  {
   "cell_type": "code",
   "execution_count": 13,
   "metadata": {},
   "outputs": [],
   "source": [
    "df[tmp] = df[tmp].apply(lambda x: x.str.replace(',', '')).astype('int64')"
   ]
  },
  {
   "cell_type": "code",
   "execution_count": 14,
   "metadata": {},
   "outputs": [],
   "source": [
    "df['세대당인구'] = df['세대당인구'].astype('float')"
   ]
  },
  {
   "cell_type": "code",
   "execution_count": 15,
   "metadata": {},
   "outputs": [
    {
     "name": "stdout",
     "output_type": "stream",
     "text": [
      "<class 'pandas.core.frame.DataFrame'>\n",
      "RangeIndex: 25 entries, 0 to 24\n",
      "Data columns (total 14 columns):\n",
      " #   Column    Non-Null Count  Dtype  \n",
      "---  ------    --------------  -----  \n",
      " 0   기간        25 non-null     object \n",
      " 1   자치구       25 non-null     object \n",
      " 2   세대        25 non-null     int64  \n",
      " 3   합계        25 non-null     int64  \n",
      " 4   남자        25 non-null     int64  \n",
      " 5   여자        25 non-null     int64  \n",
      " 6   한국인 계     25 non-null     int64  \n",
      " 7   한국인 남자    25 non-null     int64  \n",
      " 8   한국인 여자    25 non-null     int64  \n",
      " 9   등록외국인 계   25 non-null     int64  \n",
      " 10  등록외국인 남자  25 non-null     int64  \n",
      " 11  등록외국인 여자  25 non-null     int64  \n",
      " 12  세대당인구     25 non-null     float64\n",
      " 13  65세이상고령자  25 non-null     int64  \n",
      "dtypes: float64(1), int64(11), object(2)\n",
      "memory usage: 2.9+ KB\n"
     ]
    }
   ],
   "source": [
    "df.info()"
   ]
  },
  {
   "cell_type": "code",
   "execution_count": 16,
   "metadata": {
    "id": "E3lPhvLNh9Xm",
    "outputId": "4cbf93dd-1b10-4920-bf0e-7dc5f64bae6a"
   },
   "outputs": [
    {
     "name": "stdout",
     "output_type": "stream",
     "text": [
      "정답입니다! 10점 누적 되었습니다!\n",
      "현재 누적 점수: 30 / 60\n"
     ]
    }
   ],
   "source": [
    "# 1-3\n",
    "\n",
    "check_01_03(df)"
   ]
  },
  {
   "cell_type": "code",
   "execution_count": null,
   "metadata": {
    "id": "fnMQhpmYh9Xm",
    "outputId": "ae653b2d-3d65-4d76-8e42-19a4ff54478c"
   },
   "outputs": [
    {
     "data": {
      "text/html": [
       "<div>\n",
       "<style scoped>\n",
       "    .dataframe tbody tr th:only-of-type {\n",
       "        vertical-align: middle;\n",
       "    }\n",
       "\n",
       "    .dataframe tbody tr th {\n",
       "        vertical-align: top;\n",
       "    }\n",
       "\n",
       "    .dataframe thead th {\n",
       "        text-align: right;\n",
       "    }\n",
       "</style>\n",
       "<table border=\"1\" class=\"dataframe\">\n",
       "  <thead>\n",
       "    <tr style=\"text-align: right;\">\n",
       "      <th></th>\n",
       "      <th>기간</th>\n",
       "      <th>자치구</th>\n",
       "      <th>세대</th>\n",
       "      <th>합계</th>\n",
       "      <th>남자</th>\n",
       "      <th>여자</th>\n",
       "      <th>한국인 계</th>\n",
       "      <th>한국인 남자</th>\n",
       "      <th>한국인 여자</th>\n",
       "      <th>등록외국인 계</th>\n",
       "      <th>등록외국인 남자</th>\n",
       "      <th>등록외국인 여자</th>\n",
       "      <th>세대당인구</th>\n",
       "      <th>65세이상고령자</th>\n",
       "    </tr>\n",
       "  </thead>\n",
       "  <tbody>\n",
       "    <tr>\n",
       "      <th>20</th>\n",
       "      <td>2020.1/4</td>\n",
       "      <td>관악구</td>\n",
       "      <td>270760</td>\n",
       "      <td>516662</td>\n",
       "      <td>258982</td>\n",
       "      <td>257680</td>\n",
       "      <td>499374</td>\n",
       "      <td>250743</td>\n",
       "      <td>248631</td>\n",
       "      <td>17288</td>\n",
       "      <td>8239</td>\n",
       "      <td>9049</td>\n",
       "      <td>1.84</td>\n",
       "      <td>76664</td>\n",
       "    </tr>\n",
       "    <tr>\n",
       "      <th>21</th>\n",
       "      <td>2020.1/4</td>\n",
       "      <td>서초구</td>\n",
       "      <td>173580</td>\n",
       "      <td>434801</td>\n",
       "      <td>207877</td>\n",
       "      <td>226924</td>\n",
       "      <td>430568</td>\n",
       "      <td>205787</td>\n",
       "      <td>224781</td>\n",
       "      <td>4233</td>\n",
       "      <td>2090</td>\n",
       "      <td>2143</td>\n",
       "      <td>2.48</td>\n",
       "      <td>58332</td>\n",
       "    </tr>\n",
       "    <tr>\n",
       "      <th>22</th>\n",
       "      <td>2020.1/4</td>\n",
       "      <td>강남구</td>\n",
       "      <td>233624</td>\n",
       "      <td>549898</td>\n",
       "      <td>263163</td>\n",
       "      <td>286735</td>\n",
       "      <td>544804</td>\n",
       "      <td>260654</td>\n",
       "      <td>284150</td>\n",
       "      <td>5094</td>\n",
       "      <td>2509</td>\n",
       "      <td>2585</td>\n",
       "      <td>2.33</td>\n",
       "      <td>72602</td>\n",
       "    </tr>\n",
       "    <tr>\n",
       "      <th>23</th>\n",
       "      <td>2020.1/4</td>\n",
       "      <td>송파구</td>\n",
       "      <td>279301</td>\n",
       "      <td>680883</td>\n",
       "      <td>329058</td>\n",
       "      <td>351825</td>\n",
       "      <td>674095</td>\n",
       "      <td>325859</td>\n",
       "      <td>348236</td>\n",
       "      <td>6788</td>\n",
       "      <td>3199</td>\n",
       "      <td>3589</td>\n",
       "      <td>2.41</td>\n",
       "      <td>89539</td>\n",
       "    </tr>\n",
       "    <tr>\n",
       "      <th>24</th>\n",
       "      <td>2020.1/4</td>\n",
       "      <td>강동구</td>\n",
       "      <td>190019</td>\n",
       "      <td>457042</td>\n",
       "      <td>225226</td>\n",
       "      <td>231816</td>\n",
       "      <td>452646</td>\n",
       "      <td>223189</td>\n",
       "      <td>229457</td>\n",
       "      <td>4396</td>\n",
       "      <td>2037</td>\n",
       "      <td>2359</td>\n",
       "      <td>2.38</td>\n",
       "      <td>66401</td>\n",
       "    </tr>\n",
       "  </tbody>\n",
       "</table>\n",
       "</div>"
      ],
      "text/plain": [
       "          기간  자치구      세대      합계      남자      여자   한국인 계  한국인 남자  한국인 여자  \\\n",
       "20  2020.1/4  관악구  270760  516662  258982  257680  499374  250743  248631   \n",
       "21  2020.1/4  서초구  173580  434801  207877  226924  430568  205787  224781   \n",
       "22  2020.1/4  강남구  233624  549898  263163  286735  544804  260654  284150   \n",
       "23  2020.1/4  송파구  279301  680883  329058  351825  674095  325859  348236   \n",
       "24  2020.1/4  강동구  190019  457042  225226  231816  452646  223189  229457   \n",
       "\n",
       "    등록외국인 계  등록외국인 남자  등록외국인 여자  세대당인구  65세이상고령자  \n",
       "20    17288      8239      9049   1.84     76664  \n",
       "21     4233      2090      2143   2.48     58332  \n",
       "22     5094      2509      2585   2.33     72602  \n",
       "23     6788      3199      3589   2.41     89539  \n",
       "24     4396      2037      2359   2.38     66401  "
      ]
     },
     "execution_count": 5,
     "metadata": {},
     "output_type": "execute_result"
    }
   ],
   "source": [
    "# df_target.tail()"
   ]
  },
  {
   "cell_type": "markdown",
   "metadata": {
    "id": "hz0LDFxih9Xm"
   },
   "source": [
    "## 2단계: 원하는 정보 얻기"
   ]
  },
  {
   "cell_type": "markdown",
   "metadata": {
    "id": "gnBUHzTSh9Xm"
   },
   "source": [
    "### *Pandas DataFrame의 기능을 이용하여 아래 문제의 답을 구하세요.*\n",
    "***\n",
    "#### 서울시는 아래와 같이 5개의 권역으로 구분됩니다.\n",
    "![서울시 권역생활권](https://www.seoulsolution.kr/sites/default/files/images/%EC%B2%B4%EA%B3%846.jpg)\n",
    "- ref: [서울시-도시계획체계](https://www.seoulsolution.kr/ko/content/서울시-도시계획체계)\n",
    "\n",
    "- 도심권: ['종로구', '중구', '용산구']\n",
    "- 동북권: ['성동구', '광진구', '동대문구', '중랑구', '성북구', '강북구', '도봉구', '노원구']\n",
    "- 서북권: ['은평구', '서대문구', '마포구']\n",
    "- 서남권: ['양천구', '강서구', '구로구', '금천구', '영등포구', '동작구', '관악구']\n",
    "- 동남권: ['서초구', '강남구', '송파구', '강동구']\n",
    "***"
   ]
  },
  {
   "cell_type": "code",
   "execution_count": 17,
   "metadata": {
    "id": "FOa9-9urh9Xm"
   },
   "outputs": [],
   "source": [
    "region_dict = {'도심권': ['종로구', '중구', '용산구'],\n",
    "               '동북권': ['성동구', '광진구', '동대문구', '중랑구', '성북구', '강북구', '도봉구', '노원구'],\n",
    "               '서북권': ['은평구', '서대문구', '마포구'],\n",
    "               '서남권': ['양천구', '강서구', '구로구', '금천구', '영등포구', '동작구', '관악구'],\n",
    "               '동남권': ['서초구', '강남구', '송파구', '강동구']\n",
    "               }"
   ]
  },
  {
   "cell_type": "markdown",
   "metadata": {
    "id": "5DlYxzeCh9Xm"
   },
   "source": [
    "### **문제 2-1)** 1단계에서 구한 DataFrame에 '권역' column을 추가하여 해당 구에 맞는 권역을 입력하세요.    (5점)\n",
    "\n",
    "- 예시\n",
    "<br></br>\n",
    "    <img src=\"./images/01-2-1-001.png\" style=\"margin:auto\" width=150/>\n",
    "    <img src=\"./images/01-2-1-002.png\" style=\"margin:auto\" width=200/>\n",
    "\n",
    "- 완료 후 결과 dataframe 변수를 check_02_01 함수에 입력하여 채점하세요."
   ]
  },
  {
   "cell_type": "code",
   "execution_count": 18,
   "metadata": {},
   "outputs": [],
   "source": [
    "def assign_region(df, region_dict):\n",
    "    for i, j in region_dict.items():\n",
    "        if df['자치구'] in j:\n",
    "            return i\n",
    "df['권역'] = df.apply(assign_region, axis = 1, region_dict = region_dict)"
   ]
  },
  {
   "cell_type": "code",
   "execution_count": 19,
   "metadata": {},
   "outputs": [
    {
     "data": {
      "text/html": [
       "<div>\n",
       "<style scoped>\n",
       "    .dataframe tbody tr th:only-of-type {\n",
       "        vertical-align: middle;\n",
       "    }\n",
       "\n",
       "    .dataframe tbody tr th {\n",
       "        vertical-align: top;\n",
       "    }\n",
       "\n",
       "    .dataframe thead th {\n",
       "        text-align: right;\n",
       "    }\n",
       "</style>\n",
       "<table border=\"1\" class=\"dataframe\">\n",
       "  <thead>\n",
       "    <tr style=\"text-align: right;\">\n",
       "      <th></th>\n",
       "      <th>기간</th>\n",
       "      <th>자치구</th>\n",
       "      <th>세대</th>\n",
       "      <th>합계</th>\n",
       "      <th>남자</th>\n",
       "      <th>여자</th>\n",
       "      <th>한국인 계</th>\n",
       "      <th>한국인 남자</th>\n",
       "      <th>한국인 여자</th>\n",
       "      <th>등록외국인 계</th>\n",
       "      <th>등록외국인 남자</th>\n",
       "      <th>등록외국인 여자</th>\n",
       "      <th>세대당인구</th>\n",
       "      <th>65세이상고령자</th>\n",
       "      <th>권역</th>\n",
       "    </tr>\n",
       "  </thead>\n",
       "  <tbody>\n",
       "    <tr>\n",
       "      <th>0</th>\n",
       "      <td>2020.1/4</td>\n",
       "      <td>종로구</td>\n",
       "      <td>74151</td>\n",
       "      <td>161984</td>\n",
       "      <td>78271</td>\n",
       "      <td>83713</td>\n",
       "      <td>151217</td>\n",
       "      <td>73704</td>\n",
       "      <td>77513</td>\n",
       "      <td>10767</td>\n",
       "      <td>4567</td>\n",
       "      <td>6200</td>\n",
       "      <td>2.04</td>\n",
       "      <td>28073</td>\n",
       "      <td>도심권</td>\n",
       "    </tr>\n",
       "    <tr>\n",
       "      <th>1</th>\n",
       "      <td>2020.1/4</td>\n",
       "      <td>중구</td>\n",
       "      <td>63045</td>\n",
       "      <td>136469</td>\n",
       "      <td>66769</td>\n",
       "      <td>69700</td>\n",
       "      <td>126175</td>\n",
       "      <td>61839</td>\n",
       "      <td>64336</td>\n",
       "      <td>10294</td>\n",
       "      <td>4930</td>\n",
       "      <td>5364</td>\n",
       "      <td>2.00</td>\n",
       "      <td>23794</td>\n",
       "      <td>도심권</td>\n",
       "    </tr>\n",
       "    <tr>\n",
       "      <th>2</th>\n",
       "      <td>2020.1/4</td>\n",
       "      <td>용산구</td>\n",
       "      <td>110895</td>\n",
       "      <td>246165</td>\n",
       "      <td>119961</td>\n",
       "      <td>126204</td>\n",
       "      <td>229579</td>\n",
       "      <td>110667</td>\n",
       "      <td>118912</td>\n",
       "      <td>16586</td>\n",
       "      <td>9294</td>\n",
       "      <td>7292</td>\n",
       "      <td>2.07</td>\n",
       "      <td>39439</td>\n",
       "      <td>도심권</td>\n",
       "    </tr>\n",
       "    <tr>\n",
       "      <th>3</th>\n",
       "      <td>2020.1/4</td>\n",
       "      <td>성동구</td>\n",
       "      <td>135643</td>\n",
       "      <td>307193</td>\n",
       "      <td>149891</td>\n",
       "      <td>157302</td>\n",
       "      <td>299042</td>\n",
       "      <td>146300</td>\n",
       "      <td>152742</td>\n",
       "      <td>8151</td>\n",
       "      <td>3591</td>\n",
       "      <td>4560</td>\n",
       "      <td>2.20</td>\n",
       "      <td>44728</td>\n",
       "      <td>동북권</td>\n",
       "    </tr>\n",
       "    <tr>\n",
       "      <th>4</th>\n",
       "      <td>2020.1/4</td>\n",
       "      <td>광진구</td>\n",
       "      <td>165287</td>\n",
       "      <td>365990</td>\n",
       "      <td>176226</td>\n",
       "      <td>189764</td>\n",
       "      <td>350417</td>\n",
       "      <td>169568</td>\n",
       "      <td>180849</td>\n",
       "      <td>15573</td>\n",
       "      <td>6658</td>\n",
       "      <td>8915</td>\n",
       "      <td>2.12</td>\n",
       "      <td>48989</td>\n",
       "      <td>동북권</td>\n",
       "    </tr>\n",
       "    <tr>\n",
       "      <th>5</th>\n",
       "      <td>2020.1/4</td>\n",
       "      <td>동대문구</td>\n",
       "      <td>165279</td>\n",
       "      <td>362793</td>\n",
       "      <td>178202</td>\n",
       "      <td>184591</td>\n",
       "      <td>346156</td>\n",
       "      <td>171896</td>\n",
       "      <td>174260</td>\n",
       "      <td>16637</td>\n",
       "      <td>6306</td>\n",
       "      <td>10331</td>\n",
       "      <td>2.09</td>\n",
       "      <td>60367</td>\n",
       "      <td>동북권</td>\n",
       "    </tr>\n",
       "    <tr>\n",
       "      <th>6</th>\n",
       "      <td>2020.1/4</td>\n",
       "      <td>중랑구</td>\n",
       "      <td>182220</td>\n",
       "      <td>400678</td>\n",
       "      <td>198122</td>\n",
       "      <td>202556</td>\n",
       "      <td>395619</td>\n",
       "      <td>196076</td>\n",
       "      <td>199543</td>\n",
       "      <td>5059</td>\n",
       "      <td>2046</td>\n",
       "      <td>3013</td>\n",
       "      <td>2.17</td>\n",
       "      <td>66764</td>\n",
       "      <td>동북권</td>\n",
       "    </tr>\n",
       "    <tr>\n",
       "      <th>7</th>\n",
       "      <td>2020.1/4</td>\n",
       "      <td>성북구</td>\n",
       "      <td>193801</td>\n",
       "      <td>454532</td>\n",
       "      <td>218561</td>\n",
       "      <td>235971</td>\n",
       "      <td>442494</td>\n",
       "      <td>213926</td>\n",
       "      <td>228568</td>\n",
       "      <td>12038</td>\n",
       "      <td>4635</td>\n",
       "      <td>7403</td>\n",
       "      <td>2.28</td>\n",
       "      <td>72172</td>\n",
       "      <td>동북권</td>\n",
       "    </tr>\n",
       "    <tr>\n",
       "      <th>8</th>\n",
       "      <td>2020.1/4</td>\n",
       "      <td>강북구</td>\n",
       "      <td>144805</td>\n",
       "      <td>316750</td>\n",
       "      <td>154141</td>\n",
       "      <td>162609</td>\n",
       "      <td>312985</td>\n",
       "      <td>152747</td>\n",
       "      <td>160238</td>\n",
       "      <td>3765</td>\n",
       "      <td>1394</td>\n",
       "      <td>2371</td>\n",
       "      <td>2.16</td>\n",
       "      <td>61660</td>\n",
       "      <td>동북권</td>\n",
       "    </tr>\n",
       "    <tr>\n",
       "      <th>9</th>\n",
       "      <td>2020.1/4</td>\n",
       "      <td>도봉구</td>\n",
       "      <td>138595</td>\n",
       "      <td>333495</td>\n",
       "      <td>162774</td>\n",
       "      <td>170721</td>\n",
       "      <td>331238</td>\n",
       "      <td>161879</td>\n",
       "      <td>169359</td>\n",
       "      <td>2257</td>\n",
       "      <td>895</td>\n",
       "      <td>1362</td>\n",
       "      <td>2.39</td>\n",
       "      <td>60023</td>\n",
       "      <td>동북권</td>\n",
       "    </tr>\n",
       "    <tr>\n",
       "      <th>10</th>\n",
       "      <td>2020.1/4</td>\n",
       "      <td>노원구</td>\n",
       "      <td>217148</td>\n",
       "      <td>535495</td>\n",
       "      <td>258696</td>\n",
       "      <td>276799</td>\n",
       "      <td>531037</td>\n",
       "      <td>256726</td>\n",
       "      <td>274311</td>\n",
       "      <td>4458</td>\n",
       "      <td>1970</td>\n",
       "      <td>2488</td>\n",
       "      <td>2.45</td>\n",
       "      <td>82682</td>\n",
       "      <td>동북권</td>\n",
       "    </tr>\n",
       "    <tr>\n",
       "      <th>11</th>\n",
       "      <td>2020.1/4</td>\n",
       "      <td>은평구</td>\n",
       "      <td>208209</td>\n",
       "      <td>482509</td>\n",
       "      <td>231953</td>\n",
       "      <td>250556</td>\n",
       "      <td>478019</td>\n",
       "      <td>230147</td>\n",
       "      <td>247872</td>\n",
       "      <td>4490</td>\n",
       "      <td>1806</td>\n",
       "      <td>2684</td>\n",
       "      <td>2.30</td>\n",
       "      <td>82245</td>\n",
       "      <td>서북권</td>\n",
       "    </tr>\n",
       "    <tr>\n",
       "      <th>12</th>\n",
       "      <td>2020.1/4</td>\n",
       "      <td>서대문구</td>\n",
       "      <td>142109</td>\n",
       "      <td>325875</td>\n",
       "      <td>154502</td>\n",
       "      <td>171373</td>\n",
       "      <td>312642</td>\n",
       "      <td>150051</td>\n",
       "      <td>162591</td>\n",
       "      <td>13233</td>\n",
       "      <td>4451</td>\n",
       "      <td>8782</td>\n",
       "      <td>2.20</td>\n",
       "      <td>53038</td>\n",
       "      <td>서북권</td>\n",
       "    </tr>\n",
       "    <tr>\n",
       "      <th>13</th>\n",
       "      <td>2020.1/4</td>\n",
       "      <td>마포구</td>\n",
       "      <td>176133</td>\n",
       "      <td>386086</td>\n",
       "      <td>181204</td>\n",
       "      <td>204882</td>\n",
       "      <td>374570</td>\n",
       "      <td>176943</td>\n",
       "      <td>197627</td>\n",
       "      <td>11516</td>\n",
       "      <td>4261</td>\n",
       "      <td>7255</td>\n",
       "      <td>2.13</td>\n",
       "      <td>53283</td>\n",
       "      <td>서북권</td>\n",
       "    </tr>\n",
       "    <tr>\n",
       "      <th>14</th>\n",
       "      <td>2020.1/4</td>\n",
       "      <td>양천구</td>\n",
       "      <td>177436</td>\n",
       "      <td>460532</td>\n",
       "      <td>226109</td>\n",
       "      <td>234423</td>\n",
       "      <td>456339</td>\n",
       "      <td>224241</td>\n",
       "      <td>232098</td>\n",
       "      <td>4193</td>\n",
       "      <td>1868</td>\n",
       "      <td>2325</td>\n",
       "      <td>2.57</td>\n",
       "      <td>62761</td>\n",
       "      <td>서남권</td>\n",
       "    </tr>\n",
       "    <tr>\n",
       "      <th>15</th>\n",
       "      <td>2020.1/4</td>\n",
       "      <td>강서구</td>\n",
       "      <td>263645</td>\n",
       "      <td>595703</td>\n",
       "      <td>288134</td>\n",
       "      <td>307569</td>\n",
       "      <td>589302</td>\n",
       "      <td>285085</td>\n",
       "      <td>304217</td>\n",
       "      <td>6401</td>\n",
       "      <td>3049</td>\n",
       "      <td>3352</td>\n",
       "      <td>2.24</td>\n",
       "      <td>85992</td>\n",
       "      <td>서남권</td>\n",
       "    </tr>\n",
       "    <tr>\n",
       "      <th>16</th>\n",
       "      <td>2020.1/4</td>\n",
       "      <td>구로구</td>\n",
       "      <td>177275</td>\n",
       "      <td>438308</td>\n",
       "      <td>218970</td>\n",
       "      <td>219338</td>\n",
       "      <td>405837</td>\n",
       "      <td>200558</td>\n",
       "      <td>205279</td>\n",
       "      <td>32471</td>\n",
       "      <td>18412</td>\n",
       "      <td>14059</td>\n",
       "      <td>2.29</td>\n",
       "      <td>67432</td>\n",
       "      <td>서남권</td>\n",
       "    </tr>\n",
       "    <tr>\n",
       "      <th>17</th>\n",
       "      <td>2020.1/4</td>\n",
       "      <td>금천구</td>\n",
       "      <td>111542</td>\n",
       "      <td>251370</td>\n",
       "      <td>128643</td>\n",
       "      <td>122727</td>\n",
       "      <td>232583</td>\n",
       "      <td>118044</td>\n",
       "      <td>114539</td>\n",
       "      <td>18787</td>\n",
       "      <td>10599</td>\n",
       "      <td>8188</td>\n",
       "      <td>2.09</td>\n",
       "      <td>38508</td>\n",
       "      <td>서남권</td>\n",
       "    </tr>\n",
       "    <tr>\n",
       "      <th>18</th>\n",
       "      <td>2020.1/4</td>\n",
       "      <td>영등포구</td>\n",
       "      <td>177743</td>\n",
       "      <td>404766</td>\n",
       "      <td>202617</td>\n",
       "      <td>202149</td>\n",
       "      <td>371903</td>\n",
       "      <td>184316</td>\n",
       "      <td>187587</td>\n",
       "      <td>32863</td>\n",
       "      <td>18301</td>\n",
       "      <td>14562</td>\n",
       "      <td>2.09</td>\n",
       "      <td>59373</td>\n",
       "      <td>서남권</td>\n",
       "    </tr>\n",
       "    <tr>\n",
       "      <th>19</th>\n",
       "      <td>2020.1/4</td>\n",
       "      <td>동작구</td>\n",
       "      <td>181761</td>\n",
       "      <td>407802</td>\n",
       "      <td>196943</td>\n",
       "      <td>210859</td>\n",
       "      <td>395014</td>\n",
       "      <td>191272</td>\n",
       "      <td>203742</td>\n",
       "      <td>12788</td>\n",
       "      <td>5671</td>\n",
       "      <td>7117</td>\n",
       "      <td>2.17</td>\n",
       "      <td>63378</td>\n",
       "      <td>서남권</td>\n",
       "    </tr>\n",
       "    <tr>\n",
       "      <th>20</th>\n",
       "      <td>2020.1/4</td>\n",
       "      <td>관악구</td>\n",
       "      <td>270760</td>\n",
       "      <td>516662</td>\n",
       "      <td>258982</td>\n",
       "      <td>257680</td>\n",
       "      <td>499374</td>\n",
       "      <td>250743</td>\n",
       "      <td>248631</td>\n",
       "      <td>17288</td>\n",
       "      <td>8239</td>\n",
       "      <td>9049</td>\n",
       "      <td>1.84</td>\n",
       "      <td>76664</td>\n",
       "      <td>서남권</td>\n",
       "    </tr>\n",
       "    <tr>\n",
       "      <th>21</th>\n",
       "      <td>2020.1/4</td>\n",
       "      <td>서초구</td>\n",
       "      <td>173580</td>\n",
       "      <td>434801</td>\n",
       "      <td>207877</td>\n",
       "      <td>226924</td>\n",
       "      <td>430568</td>\n",
       "      <td>205787</td>\n",
       "      <td>224781</td>\n",
       "      <td>4233</td>\n",
       "      <td>2090</td>\n",
       "      <td>2143</td>\n",
       "      <td>2.48</td>\n",
       "      <td>58332</td>\n",
       "      <td>동남권</td>\n",
       "    </tr>\n",
       "    <tr>\n",
       "      <th>22</th>\n",
       "      <td>2020.1/4</td>\n",
       "      <td>강남구</td>\n",
       "      <td>233624</td>\n",
       "      <td>549898</td>\n",
       "      <td>263163</td>\n",
       "      <td>286735</td>\n",
       "      <td>544804</td>\n",
       "      <td>260654</td>\n",
       "      <td>284150</td>\n",
       "      <td>5094</td>\n",
       "      <td>2509</td>\n",
       "      <td>2585</td>\n",
       "      <td>2.33</td>\n",
       "      <td>72602</td>\n",
       "      <td>동남권</td>\n",
       "    </tr>\n",
       "    <tr>\n",
       "      <th>23</th>\n",
       "      <td>2020.1/4</td>\n",
       "      <td>송파구</td>\n",
       "      <td>279301</td>\n",
       "      <td>680883</td>\n",
       "      <td>329058</td>\n",
       "      <td>351825</td>\n",
       "      <td>674095</td>\n",
       "      <td>325859</td>\n",
       "      <td>348236</td>\n",
       "      <td>6788</td>\n",
       "      <td>3199</td>\n",
       "      <td>3589</td>\n",
       "      <td>2.41</td>\n",
       "      <td>89539</td>\n",
       "      <td>동남권</td>\n",
       "    </tr>\n",
       "    <tr>\n",
       "      <th>24</th>\n",
       "      <td>2020.1/4</td>\n",
       "      <td>강동구</td>\n",
       "      <td>190019</td>\n",
       "      <td>457042</td>\n",
       "      <td>225226</td>\n",
       "      <td>231816</td>\n",
       "      <td>452646</td>\n",
       "      <td>223189</td>\n",
       "      <td>229457</td>\n",
       "      <td>4396</td>\n",
       "      <td>2037</td>\n",
       "      <td>2359</td>\n",
       "      <td>2.38</td>\n",
       "      <td>66401</td>\n",
       "      <td>동남권</td>\n",
       "    </tr>\n",
       "  </tbody>\n",
       "</table>\n",
       "</div>"
      ],
      "text/plain": [
       "          기간   자치구      세대      합계      남자      여자   한국인 계  한국인 남자  한국인 여자  \\\n",
       "0   2020.1/4   종로구   74151  161984   78271   83713  151217   73704   77513   \n",
       "1   2020.1/4    중구   63045  136469   66769   69700  126175   61839   64336   \n",
       "2   2020.1/4   용산구  110895  246165  119961  126204  229579  110667  118912   \n",
       "3   2020.1/4   성동구  135643  307193  149891  157302  299042  146300  152742   \n",
       "4   2020.1/4   광진구  165287  365990  176226  189764  350417  169568  180849   \n",
       "5   2020.1/4  동대문구  165279  362793  178202  184591  346156  171896  174260   \n",
       "6   2020.1/4   중랑구  182220  400678  198122  202556  395619  196076  199543   \n",
       "7   2020.1/4   성북구  193801  454532  218561  235971  442494  213926  228568   \n",
       "8   2020.1/4   강북구  144805  316750  154141  162609  312985  152747  160238   \n",
       "9   2020.1/4   도봉구  138595  333495  162774  170721  331238  161879  169359   \n",
       "10  2020.1/4   노원구  217148  535495  258696  276799  531037  256726  274311   \n",
       "11  2020.1/4   은평구  208209  482509  231953  250556  478019  230147  247872   \n",
       "12  2020.1/4  서대문구  142109  325875  154502  171373  312642  150051  162591   \n",
       "13  2020.1/4   마포구  176133  386086  181204  204882  374570  176943  197627   \n",
       "14  2020.1/4   양천구  177436  460532  226109  234423  456339  224241  232098   \n",
       "15  2020.1/4   강서구  263645  595703  288134  307569  589302  285085  304217   \n",
       "16  2020.1/4   구로구  177275  438308  218970  219338  405837  200558  205279   \n",
       "17  2020.1/4   금천구  111542  251370  128643  122727  232583  118044  114539   \n",
       "18  2020.1/4  영등포구  177743  404766  202617  202149  371903  184316  187587   \n",
       "19  2020.1/4   동작구  181761  407802  196943  210859  395014  191272  203742   \n",
       "20  2020.1/4   관악구  270760  516662  258982  257680  499374  250743  248631   \n",
       "21  2020.1/4   서초구  173580  434801  207877  226924  430568  205787  224781   \n",
       "22  2020.1/4   강남구  233624  549898  263163  286735  544804  260654  284150   \n",
       "23  2020.1/4   송파구  279301  680883  329058  351825  674095  325859  348236   \n",
       "24  2020.1/4   강동구  190019  457042  225226  231816  452646  223189  229457   \n",
       "\n",
       "    등록외국인 계  등록외국인 남자  등록외국인 여자  세대당인구  65세이상고령자   권역  \n",
       "0     10767      4567      6200   2.04     28073  도심권  \n",
       "1     10294      4930      5364   2.00     23794  도심권  \n",
       "2     16586      9294      7292   2.07     39439  도심권  \n",
       "3      8151      3591      4560   2.20     44728  동북권  \n",
       "4     15573      6658      8915   2.12     48989  동북권  \n",
       "5     16637      6306     10331   2.09     60367  동북권  \n",
       "6      5059      2046      3013   2.17     66764  동북권  \n",
       "7     12038      4635      7403   2.28     72172  동북권  \n",
       "8      3765      1394      2371   2.16     61660  동북권  \n",
       "9      2257       895      1362   2.39     60023  동북권  \n",
       "10     4458      1970      2488   2.45     82682  동북권  \n",
       "11     4490      1806      2684   2.30     82245  서북권  \n",
       "12    13233      4451      8782   2.20     53038  서북권  \n",
       "13    11516      4261      7255   2.13     53283  서북권  \n",
       "14     4193      1868      2325   2.57     62761  서남권  \n",
       "15     6401      3049      3352   2.24     85992  서남권  \n",
       "16    32471     18412     14059   2.29     67432  서남권  \n",
       "17    18787     10599      8188   2.09     38508  서남권  \n",
       "18    32863     18301     14562   2.09     59373  서남권  \n",
       "19    12788      5671      7117   2.17     63378  서남권  \n",
       "20    17288      8239      9049   1.84     76664  서남권  \n",
       "21     4233      2090      2143   2.48     58332  동남권  \n",
       "22     5094      2509      2585   2.33     72602  동남권  \n",
       "23     6788      3199      3589   2.41     89539  동남권  \n",
       "24     4396      2037      2359   2.38     66401  동남권  "
      ]
     },
     "execution_count": 19,
     "metadata": {},
     "output_type": "execute_result"
    }
   ],
   "source": [
    "df"
   ]
  },
  {
   "cell_type": "code",
   "execution_count": 20,
   "metadata": {
    "id": "jA73Osegh9Xm",
    "outputId": "56b5af2d-87fb-4989-8d52-357155d17705"
   },
   "outputs": [
    {
     "name": "stdout",
     "output_type": "stream",
     "text": [
      "정답입니다! 5점 누적 되었습니다!\n",
      "현재 누적 점수: 35 / 60\n"
     ]
    }
   ],
   "source": [
    "# 2-1\n",
    "\n",
    "check_02_01(df)"
   ]
  },
  {
   "cell_type": "markdown",
   "metadata": {
    "id": "sDqKoGaTh9Xm"
   },
   "source": [
    "### **문제 2-2)** 2-1에서 만든 DataFrame을 이용하여 Pandas의 pivot_table 메소드를 활용하여 각 권역별 아래 값의 합을 구하고, '합계'를 기준으로 내림차순 정렬하세요.      (5점)\n",
    "\n",
    "- 구할 값: ['합계', '세대', '여자', '한국인 계', '등록외국인 계', '65세이상고령자']\n",
    "\n",
    "- 참고: [Pivot Table](https://pandas.pydata.org/docs/reference/api/pandas.pivot_table.html)\n",
    "<br></br>\n",
    "    - 예시\n",
    "<br></br>\n",
    "    <img src=\"./images/01-2-2-001.png\" style=\"margin:auto\" width=150/>\n",
    "    <img src=\"./images/01-2-2-002.png\" style=\"margin:auto\" width=150/>\n",
    "<br></br>\n",
    "- 완료 후 결과 dataframe 변수를 check_02_02 함수에 입력하여 채점하세요."
   ]
  },
  {
   "cell_type": "code",
   "execution_count": 31,
   "metadata": {},
   "outputs": [],
   "source": [
    "df_pivot = pd.pivot_table(df, index = ['권역'], values = ['합계', '세대', '여자', '한국인 계', '등록외국인 계', '65세이상고령자'], aggfunc = 'sum')"
   ]
  },
  {
   "cell_type": "code",
   "execution_count": 33,
   "metadata": {},
   "outputs": [],
   "source": [
    "df_pivot.sort_values(by='합계', ascending = False, inplace = True)"
   ]
  },
  {
   "cell_type": "code",
   "execution_count": 34,
   "metadata": {},
   "outputs": [
    {
     "data": {
      "text/html": [
       "<div>\n",
       "<style scoped>\n",
       "    .dataframe tbody tr th:only-of-type {\n",
       "        vertical-align: middle;\n",
       "    }\n",
       "\n",
       "    .dataframe tbody tr th {\n",
       "        vertical-align: top;\n",
       "    }\n",
       "\n",
       "    .dataframe thead th {\n",
       "        text-align: right;\n",
       "    }\n",
       "</style>\n",
       "<table border=\"1\" class=\"dataframe\">\n",
       "  <thead>\n",
       "    <tr style=\"text-align: right;\">\n",
       "      <th></th>\n",
       "      <th>65세이상고령자</th>\n",
       "      <th>등록외국인 계</th>\n",
       "      <th>세대</th>\n",
       "      <th>여자</th>\n",
       "      <th>한국인 계</th>\n",
       "      <th>합계</th>\n",
       "    </tr>\n",
       "    <tr>\n",
       "      <th>권역</th>\n",
       "      <th></th>\n",
       "      <th></th>\n",
       "      <th></th>\n",
       "      <th></th>\n",
       "      <th></th>\n",
       "      <th></th>\n",
       "    </tr>\n",
       "  </thead>\n",
       "  <tbody>\n",
       "    <tr>\n",
       "      <th>동북권</th>\n",
       "      <td>497385</td>\n",
       "      <td>67938</td>\n",
       "      <td>1342778</td>\n",
       "      <td>1580313</td>\n",
       "      <td>3008988</td>\n",
       "      <td>3076926</td>\n",
       "    </tr>\n",
       "    <tr>\n",
       "      <th>서남권</th>\n",
       "      <td>454108</td>\n",
       "      <td>124791</td>\n",
       "      <td>1360162</td>\n",
       "      <td>1554745</td>\n",
       "      <td>2950352</td>\n",
       "      <td>3075143</td>\n",
       "    </tr>\n",
       "    <tr>\n",
       "      <th>동남권</th>\n",
       "      <td>286874</td>\n",
       "      <td>20511</td>\n",
       "      <td>876524</td>\n",
       "      <td>1097300</td>\n",
       "      <td>2102113</td>\n",
       "      <td>2122624</td>\n",
       "    </tr>\n",
       "    <tr>\n",
       "      <th>서북권</th>\n",
       "      <td>188566</td>\n",
       "      <td>29239</td>\n",
       "      <td>526451</td>\n",
       "      <td>626811</td>\n",
       "      <td>1165231</td>\n",
       "      <td>1194470</td>\n",
       "    </tr>\n",
       "    <tr>\n",
       "      <th>도심권</th>\n",
       "      <td>91306</td>\n",
       "      <td>37647</td>\n",
       "      <td>248091</td>\n",
       "      <td>279617</td>\n",
       "      <td>506971</td>\n",
       "      <td>544618</td>\n",
       "    </tr>\n",
       "  </tbody>\n",
       "</table>\n",
       "</div>"
      ],
      "text/plain": [
       "     65세이상고령자  등록외국인 계       세대       여자    한국인 계       합계\n",
       "권역                                                        \n",
       "동북권    497385    67938  1342778  1580313  3008988  3076926\n",
       "서남권    454108   124791  1360162  1554745  2950352  3075143\n",
       "동남권    286874    20511   876524  1097300  2102113  2122624\n",
       "서북권    188566    29239   526451   626811  1165231  1194470\n",
       "도심권     91306    37647   248091   279617   506971   544618"
      ]
     },
     "execution_count": 34,
     "metadata": {},
     "output_type": "execute_result"
    }
   ],
   "source": [
    "df_pivot"
   ]
  },
  {
   "cell_type": "code",
   "execution_count": 35,
   "metadata": {
    "id": "VaQyfyX6h9Xm",
    "outputId": "317d5583-7708-485c-a223-2f015076e9ab"
   },
   "outputs": [
    {
     "name": "stdout",
     "output_type": "stream",
     "text": [
      "정답입니다! 5점 누적 되었습니다!\n",
      "현재 누적 점수: 40 / 60\n"
     ]
    }
   ],
   "source": [
    "# 2-2\n",
    "\n",
    "check_02_02(df_pivot)"
   ]
  },
  {
   "cell_type": "code",
   "execution_count": null,
   "metadata": {
    "id": "LZKWW68Nh9Xn",
    "outputId": "4ab08efb-6e33-48a0-cd6b-257a6c405a6a"
   },
   "outputs": [
    {
     "data": {
      "text/html": [
       "<div>\n",
       "<style scoped>\n",
       "    .dataframe tbody tr th:only-of-type {\n",
       "        vertical-align: middle;\n",
       "    }\n",
       "\n",
       "    .dataframe tbody tr th {\n",
       "        vertical-align: top;\n",
       "    }\n",
       "\n",
       "    .dataframe thead th {\n",
       "        text-align: right;\n",
       "    }\n",
       "</style>\n",
       "<table border=\"1\" class=\"dataframe\">\n",
       "  <thead>\n",
       "    <tr style=\"text-align: right;\">\n",
       "      <th></th>\n",
       "      <th>65세이상고령자</th>\n",
       "      <th>등록외국인 계</th>\n",
       "      <th>세대</th>\n",
       "      <th>여자</th>\n",
       "      <th>한국인 계</th>\n",
       "      <th>합계</th>\n",
       "    </tr>\n",
       "    <tr>\n",
       "      <th>권역</th>\n",
       "      <th></th>\n",
       "      <th></th>\n",
       "      <th></th>\n",
       "      <th></th>\n",
       "      <th></th>\n",
       "      <th></th>\n",
       "    </tr>\n",
       "  </thead>\n",
       "  <tbody>\n",
       "    <tr>\n",
       "      <th>동북권</th>\n",
       "      <td>497385</td>\n",
       "      <td>67938</td>\n",
       "      <td>1342778</td>\n",
       "      <td>1580313</td>\n",
       "      <td>3008988</td>\n",
       "      <td>3076926</td>\n",
       "    </tr>\n",
       "    <tr>\n",
       "      <th>서남권</th>\n",
       "      <td>454108</td>\n",
       "      <td>124791</td>\n",
       "      <td>1360162</td>\n",
       "      <td>1554745</td>\n",
       "      <td>2950352</td>\n",
       "      <td>3075143</td>\n",
       "    </tr>\n",
       "    <tr>\n",
       "      <th>동남권</th>\n",
       "      <td>286874</td>\n",
       "      <td>20511</td>\n",
       "      <td>876524</td>\n",
       "      <td>1097300</td>\n",
       "      <td>2102113</td>\n",
       "      <td>2122624</td>\n",
       "    </tr>\n",
       "    <tr>\n",
       "      <th>서북권</th>\n",
       "      <td>188566</td>\n",
       "      <td>29239</td>\n",
       "      <td>526451</td>\n",
       "      <td>626811</td>\n",
       "      <td>1165231</td>\n",
       "      <td>1194470</td>\n",
       "    </tr>\n",
       "    <tr>\n",
       "      <th>도심권</th>\n",
       "      <td>91306</td>\n",
       "      <td>37647</td>\n",
       "      <td>248091</td>\n",
       "      <td>279617</td>\n",
       "      <td>506971</td>\n",
       "      <td>544618</td>\n",
       "    </tr>\n",
       "  </tbody>\n",
       "</table>\n",
       "</div>"
      ],
      "text/plain": [
       "     65세이상고령자  등록외국인 계       세대       여자    한국인 계       합계\n",
       "권역                                                        \n",
       "동북권    497385    67938  1342778  1580313  3008988  3076926\n",
       "서남권    454108   124791  1360162  1554745  2950352  3075143\n",
       "동남권    286874    20511   876524  1097300  2102113  2122624\n",
       "서북권    188566    29239   526451   626811  1165231  1194470\n",
       "도심권     91306    37647   248091   279617   506971   544618"
      ]
     },
     "execution_count": 13,
     "metadata": {},
     "output_type": "execute_result"
    }
   ],
   "source": [
    "# df_pivot"
   ]
  },
  {
   "cell_type": "markdown",
   "metadata": {
    "id": "Mg77aaHkh9Xn"
   },
   "source": [
    "### **문제 2-3)** 2-2에서 만든 Pivot Table을 이용하여 각 권역별 ['고령자비율', '외국인비율', '여성비율', '세대당인구'] 컬럼을 만들어 아래와 같이 값을 입력하고 '외국인비율'을 기준으로 오름차순 정렬하세요.  (5점)\n",
    "\n",
    "- 고령자비율: 65세이상고령자 / 합계 * 100\n",
    "\n",
    "- 외국인비율: 등록외국인 계 / 합계 * 100\n",
    "\n",
    "- 여성비율: 여자 / 합계 * 100\n",
    "\n",
    "- 세대당인구: (합계 - 등록외국인 계) / 세대\n",
    "<br></br>\n",
    "- 예시: B/C 비율 및  B 기준 오름차순 정렬\n",
    "<br></br>\n",
    "    <img src=\"./images/01-2-2-002.png\" style=\"margin:auto\" width=150/>\n",
    "    <img src=\"./images/01-2-3-001.png\" style=\"margin:auto\" width=230/>\n",
    "<br></br>\n",
    "- 완료 후 결과 dataframe 변수를 check_02_03 함수에 입력하여 채점하세요."
   ]
  },
  {
   "cell_type": "code",
   "execution_count": 36,
   "metadata": {},
   "outputs": [],
   "source": [
    "df_pivot['고령자비율'] = (df_pivot['65세이상고령자'] / df_pivot['합계']) * 100 \n",
    "df_pivot['외국인비율'] = (df_pivot['등록외국인 계'] / df_pivot['합계']) * 100 \n",
    "df_pivot['여성비율'] = (df_pivot['여자'] / df_pivot['합계']) * 100 \n",
    "df_pivot['세대당인구'] = (df_pivot['합계'] - df_pivot['등록외국인 계']) / df_pivot['세대']"
   ]
  },
  {
   "cell_type": "code",
   "execution_count": 38,
   "metadata": {},
   "outputs": [],
   "source": [
    "df_pivot.sort_values(by = '외국인비율', inplace = True)"
   ]
  },
  {
   "cell_type": "code",
   "execution_count": 39,
   "metadata": {
    "id": "Oa5iDbSvh9Xn",
    "outputId": "978dfef2-8127-4356-fe3c-b6298141887b"
   },
   "outputs": [
    {
     "name": "stdout",
     "output_type": "stream",
     "text": [
      "정답입니다! 5점 누적 되었습니다!\n",
      "현재 누적 점수: 45 / 60\n"
     ]
    }
   ],
   "source": [
    "# 2-3\n",
    "\n",
    "check_02_03(df_pivot)"
   ]
  },
  {
   "cell_type": "code",
   "execution_count": null,
   "metadata": {
    "id": "OKrCuRlUh9Xn",
    "outputId": "0a10fb22-c80c-4ad6-da98-7bf11b04ebf2"
   },
   "outputs": [
    {
     "data": {
      "text/html": [
       "<div>\n",
       "<style scoped>\n",
       "    .dataframe tbody tr th:only-of-type {\n",
       "        vertical-align: middle;\n",
       "    }\n",
       "\n",
       "    .dataframe tbody tr th {\n",
       "        vertical-align: top;\n",
       "    }\n",
       "\n",
       "    .dataframe thead th {\n",
       "        text-align: right;\n",
       "    }\n",
       "</style>\n",
       "<table border=\"1\" class=\"dataframe\">\n",
       "  <thead>\n",
       "    <tr style=\"text-align: right;\">\n",
       "      <th></th>\n",
       "      <th>65세이상고령자</th>\n",
       "      <th>등록외국인 계</th>\n",
       "      <th>세대</th>\n",
       "      <th>여자</th>\n",
       "      <th>한국인 계</th>\n",
       "      <th>합계</th>\n",
       "      <th>고령자비율</th>\n",
       "      <th>외국인비율</th>\n",
       "      <th>여성비율</th>\n",
       "      <th>세대당인구</th>\n",
       "    </tr>\n",
       "    <tr>\n",
       "      <th>권역</th>\n",
       "      <th></th>\n",
       "      <th></th>\n",
       "      <th></th>\n",
       "      <th></th>\n",
       "      <th></th>\n",
       "      <th></th>\n",
       "      <th></th>\n",
       "      <th></th>\n",
       "      <th></th>\n",
       "      <th></th>\n",
       "    </tr>\n",
       "  </thead>\n",
       "  <tbody>\n",
       "    <tr>\n",
       "      <th>동남권</th>\n",
       "      <td>286874</td>\n",
       "      <td>20511</td>\n",
       "      <td>876524</td>\n",
       "      <td>1097300</td>\n",
       "      <td>2102113</td>\n",
       "      <td>2122624</td>\n",
       "      <td>13.515064</td>\n",
       "      <td>0.966304</td>\n",
       "      <td>51.695449</td>\n",
       "      <td>2.398238</td>\n",
       "    </tr>\n",
       "    <tr>\n",
       "      <th>동북권</th>\n",
       "      <td>497385</td>\n",
       "      <td>67938</td>\n",
       "      <td>1342778</td>\n",
       "      <td>1580313</td>\n",
       "      <td>3008988</td>\n",
       "      <td>3076926</td>\n",
       "      <td>16.164997</td>\n",
       "      <td>2.207983</td>\n",
       "      <td>51.360124</td>\n",
       "      <td>2.240868</td>\n",
       "    </tr>\n",
       "    <tr>\n",
       "      <th>서북권</th>\n",
       "      <td>188566</td>\n",
       "      <td>29239</td>\n",
       "      <td>526451</td>\n",
       "      <td>626811</td>\n",
       "      <td>1165231</td>\n",
       "      <td>1194470</td>\n",
       "      <td>15.786583</td>\n",
       "      <td>2.447864</td>\n",
       "      <td>52.476077</td>\n",
       "      <td>2.213370</td>\n",
       "    </tr>\n",
       "    <tr>\n",
       "      <th>서남권</th>\n",
       "      <td>454108</td>\n",
       "      <td>124791</td>\n",
       "      <td>1360162</td>\n",
       "      <td>1554745</td>\n",
       "      <td>2950352</td>\n",
       "      <td>3075143</td>\n",
       "      <td>14.767053</td>\n",
       "      <td>4.058055</td>\n",
       "      <td>50.558462</td>\n",
       "      <td>2.169118</td>\n",
       "    </tr>\n",
       "    <tr>\n",
       "      <th>도심권</th>\n",
       "      <td>91306</td>\n",
       "      <td>37647</td>\n",
       "      <td>248091</td>\n",
       "      <td>279617</td>\n",
       "      <td>506971</td>\n",
       "      <td>544618</td>\n",
       "      <td>16.765145</td>\n",
       "      <td>6.912552</td>\n",
       "      <td>51.341858</td>\n",
       "      <td>2.043488</td>\n",
       "    </tr>\n",
       "  </tbody>\n",
       "</table>\n",
       "</div>"
      ],
      "text/plain": [
       "     65세이상고령자  등록외국인 계       세대       여자    한국인 계       합계      고령자비율  \\\n",
       "권역                                                                      \n",
       "동남권    286874    20511   876524  1097300  2102113  2122624  13.515064   \n",
       "동북권    497385    67938  1342778  1580313  3008988  3076926  16.164997   \n",
       "서북권    188566    29239   526451   626811  1165231  1194470  15.786583   \n",
       "서남권    454108   124791  1360162  1554745  2950352  3075143  14.767053   \n",
       "도심권     91306    37647   248091   279617   506971   544618  16.765145   \n",
       "\n",
       "        외국인비율       여성비율     세대당인구  \n",
       "권역                                  \n",
       "동남권  0.966304  51.695449  2.398238  \n",
       "동북권  2.207983  51.360124  2.240868  \n",
       "서북권  2.447864  52.476077  2.213370  \n",
       "서남권  4.058055  50.558462  2.169118  \n",
       "도심권  6.912552  51.341858  2.043488  "
      ]
     },
     "execution_count": 15,
     "metadata": {},
     "output_type": "execute_result"
    }
   ],
   "source": [
    "# df_pivot"
   ]
  },
  {
   "cell_type": "markdown",
   "metadata": {
    "id": "wBfpjoaOh9Xn"
   },
   "source": [
    "### **문제 2-4)** 2-1에서 만든 DataFrame을 이용하여 각 구별 ['고령자비율', '외국인비율', '여성비율'] 컬럼을 만들어 아래와 같이 값을 입력하고 '세대당인구'을 기준으로 내림차순 정렬하세요.  (5점)\n",
    "- 고령자비율: 65세이상고령자 / 합계 * 100\n",
    "- 외국인비율: 등록외국인 계 / 합계 * 100\n",
    "- 여성비율: 여자 / 합계 * 100\n",
    "- 완료 후 결과 dataframe 변수를 check_02_04 함수에 입력하여 채점하세요."
   ]
  },
  {
   "cell_type": "code",
   "execution_count": 41,
   "metadata": {},
   "outputs": [],
   "source": [
    "df['고령자비율'] = (df['65세이상고령자'] / df['합계']) * 100\n",
    "df['외국인비율'] = (df['등록외국인 계'] / df['합계']) * 100\n",
    "df['여성비율'] = (df['여자'] / df['합계']) * 100"
   ]
  },
  {
   "cell_type": "code",
   "execution_count": 43,
   "metadata": {},
   "outputs": [],
   "source": [
    "df.sort_values(by = '세대당인구', ascending = False, inplace = True)"
   ]
  },
  {
   "cell_type": "code",
   "execution_count": 44,
   "metadata": {},
   "outputs": [
    {
     "data": {
      "text/html": [
       "<div>\n",
       "<style scoped>\n",
       "    .dataframe tbody tr th:only-of-type {\n",
       "        vertical-align: middle;\n",
       "    }\n",
       "\n",
       "    .dataframe tbody tr th {\n",
       "        vertical-align: top;\n",
       "    }\n",
       "\n",
       "    .dataframe thead th {\n",
       "        text-align: right;\n",
       "    }\n",
       "</style>\n",
       "<table border=\"1\" class=\"dataframe\">\n",
       "  <thead>\n",
       "    <tr style=\"text-align: right;\">\n",
       "      <th></th>\n",
       "      <th>기간</th>\n",
       "      <th>자치구</th>\n",
       "      <th>세대</th>\n",
       "      <th>합계</th>\n",
       "      <th>남자</th>\n",
       "      <th>여자</th>\n",
       "      <th>한국인 계</th>\n",
       "      <th>한국인 남자</th>\n",
       "      <th>한국인 여자</th>\n",
       "      <th>등록외국인 계</th>\n",
       "      <th>등록외국인 남자</th>\n",
       "      <th>등록외국인 여자</th>\n",
       "      <th>세대당인구</th>\n",
       "      <th>65세이상고령자</th>\n",
       "      <th>권역</th>\n",
       "      <th>고령자비율</th>\n",
       "      <th>외국인비율</th>\n",
       "      <th>여성비율</th>\n",
       "    </tr>\n",
       "  </thead>\n",
       "  <tbody>\n",
       "    <tr>\n",
       "      <th>1</th>\n",
       "      <td>2020.1/4</td>\n",
       "      <td>중구</td>\n",
       "      <td>63045</td>\n",
       "      <td>136469</td>\n",
       "      <td>66769</td>\n",
       "      <td>69700</td>\n",
       "      <td>126175</td>\n",
       "      <td>61839</td>\n",
       "      <td>64336</td>\n",
       "      <td>10294</td>\n",
       "      <td>4930</td>\n",
       "      <td>5364</td>\n",
       "      <td>2.00</td>\n",
       "      <td>23794</td>\n",
       "      <td>도심권</td>\n",
       "      <td>17.435462</td>\n",
       "      <td>7.543105</td>\n",
       "      <td>51.073870</td>\n",
       "    </tr>\n",
       "    <tr>\n",
       "      <th>20</th>\n",
       "      <td>2020.1/4</td>\n",
       "      <td>관악구</td>\n",
       "      <td>270760</td>\n",
       "      <td>516662</td>\n",
       "      <td>258982</td>\n",
       "      <td>257680</td>\n",
       "      <td>499374</td>\n",
       "      <td>250743</td>\n",
       "      <td>248631</td>\n",
       "      <td>17288</td>\n",
       "      <td>8239</td>\n",
       "      <td>9049</td>\n",
       "      <td>1.84</td>\n",
       "      <td>76664</td>\n",
       "      <td>서남권</td>\n",
       "      <td>14.838328</td>\n",
       "      <td>3.346095</td>\n",
       "      <td>49.873999</td>\n",
       "    </tr>\n",
       "  </tbody>\n",
       "</table>\n",
       "</div>"
      ],
      "text/plain": [
       "          기간  자치구      세대      합계      남자      여자   한국인 계  한국인 남자  한국인 여자  \\\n",
       "1   2020.1/4   중구   63045  136469   66769   69700  126175   61839   64336   \n",
       "20  2020.1/4  관악구  270760  516662  258982  257680  499374  250743  248631   \n",
       "\n",
       "    등록외국인 계  등록외국인 남자  등록외국인 여자  세대당인구  65세이상고령자   권역      고령자비율     외국인비율  \\\n",
       "1     10294      4930      5364   2.00     23794  도심권  17.435462  7.543105   \n",
       "20    17288      8239      9049   1.84     76664  서남권  14.838328  3.346095   \n",
       "\n",
       "         여성비율  \n",
       "1   51.073870  \n",
       "20  49.873999  "
      ]
     },
     "execution_count": 44,
     "metadata": {},
     "output_type": "execute_result"
    }
   ],
   "source": [
    "df.tail(2)"
   ]
  },
  {
   "cell_type": "code",
   "execution_count": null,
   "metadata": {},
   "outputs": [],
   "source": []
  },
  {
   "cell_type": "code",
   "execution_count": null,
   "metadata": {},
   "outputs": [],
   "source": []
  },
  {
   "cell_type": "code",
   "execution_count": 45,
   "metadata": {
    "id": "ZZoUMo5ih9Xn",
    "outputId": "4c0049c3-7660-4ee2-ac84-d28c5ee629e0"
   },
   "outputs": [
    {
     "name": "stdout",
     "output_type": "stream",
     "text": [
      "정답입니다! 5점 누적 되었습니다!\n",
      "현재 누적 점수: 50 / 60\n"
     ]
    }
   ],
   "source": [
    "# 2-4\n",
    "\n",
    "check_02_04(df)"
   ]
  },
  {
   "cell_type": "code",
   "execution_count": null,
   "metadata": {
    "id": "9LNW_D5Ah9Xn",
    "outputId": "4cfc0eac-65af-4fcf-9180-694cbee8b59e"
   },
   "outputs": [
    {
     "data": {
      "text/html": [
       "<div>\n",
       "<style scoped>\n",
       "    .dataframe tbody tr th:only-of-type {\n",
       "        vertical-align: middle;\n",
       "    }\n",
       "\n",
       "    .dataframe tbody tr th {\n",
       "        vertical-align: top;\n",
       "    }\n",
       "\n",
       "    .dataframe thead th {\n",
       "        text-align: right;\n",
       "    }\n",
       "</style>\n",
       "<table border=\"1\" class=\"dataframe\">\n",
       "  <thead>\n",
       "    <tr style=\"text-align: right;\">\n",
       "      <th></th>\n",
       "      <th>기간</th>\n",
       "      <th>자치구</th>\n",
       "      <th>세대</th>\n",
       "      <th>합계</th>\n",
       "      <th>남자</th>\n",
       "      <th>여자</th>\n",
       "      <th>한국인 계</th>\n",
       "      <th>한국인 남자</th>\n",
       "      <th>한국인 여자</th>\n",
       "      <th>등록외국인 계</th>\n",
       "      <th>등록외국인 남자</th>\n",
       "      <th>등록외국인 여자</th>\n",
       "      <th>세대당인구</th>\n",
       "      <th>65세이상고령자</th>\n",
       "      <th>권역</th>\n",
       "      <th>고령자비율</th>\n",
       "      <th>외국인비율</th>\n",
       "      <th>여성비율</th>\n",
       "    </tr>\n",
       "  </thead>\n",
       "  <tbody>\n",
       "    <tr>\n",
       "      <th>1</th>\n",
       "      <td>2020.1/4</td>\n",
       "      <td>중구</td>\n",
       "      <td>63045</td>\n",
       "      <td>136469</td>\n",
       "      <td>66769</td>\n",
       "      <td>69700</td>\n",
       "      <td>126175</td>\n",
       "      <td>61839</td>\n",
       "      <td>64336</td>\n",
       "      <td>10294</td>\n",
       "      <td>4930</td>\n",
       "      <td>5364</td>\n",
       "      <td>2.00</td>\n",
       "      <td>23794</td>\n",
       "      <td>도심권</td>\n",
       "      <td>17.435462</td>\n",
       "      <td>7.543105</td>\n",
       "      <td>51.073870</td>\n",
       "    </tr>\n",
       "    <tr>\n",
       "      <th>20</th>\n",
       "      <td>2020.1/4</td>\n",
       "      <td>관악구</td>\n",
       "      <td>270760</td>\n",
       "      <td>516662</td>\n",
       "      <td>258982</td>\n",
       "      <td>257680</td>\n",
       "      <td>499374</td>\n",
       "      <td>250743</td>\n",
       "      <td>248631</td>\n",
       "      <td>17288</td>\n",
       "      <td>8239</td>\n",
       "      <td>9049</td>\n",
       "      <td>1.84</td>\n",
       "      <td>76664</td>\n",
       "      <td>서남권</td>\n",
       "      <td>14.838328</td>\n",
       "      <td>3.346095</td>\n",
       "      <td>49.873999</td>\n",
       "    </tr>\n",
       "  </tbody>\n",
       "</table>\n",
       "</div>"
      ],
      "text/plain": [
       "          기간  자치구      세대      합계      남자      여자   한국인 계  한국인 남자  한국인 여자  \\\n",
       "1   2020.1/4   중구   63045  136469   66769   69700  126175   61839   64336   \n",
       "20  2020.1/4  관악구  270760  516662  258982  257680  499374  250743  248631   \n",
       "\n",
       "    등록외국인 계  등록외국인 남자  등록외국인 여자  세대당인구  65세이상고령자   권역      고령자비율     외국인비율  \\\n",
       "1     10294      4930      5364   2.00     23794  도심권  17.435462  7.543105   \n",
       "20    17288      8239      9049   1.84     76664  서남권  14.838328  3.346095   \n",
       "\n",
       "         여성비율  \n",
       "1   51.073870  \n",
       "20  49.873999  "
      ]
     },
     "execution_count": 17,
     "metadata": {},
     "output_type": "execute_result"
    }
   ],
   "source": [
    "# df_target.tail(2)"
   ]
  },
  {
   "cell_type": "markdown",
   "metadata": {
    "id": "rFXKBizth9Xn"
   },
   "source": [
    "### **문제 2-5)** 2-3에서 만든 DataFrame을 이용하여 ['고령자비율', '외국인비율', '여성비율', '세대당인구']간의 피어슨 상관계수 행렬(Correlation matrix)를 구하세요. (10점)\n",
    "\n",
    "- 참고\n",
    "    - 상관계수(correlation coefficient): 두 변수가 함께 변하는 정도를 -1 ~ +1 범위의 수로 나타낸 것\n",
    "\n",
    "    - 피어슨 상관계수: 칼 피어슨(Karl Pearson)이 개발한 상관계수로, 일반적으로 상관계수라고 하면 피어슨 상관계수를 말함\n",
    "        - Standard Correlation Coefficient\n",
    "        - r(상관계수) = X와 Y가 함께 변하는 정도 / X와 Y가 각각 변하는 정도\n",
    "<br></br>\n",
    "    - 상관계수 행렬(Correlation Matrix): 변수간 상관계수를 보여주는 행렬\n",
    "<br></br>\n",
    "        - 예시: dog와 cat간의 상관계수 행렬\n",
    "<br></br>\n",
    "        <img src='./images/01-2-5-001.png' width=150>\n",
    "        <img src='./images/01-2-5-002.png' width=350>\n",
    "<br></br>\n",
    "- 완료 후 결과 dataframe 변수를 check_02_05 함수에 입력하여 채점하세요."
   ]
  },
  {
   "cell_type": "code",
   "execution_count": 49,
   "metadata": {},
   "outputs": [],
   "source": [
    "pivot_corr = df_pivot[['고령자비율', '외국인비율', '여성비율', '세대당인구']].corr(method = 'pearson')"
   ]
  },
  {
   "cell_type": "code",
   "execution_count": 50,
   "metadata": {},
   "outputs": [
    {
     "data": {
      "text/html": [
       "<div>\n",
       "<style scoped>\n",
       "    .dataframe tbody tr th:only-of-type {\n",
       "        vertical-align: middle;\n",
       "    }\n",
       "\n",
       "    .dataframe tbody tr th {\n",
       "        vertical-align: top;\n",
       "    }\n",
       "\n",
       "    .dataframe thead th {\n",
       "        text-align: right;\n",
       "    }\n",
       "</style>\n",
       "<table border=\"1\" class=\"dataframe\">\n",
       "  <thead>\n",
       "    <tr style=\"text-align: right;\">\n",
       "      <th></th>\n",
       "      <th>고령자비율</th>\n",
       "      <th>외국인비율</th>\n",
       "      <th>여성비율</th>\n",
       "      <th>세대당인구</th>\n",
       "    </tr>\n",
       "  </thead>\n",
       "  <tbody>\n",
       "    <tr>\n",
       "      <th>고령자비율</th>\n",
       "      <td>1.000000</td>\n",
       "      <td>0.655428</td>\n",
       "      <td>0.079476</td>\n",
       "      <td>-0.809536</td>\n",
       "    </tr>\n",
       "    <tr>\n",
       "      <th>외국인비율</th>\n",
       "      <td>0.655428</td>\n",
       "      <td>1.000000</td>\n",
       "      <td>-0.380941</td>\n",
       "      <td>-0.943776</td>\n",
       "    </tr>\n",
       "    <tr>\n",
       "      <th>여성비율</th>\n",
       "      <td>0.079476</td>\n",
       "      <td>-0.380941</td>\n",
       "      <td>1.000000</td>\n",
       "      <td>0.283602</td>\n",
       "    </tr>\n",
       "    <tr>\n",
       "      <th>세대당인구</th>\n",
       "      <td>-0.809536</td>\n",
       "      <td>-0.943776</td>\n",
       "      <td>0.283602</td>\n",
       "      <td>1.000000</td>\n",
       "    </tr>\n",
       "  </tbody>\n",
       "</table>\n",
       "</div>"
      ],
      "text/plain": [
       "          고령자비율     외국인비율      여성비율     세대당인구\n",
       "고령자비율  1.000000  0.655428  0.079476 -0.809536\n",
       "외국인비율  0.655428  1.000000 -0.380941 -0.943776\n",
       "여성비율   0.079476 -0.380941  1.000000  0.283602\n",
       "세대당인구 -0.809536 -0.943776  0.283602  1.000000"
      ]
     },
     "execution_count": 50,
     "metadata": {},
     "output_type": "execute_result"
    }
   ],
   "source": [
    "pivot_corr"
   ]
  },
  {
   "cell_type": "code",
   "execution_count": 51,
   "metadata": {
    "id": "C1TOxZ6xh9Xn",
    "outputId": "3f7aa098-9be3-4ce2-8c14-05e2f04a00e2"
   },
   "outputs": [
    {
     "name": "stdout",
     "output_type": "stream",
     "text": [
      "정답입니다! 10점 누적 되었습니다!\n",
      "현재 누적 점수: 60 / 60\n"
     ]
    },
    {
     "data": {
      "text/html": [
       "<div>\n",
       "<style scoped>\n",
       "    .dataframe tbody tr th:only-of-type {\n",
       "        vertical-align: middle;\n",
       "    }\n",
       "\n",
       "    .dataframe tbody tr th {\n",
       "        vertical-align: top;\n",
       "    }\n",
       "\n",
       "    .dataframe thead th {\n",
       "        text-align: right;\n",
       "    }\n",
       "</style>\n",
       "<table border=\"1\" class=\"dataframe\">\n",
       "  <thead>\n",
       "    <tr style=\"text-align: right;\">\n",
       "      <th></th>\n",
       "      <th>고령자비율</th>\n",
       "      <th>외국인비율</th>\n",
       "      <th>여성비율</th>\n",
       "      <th>세대당인구</th>\n",
       "    </tr>\n",
       "  </thead>\n",
       "  <tbody>\n",
       "    <tr>\n",
       "      <th>고령자비율</th>\n",
       "      <td>1.000000</td>\n",
       "      <td>0.655428</td>\n",
       "      <td>0.079476</td>\n",
       "      <td>-0.809536</td>\n",
       "    </tr>\n",
       "    <tr>\n",
       "      <th>외국인비율</th>\n",
       "      <td>0.655428</td>\n",
       "      <td>1.000000</td>\n",
       "      <td>-0.380941</td>\n",
       "      <td>-0.943776</td>\n",
       "    </tr>\n",
       "    <tr>\n",
       "      <th>여성비율</th>\n",
       "      <td>0.079476</td>\n",
       "      <td>-0.380941</td>\n",
       "      <td>1.000000</td>\n",
       "      <td>0.283602</td>\n",
       "    </tr>\n",
       "    <tr>\n",
       "      <th>세대당인구</th>\n",
       "      <td>-0.809536</td>\n",
       "      <td>-0.943776</td>\n",
       "      <td>0.283602</td>\n",
       "      <td>1.000000</td>\n",
       "    </tr>\n",
       "  </tbody>\n",
       "</table>\n",
       "</div>"
      ],
      "text/plain": [
       "          고령자비율     외국인비율      여성비율     세대당인구\n",
       "고령자비율  1.000000  0.655428  0.079476 -0.809536\n",
       "외국인비율  0.655428  1.000000 -0.380941 -0.943776\n",
       "여성비율   0.079476 -0.380941  1.000000  0.283602\n",
       "세대당인구 -0.809536 -0.943776  0.283602  1.000000"
      ]
     },
     "execution_count": 51,
     "metadata": {},
     "output_type": "execute_result"
    }
   ],
   "source": [
    "# 2-5\n",
    "\n",
    "check_02_05(pivot_corr)\n",
    "pivot_corr"
   ]
  },
  {
   "cell_type": "markdown",
   "metadata": {
    "id": "qt5tOPOKh9Xn"
   },
   "source": [
    "## 3단계: 시각화"
   ]
  },
  {
   "cell_type": "markdown",
   "metadata": {
    "id": "o74sE0Khh9Xn"
   },
   "source": [
    "### *Pandas DataFrame의 Plot기능, Matplotlib.pyplot, Seaborn 등 시각화 Library를 이용하여 문제에서 제시하는 조건에 맞게 시각화하세요.*\n",
    "***"
   ]
  },
  {
   "cell_type": "code",
   "execution_count": 57,
   "metadata": {},
   "outputs": [],
   "source": [
    "# 폰트 한글설정\n",
    "import koreanize_matplotlib"
   ]
  },
  {
   "cell_type": "markdown",
   "metadata": {
    "id": "yZjixT0sh9Xn"
   },
   "source": [
    "### **문제 3-1)** 자치구별 고령자비율을 내림차순에 따라 barh 그래프로 시각화 하세요.    (10점)\n",
    "\n",
    "- 예시\n",
    "<br></br>\n",
    "    <img src=\"./images/01-3-1-001.png\" style=\"margin:auto\" width=400/>"
   ]
  },
  {
   "cell_type": "code",
   "execution_count": 66,
   "metadata": {
    "id": "RHoI-30ph9Xn",
    "outputId": "e264bd48-4669-49a9-d0ce-2f508c8ebaf0"
   },
   "outputs": [
    {
     "data": {
      "image/png": "[encoded data removed]",
      "text/plain": [
       "<Figure size 1000x800 with 1 Axes>"
      ]
     },
     "metadata": {},
     "output_type": "display_data"
    }
   ],
   "source": [
    "# 3-1: barh\n",
    "df.sort_values(by = '고령자비율').plot(kind = 'barh', x = '자치구', y = '고령자비율', \n",
    "                                  grid = True, figsize = (10, 8));"
   ]
  },
  {
   "cell_type": "markdown",
   "metadata": {
    "id": "JUs5XxAch9Xo"
   },
   "source": [
    "### **문제 3-2)** 권역별 등록외국인 계를 PIE chart로 시각화 하세요.    (10점)\n",
    "\n",
    "- 예시\n",
    "<br></br>\n",
    "    <img src=\"./images/01-3-2-001.png\" style=\"margin:auto\" width=400/>"
   ]
  },
  {
   "cell_type": "code",
   "execution_count": 96,
   "metadata": {
    "id": "1ZlUj9cqh9Xo",
    "outputId": "aed83656-11ea-41dc-cbd0-70a8a7d05793"
   },
   "outputs": [],
   "source": [
    "# 3-2: Pie\n",
    "tmp_pivot = df.pivot_table(values = ['등록외국인 계'], index = ['권역'], aggfunc = 'sum')"
   ]
  },
  {
   "cell_type": "code",
   "execution_count": 132,
   "metadata": {},
   "outputs": [],
   "source": [
    "tmp_pivot.sort_values(by = '등록외국인 계', inplace = True)"
   ]
  },
  {
   "cell_type": "code",
   "execution_count": 133,
   "metadata": {},
   "outputs": [
    {
     "data": {
      "text/html": [
       "<div>\n",
       "<style scoped>\n",
       "    .dataframe tbody tr th:only-of-type {\n",
       "        vertical-align: middle;\n",
       "    }\n",
       "\n",
       "    .dataframe tbody tr th {\n",
       "        vertical-align: top;\n",
       "    }\n",
       "\n",
       "    .dataframe thead th {\n",
       "        text-align: right;\n",
       "    }\n",
       "</style>\n",
       "<table border=\"1\" class=\"dataframe\">\n",
       "  <thead>\n",
       "    <tr style=\"text-align: right;\">\n",
       "      <th></th>\n",
       "      <th>등록외국인 계</th>\n",
       "    </tr>\n",
       "    <tr>\n",
       "      <th>권역</th>\n",
       "      <th></th>\n",
       "    </tr>\n",
       "  </thead>\n",
       "  <tbody>\n",
       "    <tr>\n",
       "      <th>동남권</th>\n",
       "      <td>20511</td>\n",
       "    </tr>\n",
       "    <tr>\n",
       "      <th>서북권</th>\n",
       "      <td>29239</td>\n",
       "    </tr>\n",
       "    <tr>\n",
       "      <th>도심권</th>\n",
       "      <td>37647</td>\n",
       "    </tr>\n",
       "    <tr>\n",
       "      <th>동북권</th>\n",
       "      <td>67938</td>\n",
       "    </tr>\n",
       "    <tr>\n",
       "      <th>서남권</th>\n",
       "      <td>124791</td>\n",
       "    </tr>\n",
       "  </tbody>\n",
       "</table>\n",
       "</div>"
      ],
      "text/plain": [
       "     등록외국인 계\n",
       "권역          \n",
       "동남권    20511\n",
       "서북권    29239\n",
       "도심권    37647\n",
       "동북권    67938\n",
       "서남권   124791"
      ]
     },
     "execution_count": 133,
     "metadata": {},
     "output_type": "execute_result"
    }
   ],
   "source": [
    "tmp_pivot"
   ]
  },
  {
   "cell_type": "code",
   "execution_count": 136,
   "metadata": {},
   "outputs": [
    {
     "data": {
      "image/png": "[encoded data removed]",
      "text/plain": [
       "<Figure size 1000x1000 with 1 Axes>"
      ]
     },
     "metadata": {},
     "output_type": "display_data"
    }
   ],
   "source": [
    "plt.figure(figsize = (10, 10))\n",
    "plt.text(-1.3, 0, '등록외국인 계',\n",
    "         rotation=90, ha='center', va='bottom')\n",
    "plt.pie(x = tmp_pivot['등록외국인 계'],labels = tmp_pivot.index, startangle = 0)\n",
    "plt.legend()\n",
    "plt.show()"
   ]
  },
  {
   "cell_type": "markdown",
   "metadata": {
    "id": "GuVYSqFGh9Xo"
   },
   "source": [
    "### **문제 3-3)** 권역별 외국인비율을 Box plot으로 시각화 하세요.    (10점)\n",
    "\n",
    "- 예시\n",
    "<br></br>\n",
    "    <img src=\"./images/01-3-3-001.png\" style=\"margin:auto\" width=400/>"
   ]
  },
  {
   "cell_type": "code",
   "execution_count": 234,
   "metadata": {
    "id": "R54NSMvFh9Xs",
    "outputId": "0235847c-3aee-4c4d-ed21-a9b9bed80925"
   },
   "outputs": [],
   "source": [
    "# 3-3: Boxplot\n",
    "tmp_grouped = df.pivot_table(index = ['권역','자치구'], values = ['외국인비율'])"
   ]
  },
  {
   "cell_type": "code",
   "execution_count": 235,
   "metadata": {},
   "outputs": [
    {
     "data": {
      "text/html": [
       "<div>\n",
       "<style scoped>\n",
       "    .dataframe tbody tr th:only-of-type {\n",
       "        vertical-align: middle;\n",
       "    }\n",
       "\n",
       "    .dataframe tbody tr th {\n",
       "        vertical-align: top;\n",
       "    }\n",
       "\n",
       "    .dataframe thead th {\n",
       "        text-align: right;\n",
       "    }\n",
       "</style>\n",
       "<table border=\"1\" class=\"dataframe\">\n",
       "  <thead>\n",
       "    <tr style=\"text-align: right;\">\n",
       "      <th></th>\n",
       "      <th></th>\n",
       "      <th>외국인비율</th>\n",
       "    </tr>\n",
       "    <tr>\n",
       "      <th>권역</th>\n",
       "      <th>자치구</th>\n",
       "      <th></th>\n",
       "    </tr>\n",
       "  </thead>\n",
       "  <tbody>\n",
       "    <tr>\n",
       "      <th rowspan=\"3\" valign=\"top\">도심권</th>\n",
       "      <th>용산구</th>\n",
       "      <td>6.737757</td>\n",
       "    </tr>\n",
       "    <tr>\n",
       "      <th>종로구</th>\n",
       "      <td>6.646953</td>\n",
       "    </tr>\n",
       "    <tr>\n",
       "      <th>중구</th>\n",
       "      <td>7.543105</td>\n",
       "    </tr>\n",
       "    <tr>\n",
       "      <th rowspan=\"2\" valign=\"top\">동남권</th>\n",
       "      <th>강남구</th>\n",
       "      <td>0.926354</td>\n",
       "    </tr>\n",
       "    <tr>\n",
       "      <th>강동구</th>\n",
       "      <td>0.961837</td>\n",
       "    </tr>\n",
       "  </tbody>\n",
       "</table>\n",
       "</div>"
      ],
      "text/plain": [
       "            외국인비율\n",
       "권역  자치구          \n",
       "도심권 용산구  6.737757\n",
       "    종로구  6.646953\n",
       "    중구   7.543105\n",
       "동남권 강남구  0.926354\n",
       "    강동구  0.961837"
      ]
     },
     "execution_count": 235,
     "metadata": {},
     "output_type": "execute_result"
    }
   ],
   "source": [
    "tmp_grouped.head()"
   ]
  },
  {
   "cell_type": "code",
   "execution_count": 289,
   "metadata": {},
   "outputs": [
    {
     "data": {
      "image/png": "[encoded data removed]",
      "text/plain": [
       "<Figure size 1200x1200 with 1 Axes>"
      ]
     },
     "metadata": {},
     "output_type": "display_data"
    }
   ],
   "source": [
    "# tmp_grouped에서 '외국인비율' 데이터를 추출하고, 인덱스 레벨 값을 기준으로 그룹화\n",
    "grouped_data = tmp_grouped['외국인비율']\n",
    "grouped_data = grouped_data.groupby(tmp_grouped.index.get_level_values(0))\n",
    "\n",
    "# 박스플롯을 그리기 위한 데이터 리스트를 생성\n",
    "data_to_plot = [group for name, group in grouped_data]\n",
    "\n",
    "# 박스플롯 생성\n",
    "fig, ax = plt.subplots(figsize = (12, 12))\n",
    "\n",
    "# 박스플롯 그리기\n",
    "# 맷플롯립 boxplot그리면 속성들 담긴 딕셔너리를 반환함\n",
    "bp = ax.boxplot(data_to_plot)\n",
    "\n",
    "# X축 레이블 설정\n",
    "ax.set_xticklabels(grouped_data.groups.keys())\n",
    "\n",
    "# 중앙값 라인 색 설정\n",
    "for median in bp['medians']:\n",
    "    median.set_color('green')\n",
    "    median.set_linewidth(1)\n",
    "    \n",
    "# quantile3 + 1.5 * IQR지점과 박스 연결해 주는 수염과\n",
    "# quantile1 - 1.5 * IQR지점과 박스 연결해 주는 수염 표시해주는 색 설정 \n",
    "for i in bp['whiskers']:\n",
    "    i.set_color('#2596be')\n",
    "    \n",
    "# 테두리 색 설정    \n",
    "for box in bp['boxes']:\n",
    "    box.set(color='#2596be')\n",
    "\n",
    "# 타이틀 및 레이블 설정\n",
    "ax.set_title('Boxplot grouped by 권역', pad = 40)\n",
    "ax.set_xlabel('권역')\n",
    "plt.xticks(fontsize = 15, fontweight = 550)\n",
    "plt.yticks(fontsize = 15, fontweight = 550)\n",
    "plt.text(3, 8.5, '외국인비율', ha='center', va='bottom', fontsize = 12, fontweight = 550)\n",
    "plt.grid(True)\n",
    "# 플롯 표시\n",
    "plt.show()"
   ]
  },
  {
   "cell_type": "markdown",
   "metadata": {
    "id": "s_8_fV8uh9Xs"
   },
   "source": [
    "### **문제 3-4)** 자치구별 외국인비율-세대당인구를 Scatter plot에 나타내고, 상관관계에 따른 Regression Line을 시각화 하세요.    (10점)\n",
    "\n",
    "- 예시\n",
    "<br></br>\n",
    "    <img src=\"./images/01-3-4-001.png\" style=\"margin:auto\" width=400/>"
   ]
  },
  {
   "cell_type": "code",
   "execution_count": 172,
   "metadata": {
    "id": "3Pf_KQlyh9Xs",
    "outputId": "654e9216-ed6c-4bad-f5c6-30308137f43f"
   },
   "outputs": [
    {
     "data": {
      "image/png": "[encoded data removed]",
      "text/plain": [
       "<Figure size 1000x1000 with 1 Axes>"
      ]
     },
     "metadata": {},
     "output_type": "display_data"
    }
   ],
   "source": [
    "# 3-4: scatterplot + regression\n",
    "plt.figure(figsize=(10,10))\n",
    "sns.regplot(data = df, x = '외국인비율', y = '세대당인구')\n",
    "plt.show()"
   ]
  },
  {
   "cell_type": "markdown",
   "metadata": {
    "id": "pwAzIuivh9Xs"
   },
   "source": [
    "***\n",
    "\n",
    "### 🎊 문제가 끝났습니다. 제출양식과 일정에 맞춰 제출해주시기를 바랍니다!\n",
    "\n",
    "### 제출양식\n",
    "- 이 파일은 EDA TEST 1회차 노트북입니다. 따라서 제출시 파일명은 아래와 같습니다.\n",
    "- [DS]edalvtest_01_yourname.ipynb\n",
    "\n",
    "***"
   ]
  },
  {
   "cell_type": "markdown",
   "metadata": {
    "id": "breWTR86h9Xs"
   },
   "source": [
    "# 문의사항 및 의견이 있는 경우 작성해주세요."
   ]
  },
  {
   "cell_type": "code",
   "execution_count": null,
   "metadata": {
    "id": "AlL91aqNh9Xs"
   },
   "outputs": [],
   "source": []
  }
 ],
 "metadata": {
  "colab": {
   "provenance": []
  },
  "interpreter": {
   "hash": "46e27ede752268be201d36b7fbc2802b29a11b0bb095abacecc6c0428b93624a"
  },
  "kernelspec": {
   "display_name": "Python 3 (ipykernel)",
   "language": "python",
   "name": "python3"
  },
  "language_info": {
   "codemirror_mode": {
    "name": "ipython",
    "version": 3
   },
   "file_extension": ".py",
   "mimetype": "text/x-python",
   "name": "python",
   "nbconvert_exporter": "python",
   "pygments_lexer": "ipython3",
   "version": "3.11.5"
  }
 },
 "nbformat": 4,
 "nbformat_minor": 4
}
